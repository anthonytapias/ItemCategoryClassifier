{
 "cells": [
  {
   "cell_type": "code",
   "execution_count": 7,
   "metadata": {},
   "outputs": [],
   "source": [
    "import requests\n",
    "from bs4 import BeautifulSoup\n",
    "import re\n",
    "import time"
   ]
  },
  {
   "cell_type": "code",
   "execution_count": 11,
   "metadata": {},
   "outputs": [],
   "source": [
    "categories = ['EDUCATION', 'BUSINESS', \n",
    "       'DATING', 'SPORTS', \n",
    "       'WEATHER', 'FOOD_AND_DRINK', \n",
    "       'HEALTH_AND_FITNESS', 'BEAUTY', \n",
    "       'MUSIC_AND_AUDIO', 'NEWS_AND_MAGAZINES']"
   ]
  },
  {
   "cell_type": "code",
   "execution_count": 9,
   "metadata": {},
   "outputs": [],
   "source": [
    "sports = requests.get('https://play.google.com/store/apps/category/BUSINESS/collection/topselling_free')\n",
    "sports_html = sports.text #data\n",
    "sports_data = BeautifulSoup(sports_html)\n",
    "links = get_links(sports_data)\n",
    "del links[0:107]\n",
    "sports_links = list(set(links))\n",
    "new_list = [app for app in sports_links if app.find('details') != -1] "
   ]
  },
  {
   "cell_type": "code",
   "execution_count": 10,
   "metadata": {
    "collapsed": true
   },
   "outputs": [
    {
     "data": {
      "text/plain": [
       "['/store/apps/details?id=com.bedpage',\n",
       " '/store/apps/details?id=com.workday.workdroidapp',\n",
       " '/store/apps/details?id=com.azure.authenticator',\n",
       " '/store/apps/details?id=com.ups.mobile.android',\n",
       " '/store/apps/details?id=com.cisco.webex.meetings',\n",
       " '/store/apps/details?id=unclaimed.money',\n",
       " '/store/apps/details?id=com.appxy.tinyscanner',\n",
       " '/store/apps/details?id=com.amway.americas.NA.businesscenter',\n",
       " '/store/apps/details?id=com.google.android.apps.vega',\n",
       " '/store/apps/details?id=com.ultimatesoftware.ultipromobile',\n",
       " '/store/apps/details?id=com.indeed.android.jobsearch',\n",
       " '/store/apps/details?id=com.titlemax.customerapp',\n",
       " '/store/apps/details?id=com.concur.breeze',\n",
       " '/store/apps/details?id=com.intuit.quickbooks',\n",
       " '/store/apps/details?id=com.fiverr.fiverr',\n",
       " '/store/apps/details?id=com.coolmobilesolution.fastscannerfree',\n",
       " '/store/apps/details?id=com.metropcs.service.vvm',\n",
       " '/store/apps/details?id=com.paylocity.paylocitymobile',\n",
       " '/store/apps/details?id=com.ubercab.driver',\n",
       " '/store/apps/details?id=com.Slack',\n",
       " '/store/apps/details?id=com.kronos.mobile.android',\n",
       " '/store/apps/details?id=com.logmein.gotowebinar',\n",
       " '/store/apps/details?id=com.bg.flyermaker',\n",
       " '/store/apps/details?id=com.simplescan.scanner',\n",
       " '/store/apps/details?id=com.google.android.apps.meetings',\n",
       " '/store/apps/details?id=com.crewapp.android.crew',\n",
       " '/store/apps/details?id=com.sideline.phone.number',\n",
       " '/store/apps/details?id=com.airwatch.androidagent',\n",
       " '/store/apps/details?id=com.duosecurity.duomobile',\n",
       " '/store/apps/details?id=com.godaddy.gdm.smartline',\n",
       " '/store/apps/details?id=com.security.antivirus.cleaner.guard',\n",
       " '/store/apps/details?id=com.gotomeeting',\n",
       " '/store/apps/details?id=com.paycor.perform',\n",
       " '/store/apps/details?id=com.etsy.android.soe',\n",
       " '/store/apps/details?id=com.microsoft.office.lync15',\n",
       " '/store/apps/details?id=com.dayforce.mobile',\n",
       " '/store/apps/details?id=com.hirevue.candidate.generic',\n",
       " '/store/apps/details?id=com.glassdoor.app',\n",
       " '/store/apps/details?id=com.steady.steadyapp.com',\n",
       " '/store/apps/details?id=com.paypal.merchant.client',\n",
       " '/store/apps/details?id=com.usps',\n",
       " '/store/apps/details?id=com.adpmobile.android',\n",
       " '/store/apps/details?id=com.jobrapp.jobr',\n",
       " '/store/apps/details?id=com.snagajob.jobseeker',\n",
       " '/store/apps/details?id=com.microsoft.windowsintune.companyportal',\n",
       " '/store/apps/details?id=com.squareup',\n",
       " '/store/apps/details?id=net.itx.paychex',\n",
       " '/store/apps/details?id=com.facebook.pages.app',\n",
       " '/store/apps/details?id=us.zoom.videomeetings',\n",
       " '/store/apps/details?id=com.thisclicks.wiw',\n",
       " '/store/apps/details?id=com.lyft.android.driver',\n",
       " '/store/apps/details?id=com.walmartone.android',\n",
       " '/store/apps/details?id=com.walmart.wfm',\n",
       " '/store/apps/details?id=com.merlinjobs.android',\n",
       " '/store/apps/details?id=com.fedex.ida.android',\n",
       " '/store/apps/details?id=com.shopify.logomaker.hatchful',\n",
       " '/store/apps/details?id=com.microsoft.teams',\n",
       " '/store/apps/details?id=com.joinhomebase.homebase.homebase',\n",
       " '/store/apps/details?id=com.ziprecruiter.android.release',\n",
       " '/store/apps/details?id=com.linkedin.android.jobs.jobseeker']"
      ]
     },
     "execution_count": 10,
     "metadata": {},
     "output_type": "execute_result"
    }
   ],
   "source": [
    "new_list"
   ]
  },
  {
   "cell_type": "code",
   "execution_count": 12,
   "metadata": {},
   "outputs": [],
   "source": [
    "def get_links(data):\n",
    "    link_list = []\n",
    "    for link in data.findAll('a'):\n",
    "        get_link = link.get('href')\n",
    "        link_list.append(get_link)\n",
    "    return link_list"
   ]
  },
  {
   "cell_type": "code",
   "execution_count": 13,
   "metadata": {},
   "outputs": [],
   "source": [
    "def google_scraper(categories):\n",
    "    listy = []\n",
    "    for category in categories:\n",
    "        url = f'https://play.google.com/store/apps/category/{category}/collection/topselling_free'\n",
    "        r = requests.get(url)\n",
    "        html = r.text\n",
    "        soup = BeautifulSoup(html)\n",
    "        links = get_links(soup)\n",
    "        del links[0:107]\n",
    "        clean = list(set(links))\n",
    "        new_list = [app for app in sports_links if app.find('details') != -1]\n",
    "        listy.append({category : new_list })\n",
    "        time.sleep(3)\n",
    "    return listy\n"
   ]
  },
  {
   "cell_type": "code",
   "execution_count": 14,
   "metadata": {},
   "outputs": [],
   "source": [
    "cat = categories[:2]"
   ]
  },
  {
   "cell_type": "code",
   "execution_count": 15,
   "metadata": {},
   "outputs": [
    {
     "data": {
      "text/plain": [
       "['EDUCATION', 'BUSINESS']"
      ]
     },
     "execution_count": 15,
     "metadata": {},
     "output_type": "execute_result"
    }
   ],
   "source": [
    "cat"
   ]
  },
  {
   "cell_type": "code",
   "execution_count": 16,
   "metadata": {},
   "outputs": [],
   "source": [
    "stuff = google_scraper(cat)"
   ]
  },
  {
   "cell_type": "code",
   "execution_count": 17,
   "metadata": {},
   "outputs": [
    {
     "data": {
      "text/plain": [
       "[{'EDUCATION': ['/store/apps/details?id=com.bedpage',\n",
       "   '/store/apps/details?id=com.workday.workdroidapp',\n",
       "   '/store/apps/details?id=com.azure.authenticator',\n",
       "   '/store/apps/details?id=com.ups.mobile.android',\n",
       "   '/store/apps/details?id=com.cisco.webex.meetings',\n",
       "   '/store/apps/details?id=unclaimed.money',\n",
       "   '/store/apps/details?id=com.appxy.tinyscanner',\n",
       "   '/store/apps/details?id=com.amway.americas.NA.businesscenter',\n",
       "   '/store/apps/details?id=com.google.android.apps.vega',\n",
       "   '/store/apps/details?id=com.ultimatesoftware.ultipromobile',\n",
       "   '/store/apps/details?id=com.indeed.android.jobsearch',\n",
       "   '/store/apps/details?id=com.titlemax.customerapp',\n",
       "   '/store/apps/details?id=com.concur.breeze',\n",
       "   '/store/apps/details?id=com.intuit.quickbooks',\n",
       "   '/store/apps/details?id=com.fiverr.fiverr',\n",
       "   '/store/apps/details?id=com.coolmobilesolution.fastscannerfree',\n",
       "   '/store/apps/details?id=com.metropcs.service.vvm',\n",
       "   '/store/apps/details?id=com.paylocity.paylocitymobile',\n",
       "   '/store/apps/details?id=com.ubercab.driver',\n",
       "   '/store/apps/details?id=com.Slack',\n",
       "   '/store/apps/details?id=com.kronos.mobile.android',\n",
       "   '/store/apps/details?id=com.logmein.gotowebinar',\n",
       "   '/store/apps/details?id=com.bg.flyermaker',\n",
       "   '/store/apps/details?id=com.simplescan.scanner',\n",
       "   '/store/apps/details?id=com.google.android.apps.meetings',\n",
       "   '/store/apps/details?id=com.crewapp.android.crew',\n",
       "   '/store/apps/details?id=com.sideline.phone.number',\n",
       "   '/store/apps/details?id=com.airwatch.androidagent',\n",
       "   '/store/apps/details?id=com.duosecurity.duomobile',\n",
       "   '/store/apps/details?id=com.godaddy.gdm.smartline',\n",
       "   '/store/apps/details?id=com.security.antivirus.cleaner.guard',\n",
       "   '/store/apps/details?id=com.gotomeeting',\n",
       "   '/store/apps/details?id=com.paycor.perform',\n",
       "   '/store/apps/details?id=com.etsy.android.soe',\n",
       "   '/store/apps/details?id=com.microsoft.office.lync15',\n",
       "   '/store/apps/details?id=com.dayforce.mobile',\n",
       "   '/store/apps/details?id=com.hirevue.candidate.generic',\n",
       "   '/store/apps/details?id=com.glassdoor.app',\n",
       "   '/store/apps/details?id=com.steady.steadyapp.com',\n",
       "   '/store/apps/details?id=com.paypal.merchant.client',\n",
       "   '/store/apps/details?id=com.usps',\n",
       "   '/store/apps/details?id=com.adpmobile.android',\n",
       "   '/store/apps/details?id=com.jobrapp.jobr',\n",
       "   '/store/apps/details?id=com.snagajob.jobseeker',\n",
       "   '/store/apps/details?id=com.microsoft.windowsintune.companyportal',\n",
       "   '/store/apps/details?id=com.squareup',\n",
       "   '/store/apps/details?id=net.itx.paychex',\n",
       "   '/store/apps/details?id=com.facebook.pages.app',\n",
       "   '/store/apps/details?id=us.zoom.videomeetings',\n",
       "   '/store/apps/details?id=com.thisclicks.wiw',\n",
       "   '/store/apps/details?id=com.lyft.android.driver',\n",
       "   '/store/apps/details?id=com.walmartone.android',\n",
       "   '/store/apps/details?id=com.walmart.wfm',\n",
       "   '/store/apps/details?id=com.merlinjobs.android',\n",
       "   '/store/apps/details?id=com.fedex.ida.android',\n",
       "   '/store/apps/details?id=com.shopify.logomaker.hatchful',\n",
       "   '/store/apps/details?id=com.microsoft.teams',\n",
       "   '/store/apps/details?id=com.joinhomebase.homebase.homebase',\n",
       "   '/store/apps/details?id=com.ziprecruiter.android.release',\n",
       "   '/store/apps/details?id=com.linkedin.android.jobs.jobseeker']},\n",
       " {'BUSINESS': ['/store/apps/details?id=com.bedpage',\n",
       "   '/store/apps/details?id=com.workday.workdroidapp',\n",
       "   '/store/apps/details?id=com.azure.authenticator',\n",
       "   '/store/apps/details?id=com.ups.mobile.android',\n",
       "   '/store/apps/details?id=com.cisco.webex.meetings',\n",
       "   '/store/apps/details?id=unclaimed.money',\n",
       "   '/store/apps/details?id=com.appxy.tinyscanner',\n",
       "   '/store/apps/details?id=com.amway.americas.NA.businesscenter',\n",
       "   '/store/apps/details?id=com.google.android.apps.vega',\n",
       "   '/store/apps/details?id=com.ultimatesoftware.ultipromobile',\n",
       "   '/store/apps/details?id=com.indeed.android.jobsearch',\n",
       "   '/store/apps/details?id=com.titlemax.customerapp',\n",
       "   '/store/apps/details?id=com.concur.breeze',\n",
       "   '/store/apps/details?id=com.intuit.quickbooks',\n",
       "   '/store/apps/details?id=com.fiverr.fiverr',\n",
       "   '/store/apps/details?id=com.coolmobilesolution.fastscannerfree',\n",
       "   '/store/apps/details?id=com.metropcs.service.vvm',\n",
       "   '/store/apps/details?id=com.paylocity.paylocitymobile',\n",
       "   '/store/apps/details?id=com.ubercab.driver',\n",
       "   '/store/apps/details?id=com.Slack',\n",
       "   '/store/apps/details?id=com.kronos.mobile.android',\n",
       "   '/store/apps/details?id=com.logmein.gotowebinar',\n",
       "   '/store/apps/details?id=com.bg.flyermaker',\n",
       "   '/store/apps/details?id=com.simplescan.scanner',\n",
       "   '/store/apps/details?id=com.google.android.apps.meetings',\n",
       "   '/store/apps/details?id=com.crewapp.android.crew',\n",
       "   '/store/apps/details?id=com.sideline.phone.number',\n",
       "   '/store/apps/details?id=com.airwatch.androidagent',\n",
       "   '/store/apps/details?id=com.duosecurity.duomobile',\n",
       "   '/store/apps/details?id=com.godaddy.gdm.smartline',\n",
       "   '/store/apps/details?id=com.security.antivirus.cleaner.guard',\n",
       "   '/store/apps/details?id=com.gotomeeting',\n",
       "   '/store/apps/details?id=com.paycor.perform',\n",
       "   '/store/apps/details?id=com.etsy.android.soe',\n",
       "   '/store/apps/details?id=com.microsoft.office.lync15',\n",
       "   '/store/apps/details?id=com.dayforce.mobile',\n",
       "   '/store/apps/details?id=com.hirevue.candidate.generic',\n",
       "   '/store/apps/details?id=com.glassdoor.app',\n",
       "   '/store/apps/details?id=com.steady.steadyapp.com',\n",
       "   '/store/apps/details?id=com.paypal.merchant.client',\n",
       "   '/store/apps/details?id=com.usps',\n",
       "   '/store/apps/details?id=com.adpmobile.android',\n",
       "   '/store/apps/details?id=com.jobrapp.jobr',\n",
       "   '/store/apps/details?id=com.snagajob.jobseeker',\n",
       "   '/store/apps/details?id=com.microsoft.windowsintune.companyportal',\n",
       "   '/store/apps/details?id=com.squareup',\n",
       "   '/store/apps/details?id=net.itx.paychex',\n",
       "   '/store/apps/details?id=com.facebook.pages.app',\n",
       "   '/store/apps/details?id=us.zoom.videomeetings',\n",
       "   '/store/apps/details?id=com.thisclicks.wiw',\n",
       "   '/store/apps/details?id=com.lyft.android.driver',\n",
       "   '/store/apps/details?id=com.walmartone.android',\n",
       "   '/store/apps/details?id=com.walmart.wfm',\n",
       "   '/store/apps/details?id=com.merlinjobs.android',\n",
       "   '/store/apps/details?id=com.fedex.ida.android',\n",
       "   '/store/apps/details?id=com.shopify.logomaker.hatchful',\n",
       "   '/store/apps/details?id=com.microsoft.teams',\n",
       "   '/store/apps/details?id=com.joinhomebase.homebase.homebase',\n",
       "   '/store/apps/details?id=com.ziprecruiter.android.release',\n",
       "   '/store/apps/details?id=com.linkedin.android.jobs.jobseeker']}]"
      ]
     },
     "execution_count": 17,
     "metadata": {},
     "output_type": "execute_result"
    }
   ],
   "source": [
    "stuff"
   ]
  },
  {
   "cell_type": "code",
   "execution_count": 33,
   "metadata": {},
   "outputs": [
    {
     "data": {
      "text/plain": [
       "60"
      ]
     },
     "execution_count": 33,
     "metadata": {},
     "output_type": "execute_result"
    }
   ],
   "source": [
    "len(stuff[0][cat[0]])"
   ]
  },
  {
   "cell_type": "code",
   "execution_count": 34,
   "metadata": {},
   "outputs": [
    {
     "name": "stdout",
     "output_type": "stream",
     "text": [
      "60\n",
      "120\n"
     ]
    }
   ],
   "source": [
    "x = 0\n",
    "for idx, c in enumerate(cat):\n",
    "    x += len(stuff[idx][c])\n",
    "    print(x)"
   ]
  }
 ],
 "metadata": {
  "kernelspec": {
   "display_name": "Python 3",
   "language": "python",
   "name": "python3"
  },
  "language_info": {
   "codemirror_mode": {
    "name": "ipython",
    "version": 3
   },
   "file_extension": ".py",
   "mimetype": "text/x-python",
   "name": "python",
   "nbconvert_exporter": "python",
   "pygments_lexer": "ipython3",
   "version": "3.6.7"
  }
 },
 "nbformat": 4,
 "nbformat_minor": 2
}
