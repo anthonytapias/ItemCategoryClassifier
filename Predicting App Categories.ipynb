{
 "cells": [
  {
   "cell_type": "markdown",
   "metadata": {},
   "source": [
    "# Can we predict the category of an app from the app's description?"
   ]
  },
  {
   "cell_type": "markdown",
   "metadata": {},
   "source": [
    "We wanted to see if we can create a Machine Learning model that will accuretly predict the category of an app from the app's description. To do this we created a web scraper to scrape data from the GooglePlay Store. After cleaning our data, we performed NLTK, Feature Engineering and Model Fitting to create an optimal ML Model. "
   ]
  },
  {
   "cell_type": "markdown",
   "metadata": {},
   "source": [
    "<br>"
   ]
  },
  {
   "cell_type": "markdown",
   "metadata": {},
   "source": [
    "## Web Scraping"
   ]
  },
  {
   "cell_type": "markdown",
   "metadata": {},
   "source": [
    "We created a web scraper to collect 60 app descriptions per category for 18 categories. After collecting our data we saved it to a file in dictionary format. "
   ]
  },
  {
   "cell_type": "code",
   "execution_count": 3,
   "metadata": {},
   "outputs": [
    {
     "name": "stdout",
     "output_type": "stream",
     "text": [
      "dict_keys(['EDUCATION', 'BUSINESS', 'DATING', 'SPORTS', 'WEATHER', 'FOOD_AND_DRINK', 'HEALTH_AND_FITNESS', 'BEAUTY', 'MUSIC_AND_AUDIO', 'NEWS_AND_MAGAZINES', 'SOCIAL', 'SHOPPING', 'PRODUCTIVITY', 'PHOTOGRAPHY', 'MEDICAL', 'PARENTING', 'COMMUNICATION', 'TOOLS'])\n"
     ]
    },
    {
     "data": {
      "text/plain": [
       "[\"⭐Es una App genial porque aprendes palabras nuevas y practicas la pronunciación a cada momento que desbloqueas tu pantalla.⭐Aprendes cada vez que abres tu teléfono. La forma más inconsciente de aprender eficazmente.¿Cuántas veces miras tu móvil al día?Lo miras un promedio de 100 veces al día y lo desbloqueas al menos 50 veces.¡Si estudiaras vocabulario en esos momentos en los que miras el móvil, podrías aprender unas 3,000 palabras en tan solo un mes!Wordbit inglés es una App que te permite estudiar inglés desde la pantalla de bloqueo de tu móvil.Excava valiosos tesoros desde tu pantalla bloqueada. Formará parte de tu rutina de aprendizaje.Además, ¡es totalmente gratis! ■ La memorización del vocabulario es la clave para el aprendizaje de cualquier lengua extranjeray la técnica más básica para memorizar el vocabulario es la repetición.Puedes memorizar el vocabulario mirándolo repetidamente y sin darte cuenta.¡Nuestra aplicación no sólo te ayudará a aprender nuevas palabras, sino también a mantener tus conocimientos!■■■ Características de WordBit■■■●1. Una app innovadora y de gran contenido Contiene una lista completa de palabras desde los niveles más básico para principiantes hasta los más avanzados. ( A1 - C1 ) Incluye palabras usadas en exámenes oficiales como IELTS, TOEFL.Las frases y expresiones más usadas y utiles para cualquier ocasión: expresiones coloquiales, frases románticas, frases para negocios, etc.Más de 10,000 frases y expresiones totalmente gratis!●2. Estudia de forma divertidaTe permite aprender el vocabulario de forma divertida y amena con tarjetas de memoria, diapositivas e incluso tests!●3. AudioDisponemos de audios para que puedas escuchar la pronunciación correcta para todo el vocabulario en inglés.●4. Opciones útiles- Sección de repaso de palabras aprendidas- Audio automático para escuchar la pronunciación - Tendrás la opción de compartir frases interesantes con imágenes incluidas con tus amigos - 9 temas con diferentes colores●5. Opciones personalizadas① Opción de Favoritos② Opción de eliminar las palabras ya aprendidas (Puedes eliminar las palabras que ya sabes de la lista del vocabulario)③ Registro automático de tus respuestas incorrectas-------------------------------------------■ ■ ■ Contenido que ofrecemos ■ ■ ■ 📗■ Vocabulario (para principiantes)😉🌱Número,Hora (107)🌱Animal,Planta (101)🌱Comida (148)🌱Relación (61)🌱Otros (1,166)📘■ Vocabulario (por niveles)😃🌳A1 (502)🌳A2 (1,042)🌳B1 (1,859)🌳B2 (2,174)🌳C1 (1,651)🌳C2 (3,082)🌳Phrasal verbs (423)🌳Verbos irregulares (176)🌳Collocation (198)📙■ Vocabulario específico (para exámenes)😎🌾IELTS (4,137)🌾TOEFL (2,278)📕■ Expresiones🤗🌿Expresiones básicas (1,102)🌿Refranes y provervios (573)🌿Love & Pickup lines (444)🌿Slang (698)🌿Expresiones coloquiales (479)🌿Expresiones cotidianas (812)🌿Inglés para reuniones (280)🌿Frases Famosas (330)[Descripcion de las Funciones](1) Después de descargar e iniciar la aplicación, el modo de aprendizaje será automáticamente activado.   - Esta aplicación está diseñada para aprender inglés de manera automática. Por lo tanto, cada vez que enciendas tu celular, la aplicación será activada permitiendote aprender inglés.(2) Si deseas desactivar el modo de aprendizaje automático de la aplicación temporalmente, puedes hacerlo por medio de la [⚙️Configuración] de la aplicación. (3) En algunos sistemas operativos (Huawei, Xiaomi, Oppo etc.), la aplicación no es activada automáticamente después de la descarga. En este caso, puedes acceder a los Ajustes de tu celular y desactivar las opciones de Ahorro de Batería o Ahorro de Energía para solucionar el problema. Por favor, no dudes en contactarnos si tienes alguna duda sobre el uso de la aplicación. 👉👉👉   contact@wordbit.net ( ※ Next : C2 , Curso de inglés, gramática inglesa ) ⭐It is a great App because you learn new words and practice pronunciation every time you unlock your screen.  You learn every time you open your phone. The most unconscious way to learn effectively. How many times do you watch your mobile phone every day?You look at it an average of 100 times a day and you unlock it at least 50 times.If you studied vocabulary in those moments when you look at your mobile, you could learn about 3,000 words in just one month!Wordbit English is an App that allows you to study English from the screen lock of your mobile.Dig valuable treasures from your locked screen.It will be part of your learning routine.Also, it's totally free!■ Vocabulary memorization is the key to learning any foreign languageand the most basic technique for memorizing vocabulary is repetition.You can memorize the vocabulary by looking at it repeatedly and without realizing it.Our application will not only help you learn new words, but also keep your knowledge!  ■■■ WordBit features ■■■  ● 1. An innovative app with great contentIt contains a complete list of words from the most basic levels for beginners to the most advanced. (A1 - C1)Includes words used in official exams such as IELTS, TOEFL.The most used and useful phrases and expressions for any occasion: colloquial expressions, romantic phrases, business phrases, etc.More than 10,000 phrases and expressions totally free!● 2. Study in a fun wayIt allows you to learn the vocabulary in a fun and entertaining way with memory cards, slides and even tests!● 3. AudioWe have audios so you can hear the correct pronunciation for all the vocabulary in English.● 4. Useful options- Review section of words learned- Automatic audio to listen to the pronunciation- You will have the option to share interesting phrases with images included with your friends- 9 subjects with different colors● 5. Custom options① Favorites option② Option to delete the words already learned (You can delete the words that you already know from the vocabulary list)③ Automatic registration of your incorrect answers-------------------------------------------■ ■ ■ Content we offer ■ ■ ■📗 ■ Vocabulary (for beginners) 😉🌱Number, Time (107)🌱 Animal, Plant (101)🌱 Food (148)🌱Relation (61)🌱Other (1,166)📘 ■ Vocabulary (by levels) 😃🌳A1 (502)🌳A2 (1,042)1B1 (1,859)🌳B2 (2,174)🌳C1 (1,651)🌳C2 (3,082)HPhrasal verbs (423)🌳 Irregular verbs (176)🌳Collocation (198)📙 ■ Specific vocabulary (for exams) 😎🌾IELTS (4,137)🌾TOEFL (2,278)📕 ■ Expressions🤗🌿 Basic expressions (1,102)🌿 Sayings and proverbs (573)🌿Love & Pickup lines (444)🌿Slang (698)🌿Colonial Expressions (479)🌿 Daily Expression (812)🌿English for meetings (280)🌿 Famous Phrases (330)[Description of Functions](1) After downloading and starting the application, the learning mode will be automatically activated.\\xa0\\xa0\\xa0- This application is designed to learn English automatically. Therefore, every time you turn on your cell phone, the application will be activated allowing you to learn English.(2) If you wish to deactivate the application's automatic learning mode temporarily, you can do so by means of the [⚙️Settings] of the application.(3) In some operating systems (Huawei, Xiaomi, Oppo etc.), the application is not activated automatically after downloading. In this case, you can access the Settings of your cell phone and deactivate the Battery Saving or Energy Saving options to solve the problem.Please, do not hesitate to contact us if you have any questions about the use of the application.👉👉👉 contact@wordbit.net(※ Next: C2, English course, English grammar)\",\n",
       " \"🔓Unlock Math Calculator to do maths solutions by taking photo! Math Calculator is a useful and easy-to-use calculator pro with basic calculator free and scientific calculator. This stylish calculator is also an equation solver and a great maths homework solver which can solve maths problems more efficiently by📸CAMERA .🏆This calculator app is developed by a experienced team which has already created a calculator app with 1,000,000+ install volume. We still devote to developing the best calculator app. DOWNLOAD it right now and try it for FREE! 🏆What’s inside⬇️👍Basic Calculator: Basic mathematics free functions with percentage.👍Maths Camera: Good maths homework helper which solves maths problems by taking photo.👍Solve Multiple Problems: Solve multi-line math problems at one time.👍Correct wrong answers: Check your answers and correct the wrong ones.👍Scientific Calculator: Based on casio 570.👍Calculation history : Never lose your calculations👍Equation calculator: Solve your maths homework efficiently.👍Great design: Nice user interface based on gesture.👍Floating Window: Keep calculating above other apps.👍Vibrate and Sound: Fashion functions that simulates a real calculator.Permission:As a free tool app, we guarantee that we do not collect your personal information without your permission.There will be ad content shown in certain scenes in our app. For more details, please visit☞ Link: https://m.facebook.com/ads/ad_choicesPerfect Support Performance:👍Perfectly support📱Samsung Galaxy S8, S8 edge, S7, S7 edge, HUAWEI P10, LG Nexus 5X etc.👍Perfectly support📱Android 8Basic CalculatorBasic Calculator can do add up operation, subtraction operation, multiplication operation and division operation. We also provide a percentage calculation and you can use brackets to calculate the priority content. You will see instant math answers while you are calculating. And there’s a cursor for you to correct the mistakes in the formula. It’s an easy-to-use basic calculator better than the old one in reality.Scientific CalculatorThis Scientific Calculator is developed according to Casio 570. It contains all the scientific calculations in Casio 570 and there’s more other scientific calculations, such as trigonometric calculation, anti-trigonometric calculation, power calculation, logarithmic calculation, square root calculation, cube root calculation, factorial calculation, π calculation and so on. By the way, we do a humanity Interface design. You just need to slide up from the bottom of the keyboard and you can see the scientific calculator.Equation calculatorThere’s a professional equation calculator specially designed for students who need to do difficult equations. What’s more, you can do decimal calculation and power calculation in the equation calculator.Solve Multiple ProblemsMath Calculator can solve multi-line math problems on one paper at one time.From now on, You don't need to count the math problems by hands one by one. It just takes you 5 seconds to solve more than 10 problems at the same time.Correct wrong answersThis is not only just a calculator, it's also an useful homework checker. We can help you check your math homework after you finish it. If your answer is wrong, we'll also correct it for you.★We provide a mathematics solutions in a creative way. While you are doing maths home work, try our calculator so that you can solve maths problems more easily by taking photo. Both basic maths problem and equations are suitable.\",\n",
       " \"You can learn anything. For free. Forever.Spend an afternoon brushing up on statistics. Discover how the Krebs cycle works. Learn about the fundamentals of music notation. Or, if you’re feeling particularly adventurous, learn how fire-stick farming changed the landscape of Australia. It doesn't matter if you are a student, teacher, homeschooler, principal, adult returning to the classroom after 20 years, or a friendly alien just trying to get a leg up in earthly biology—Khan Academy's materials and resources are available to you completely free of charge. - Thousands of videos and articles at your fingertips in math, science, economics, computing, finance, grammar, history, government, politics, and much, much more - Practice questions with instant feedback and step-by-step hints- Bookmarks for easy navigation to your favorite content - Offline access to keep you learning even when you’re not connected to the internet - Device syncing between the app and khanacademy.org, so your progress is always up to dateWhat’s new? We just won the 2018 Google Play Best Social Impact award! Quizzes and unit tests are here! Save time as you prep for a test or catch up in class. When you take a quiz or unit test, you'll get personalized recommendations on what to study next. Quizzes and unit tests are currently available in math and science, and we'll be adding them for more topics soon! Download the app today and start learning! (For our Indian learners, we have aligned math and science content on our app to NCERT/CBSE curriculum. Study more effectively for your 6-to-12-grade math classes with our quizzes and unit tests. After each assessment, you’ll get personalized recommendations on exercises to focus on, related videos, and step-by-step hints. You’ll also build a strong foundation for your boards, CAT, GMAT, IIT-JEE, and other exams.)Khan Academy is a 501(c)(3) nonprofit organization with the mission of providing a free, world-class education for anyone, anywhere. We support teachers’ efforts to help every child succeed with personalized practice. Donate today!\",\n",
       " 'Update info : Latest updates : New section added \"Learning Lessons\" Now learn Spanish and English using simple sentences.You can learn English in Spanish or Learn Spanish in English.New dictionary Spanish to English and English to Spanish added in the latest update. Now translate from Spanish to English or English to Spanish, using your android mobiles with this easy translator app. Just get English Spanish Translator app downloaded in your mobile and start translating. Its a easy to use app with beautiful User Interface Design. App features :- Translate both ways from Spanish to English or English to Spanish.- In-build Spanish keyboard given within the app itself. You can directly type in Spanish using this keyboard. You don\\'t need to download any Spanish keyboard application from the play store. - Copy and Paste features. You can copy the translated text Spanish or English, and use it anywhere you want. - Useful for language learner, traveler, teacher, students, or anyone who doesn\\'t know English or Spanish. - Useful app for chatting. You can translate any text , copy and paste it to translator and copy paste the translated text back to chatting app. How to use it : - You can either type in to \" Enter Text \" box or paste any copied text directly to it. - You can type in English using you default keyboard or directly type in in-build Spanish Keyboard.- Click Translate button to translate your text.- You can copy the translated text by clicking on \"Copy\" button and use the text anywhere you like. Please drop in your suggestions and we\\'ll work on it to improve the application.',\n",
       " 'Join more than 4 million learners: learn to code, make apps/games/websites, automate your life, advance your career, and much more – no matter how much experience and time you have! Mimo creates a personalized curriculum of fun and effective exercises, projects, and challenges that fit into your daily routine and keeps you motivated.• \"This way you can work learning to code into your daily routine, whenever you have a few minutes of downtime.\" – TechCrunch• \"The app’s lessons are bite-size to make it easy to squeeze coding into your busy day.\" – The New York TimesWe help you master• Programming from scratch• Making apps• Making games• Building websites• Becoming an ethical hacker• Automating your lifeand more.These skills include programming languages like:Python, Kotlin, Swift, HTML, CSS, JavaScript, SQL, PHP, Java, C#, C++, Ruby, Git, command line, and more.Mimo is the best and most personalized way to learn to code on a tight schedule. Along the way, keep track of your progress, collect achievements and badges, and join a community of more than 4 million learners.If you have any questions, don\\'t hesitate to get in touch with us at support@getmimo.com.',\n",
       " \"Do you want to pass the GED Test on your first attempt?General Educational Development (GED) tests are a group of five subject tests which, when passed, certify that the taker has American or Canadian high school-level academic skills. The “GED” acronym is frequently misused to mean “general education degree” or “general education diploma,”.GED Practice Test provides many training questions for people who want to take a test and pass GED Exam. We take each exam and break it down into knowledge areas so that you can filter your study sessions based on your needs.1. Language Arts: Reading2. Language Arts: Writing3. Mathematics4. Science5. Social StudiesFEATURES:- Over 1000 questions to practice with.- Realistic: Just like the actual test, our practice tests are based on the official test.- Detailed explanations: When you make a mistake, the app tells you right away if your answer is wrong and why. You understand and remember every wrong answer.- Personalized Challenge Bank: a test that's automatically made up of your missed questions from all your practice tests- New questions every time: To keep you focused, we randomize questions and answers each time you start a practice test.- No registration required- Practice reminders- Track and monitor your progress. Analyse your performance and find out when you have reached test standard.We'd love to hear from you. Please send your feedback to coco.elearning@gmail.com.\",\n",
       " 'Learn Spanish, French, German, Italian, Russian, Portuguese, Turkish, Dutch, Irish, Danish, Swedish, Ukrainian, Esperanto, Polish, Greek, Hungarian, Norwegian, Hebrew, Welsh and English. Totally fun and free. New! Swahili and Romanian.  Practice your speaking, reading, listening and writing skills while playing a game! You\\'ll improve your vocabulary and grammar skills by answering questions and completing lessons. Start with basic verbs, phrases, and sentences, and learn new words daily.• Google Play\\'s Editor\\'s Choice and \"Best of the Best\" of 2013 and 2014!• \"Far and away the best language-learning app.\" —The Wall Street Journal• \"Duolingo may hold the secret to the future of education.\" —TIME Magazine• \"Among apps for learning a language, you can\\'t beat Duolingo.\" —PC Magazine.• \"The most productive means of procrastination ever discovered. The short lesson blocks are painless and peppy, and reaching the next level (and then the level after that) becomes addictive.\" —SlateDuolingo is changing the way people learn languages.• It\\'s free, for real.• It\\'s fun. Advance by completing bite-sized lessons, and track your progress with shiny achievements.• It\\'s effective. 34 hours of Duolingo are equivalent to a semester of university-level education.Send any feedback to android@duolingo.comBuy Duolingo gear at https://gear.duolingo.comFacebook: https://www.facebook.com/duolingoTwitter: https://twitter.com/duolingoGoogle+: https://plus.google.com/+duolingoUse Duolingo on the Web at https://www.duolingo.com',\n",
       " \"Learn Spanish with Babbel, the app that’s helped millions speak with confidence. Developed by a team of Europe’s best language experts, Babbel makes language lessons CLICK with you and STICK with you. THE BABBEL PROCESSBabbel makes learning Spanish fun and effective:1. HIT the ground running with practical conversation skillsLinguistic experts designed the intuitive courses to engage you in practical conversation skills from your very first lesson. 2. Lessons that CLICK with you - Engaging and easy to useLessons engross you in a foreign culture while guiding your language journey with English-perspective hints, simple explanations, and creative grammar cues that cement fresh concepts. 3. Language skills that STICK with you for lifeRevolutionary 10-15 minute lessons and dynamic review sessions continuously adapt to your strengths and weaknesses, recontextualize prior concepts, and send your new language straight to long-term memory.Hit. Click. Stick. Speak Spanish. It’s that easy!FEATURES:• 10-15 minute bite-sized Spanish lessons fit in your schedule• Lessons covering a wide range of topics (including travel, culture, and business)• Speech recognition technology aids pronunciation• Ideal for both beginners and advanced learners• Review Manager keeps Spanish vocabulary in your long term memory• Learning progress synchronized across all your devices and on the webWORKS FOR YOUR GOALS:After just a month you will be able to handle important Spanish conversations for:• Transportation• Shopping• Directions• Making friends and socializing• Dining• And much more!WHAT PEOPLE ARE SAYING ABOUT US:“Babbel exceeds expectations, delivering high-quality, self-paced courses.” -PCMag.com“Exceptionally good site.” -The Economist“Babbel is one of the stalwarts of the online language learning sphere.” -TNW**The World’s Highest Grossing Language Learning App****Fast Company # 1 Most Innovative Education Company 2016****Awarded Google Play’s Best Apps of 2015****Awarded Apple's Best Apps of 2014 in 9 countries!**PLEASE NOTEYou'll need a Babbel subscription in order to access courses and features. The number of courses offered may vary depending on which display language you use.Your subscription will renew automatically unless cancelled before the end of the current payment period. You can manage or cancel your subscription in your Google Play Store account.Privacy policy: https://about.babbel.com/en/privacy/Terms of use: https://about.babbel.com/en/terms/SUPPORT We’d love to hear from you. Write to us with questions and suggestions at: support-mobile@babbel.com  VISIT US https://www.babbel.com FOLLOW US https://www.twitter.com/babbel LIKE US https://www.facebook.com/babbel.languages\",\n",
       " \"Watch videos and episodes of your favorite PBS KIDS shows! Start live video streaming free episodes of your child’s favorite educational cartoons, like Daniel Tiger’s Neighborhood, Curious George, Wild Kratts or Sesame Street. PBS KIDS Video provides hours of learning entertainment wherever you are!Watch TV shows with educational value from PBS KIDS on your mobile device. Science for kids, life lessons and more educational content are always available with the quality programming PBS KIDS offers, from Daniel Tiger’s Neighborhood to Odd Squad. Free episodes, video clips and more – all designed to help kids learn and grow!Stream the PBS KIDS 24/7 channel on the app for free (no subscription or login required). Watch local TV and see what’s airing on your PBS station just by tapping the “LIVE TV” button. * A Webby Winner for Best Streaming Video (2018)* A Parents' Choice Recommended Mobile App (2017, 2013)* A Cynopsis Kids !magination Award Winner for Best Educational App (2012)PBS KIDS Video FeaturesEDUCATIONAL VIDEO STREAMING- Watch free episodes of PBS KIDS shows- Live stream video clips from shows kids love- Get educational entertainment on demandNEW VIDEOS EVERY WEEK- New full episodes come out every Friday from your favorite PBS KIDS shows, including:- Wild Kratts- Daniel Tiger’s Neighborhood- Sesame Street- Odd Squad- Nature Cat- Cat in the Hat - Curious George- And more!CHILD-SAFE VIDEOS- The app provides a safe, child-friendly viewing experience for all ages. - Watch videos at home, on the road, or anywhere with a 3G or WiFi connection.PARENT RESOURCES- Features that parents can access through the Grownups button on mobile devices:* TV schedule for your local PBS station. * Learn more about a TV series, such as intended age and learning goals. * Download related PBS KIDS apps.* Buy full episodes and shows from Google Play. Watch kids shows on demand to give your child an entertaining learning experience! Download PBS KIDS Video today!-------------*This app is optimized for Kit Kat (4.4) and above.GEOGRAPHIC RESTRICTIONSThe PBS KIDS videos may only be viewed from within the United States. This is due to restrictions on PBS's license to offer this service. SPONSORSHIPPBS KIDS Video is a key part of PBS KIDS’ commitment to making a positive impact on the lives of children through curriculum-based entertainment—wherever kids are. More PBS KIDS videos may also be found online at pbskids.org/video.Funding from corporate sponsors supports PBS KIDS’ mission to use the power of media to open worlds of possibilities for all children. To acknowledge the vital support that PBS KIDS receives, brief messages from corporate sponsors are included at the start of select full-length episodes on the PBS KIDS Video App. You can support PBS KIDS through the selection of other apps and TV shows available on Google Play.ABOUT THIS APPThe PBS KIDS Video app gives kids and parents access to thousands of free videos, including full episodes and clips from top PBS KIDS series. With this app, kids can watch their favorite PBS KIDS shows anytime, anywhere! PBS KIDS, the #1 educational media brand for kids, offers all children the opportunity to explore new ideas and worlds through media.This app was designed by PBS KIDS.\",\n",
       " \".ReadingIQ is the comprehensive digital learning library app for kids ages 2 to 12, designed by national education experts to perfectly align with your child’s reading ability and grade level. ReadingIQ features thousands of award-winning books and childhood classics from popular publishers such as National Geographic, Whitman, and Charlesbridge, and includes the entire ABCmouse library as well as exclusive titles that aren’t available anywhere else.   ReadingIQ’s unique features intelligently organize titles to make it easy for your child to find the perfect book to match his or her interests, and books are constantly added so there’s always something new to discover. From beautifully illustrated picture books, popular series, and comic books, to chapter books, graphic novels, and books on every academic subject, ReadingIQ is the anywhere, anytime personal learning library that helps your child grow as a reader.   What Reading Experts Say    “Children who read more than 10 pages per day score 10% higher in reading proficiency.”  Source: NAEP, (2000). The Nation’s Report Card—Fourth Grade Reading Highlights.  “Reading for just 10 minutes per day increases the number of words a child reads in a year by more   than half a million.”  Source: Adams, M. J. (2006). The promise of automatic speech recognition for fostering literacy growth in children and adults. Unlock a learning adventure with ReadingIQ—the exciting daily reading library app for kids ages 2 to 12! Features ● Unlimited access to thousands of\\u202fleveled books for learning on the iPad and iPhone ● Uses widely adopted standards for preschool through 6th grade, including Lexile® levels ● A complete online learning library created by the education experts of ABCmouse ● Expertly curated by teachers and librarians, with content across all genres ● Caldecott and Newbery Medal winners, well-known books, and exclusive ABCmouse titles ● Age-appropriate books that children love to read ● Learn to read with a vast collection of fiction and nonfiction titles ● Books on every academic subject  ● Aligns with school curriculum and great for homeschooling  ● Book recommendations and reading lists to build important reading skills ● Matches your child’s reading level to accelerate learning  ● Hundreds of books in Spanish for all reading levels ● Easy to track and monitor progress ● 100% safe and kid-friendly environment to explore!Subscription Options:● This app offers two membership options: $4.99/month or $29.99/year● Payment will be charged to your iTunes account at confirmation of purchase● Subscription automatically renews unless auto-renew is turned off at least 24-hours before the end of the current period● Account will be charged for renewal within 24-hours prior to the end of the current period, and identify the cost of the renewal● Subscriptions may be managed by the user and auto-renewal may be turned off by going to the user's Account Settings after purchaseSee our full Terms and Conditions at:https://www.readingiq.com/terms-and-conditionsView our Privacy Policy at:https://www.readingiq.com/privacy-policy\",\n",
       " \"Cute unicorn is popular to cute baby girl,cute baby boy,kids and toddlers,so as the colorful unicorn food. Now make the tasty cakes fun bakery now.Making colorful unicorns rainbow cake in this amazing cooking and baking adventure with so much cooking fun!In this make cakes game for kids,you can DIY all the colorful rainbow cake you can imagine:rainbow unicorn cake with rainbow icing,rainbow unicorn,rainbow colorful candy,rainbow cream,rainbow frosting and so on.Everything is colourful rainbow cake for sweet maker.Don’t believe that?Play the bakery food games and cake bakery Now!Unicorn Rainbow Cake Game Features: 1. Frost Cakes now!Make Cakes are the best choice of sweet maker for any important day for children,such as birthday,party,and festivals.Agree? Let's do the tasty cakes bakery now!2.Eat Cakes now!In this bakery game for girls, you’ll make a tasty recipe of a sweet cake in shape of a cute colorful baby unicorn.\\xa0Hmm,any kinds of rainbow unicorns in the sweet cake bake game. Wow, so many sprinkles cupcakes and eat cakes now!3.Be the cake baker. Bakery near me! Bakery near me! Mix various ingredients to create the unique delicious flavor and color of your rainbow unicorn cake with colorful candies in the colorful land. Show your talents in the sweet cake bakery. 4.The rainbow cake is so amazing!In the free girl game, you can try dozens of food materials and colorful decorations : water,sweet fruits, colorful candies, colorful rainbow sprinkles, tasty cream, milk, eggs, food colouring, sugar, salt, flour and etc.5.And also you can play dozens of realistic cooking tools: glasses, dispenser, kettle, bowl, oven, pot, mixer, spoon and etc.6.I see a naughty fondant fat unicorn lying on the colorful cake stand with satisfaction !Does the bite of the sweet unicorn cake show that he ate the sweet deserts? Eat Cakes now!7.OMG!That colorful rainbow unicorn is spilling rainbow!It is so amazing! Have fun with the flappy unicorn and make the sweet cake bake!8. You're the best cake baker. Now do the unicorn food and tasty cakes bakery !2 layers cake and 3 layers cake are common to see in the wedding celebration or some anniversary party.In the game for children,you can also design the unicorn cake on 2 or 3 layers!Surprise!9.Now design the best unicorn rainbow cake of the little kids game.That is your design party of sweet maker!So many sweetthings here. 10.You are so talented!You make and decorate the finest unicorn rainbow around this fun girl kitchen game!11.In the cooking academy,you should have learned how to bake a delicious unicorn rainbow cake after this fun kids game.12.Play this make cakes and frost cakes  for your friends and family!13. Best free children games ever.Download the free childrens games now!It is so much fun to make sweet and colorful unicorn rainbow cake in the game for girl. Such lovely free games for girls. Download girls games and make it.Download this rainbow cake game and play the sweet cake bakery TODAY!ABOUT FunPop FunPop are specialize in kid’s games on mobile platform. We are aiming to provide innovative & educational game for the whole family. We help them to learn the basic life skills and good habits through our games. Visit us:\\xa0http://www.funpop.com.cnWatch us: https://www.youtube.com/c/FunPopMediaCONTACT US\\xa0Let us know what you think! Questions? Suggestions? Technical Support? Contact us 24/7 at contact@funpop.com.cn\",\n",
       " \"Quizlet is the easiest way to practice and master what you’re learning. Create your own flashcards and study sets or choose from millions created by other students — it’s up to you. More than 30 million students study with Quizlet each month because it’s the leading education and flashcard app that makes studying languages, history, vocab and science simple and effective. And it's free!With Quizlet you can: - Get test-day ready with Learn- Put your memory to the test with Write- Race against the clock in a game of Match- Share flashcards with classmates (if you're a student) or your students (if you're a teacher)- Listen to your material pronounced correctly in 18 languages- Enhance your studying with custom images and audio Whether you're doing standardized test prep for big exams like the SAT or ACT, studying for an upcoming midterm or test in school or learning new concepts, Quizlet’s learning app can help you learn with confidence. Use the Quizlet learning app for any subject, including vocabulary, biology, chemistry, social studies, AP, GRE and more. Learn foreign languages more effectively with study modes that allow you to memorize vocabulary, learn pronunciation and test yourself in more than 18 foreign languages, including Spanish, French, German and Chinese.Upgrade to Quizlet Go to unlock ad-free studying, Night Theme and offline access or get Quizlet Plus for all that AND image uploading, an unlimited number of classes and even more premium features on the Quizlet website. Quizlet Plus is available free for 7 days, so it’s easy to try before you buy to make sure it helps you pass your test, finish your homework, speed through a problem set or learn new vocabulary. We love feedback! Please email us at quizletapp@quizlet.com or find us on Twitter or Instagram @quizlet.If you enjoy the app, please leave a review. It means a lot!*The Fine Print:Quizlet Plus and Quizlet Go subscriptions will be charged to your credit card through your Google Play account. Your subscription will renew automatically unless cancelled at least 24 hours before the end of the current period. Subscription cancellations will take effect following the current active year. You can manage your subscription in the Google Play Store.\",\n",
       " 'Coloring book for girls free provide the best drawings of surprise dolls. Сoloring paintings is great game for girls.Absolutely free and extremely attractive. This is an excellent game for girls and boys of wide range ages.Coloring book for girls free with surprise dolls will help find children an excellent and useful exercise. They will open the game and get distracted forgetting about cartoons and TV.Dolls coloring books for girls and boys who like a surprise.What will you find in our coloring pages for children:- Dolls- Pets cats, kittens and puppies- Open directly on the phone- Keep your dolls paintings on the phone- Share painted dolls with friends- The best collection of princess coloring book for girls in your galleryDownload our coloring book for free kids and start painting right now! Coloring installs in 1 minute.',\n",
       " 'There shouldn’t be limit to education and learning. That is what Deep Web Infinite Knowledge is all about. We want to give you undisputed, rare Infinite Knowledge about the topics you are interested in. Learn the truth in one of the best educational and learning apps! More than your regular general knowledge app – Deep Web is information and educational portal where you can learn truthfully & upgrade your mind!ARTICLES, BLOGS, STORIES & MUCH MOREDeep Web categorizes information and then presents it to you in an intuitive way. Our education and general knowledge app is based on relevant content from high authority sources in form of articles, blogs, stories, news, researches, how to explanations. It’s so easy to learn on Deep Web, about wide variety of interesting topics. Make use of mobile learning, take your learning process to a new level!BOOKMARK, COMMENT OR LIKEEverything you read on our free educational app can be liked, commented on or saved as bookmark. Save the information and educational pieces that touch you in your bookmarks and revert back whenever you feel so! Additionally, you can easily share any content you like within Deep Web on various social media!CONSUME CONTENT IN THE SMART WAYThe goal of Deep Web is to offer you amazing top educational content in a neat format that makes it easy for you to learn and expand your knowledge. See why our format and content make use one of the top educational apps currently!OUR GENERAL KNOWLEDGE LEARNING CATEGORIESTo make use of our educational content in the right way, browse the categories that are of your interests. Here are our learning categories:☑️ In Deep Web section, Tor, Tor browser, serial killer, healthy, you will find information about definition of deep web, how to access, bitcoin, earning money mysteries and so on.☑️ In Animal section, you can find information about alligator, ant, arctic fox, baboon, bat, beaver, bear, bobcat, bumblebee, butterfly, camel, cat, cheetah, dog, dolphin, eagle, frog, giraffe, hamster, jaguar, kangaroo, koala, lion, panda, penguin, pig. Also there are some general educational text about animals in this section.☑️ We are sharing knowledge about how to become a hacker, hacking techniques, protecting yourself while on the Internet, interesting hacking events, history of hacker movies and so on in Hack news.☑️ In Telekinesis section, you will find detailed information about developing telekinesis, making a psi wheel, telephaty, psyhic, bending a spoon, etc.☑️ How to & step by step articles, in this part of our learning application, you can learn, step by step. Creating and training for building a deck, battle with friends and various interesting topics are available in this part.☑️ In Horror Tunnel section, you will be scared if you read carefully. We are providing some texts about horror movies, stories and so on.☑️ In Woman - Man section, some good texts about long term relationship, habits of happy people, differences between female and male friendships, Insta stories etc.☑️ In Internet - Technology category, you will find current news about technology.☑️ In Devices section, there are good texts about smartphone brands. You will improve your level of knowledge!☑️ In science category, we are providing some facts that we might not be aware of, mystery of black holes, quick solutions to fix smartphone issues, past technological dreams, shopping robots and so on.☑️ To relax and have fun, check out our Funny category supplies some interesting texts. You will have lots of fun in this category.---On Deep Web you are educated in the right way! Effectively and truthfully.See why our general knowledge app is one of the best educational apps!Download Deep Web for FREE & let it be your #1 learning app for topics you actually care about!',\n",
       " \"YOUSICIAN - the fast, fun way to learn, play and master the Piano, Guitar, Bass, Ukulele, or Singing / Vocals. Enjoy thousands of songs on your REAL INSTRUMENT! (supports acoustic and electric instruments)Yousician is your personal music tutor! The app listens to you play and gives instant feedback on your accuracy and timing. Our curriculum, designed by expert music teachers, will help musicians of all levels improve, from complete beginners to professionals.Step-by-step video guides help you through each lesson. Fun gameplay tracks your progress and keeps you motivated to practice and learn. You’ll simply be amazed how fast your skills advance. So go grab your guitar, bass or ukulele, go sit at your piano or keyboard, or warm up to sing and start playing now!Who is Yousician for?• Singers, Pianists, Guitarists, Bass & Ukulele players• Complete beginners• Advanced & professional musicians• Music teachersWhat is included?• Over 1,500 missions, lessons & exercises, with hundreds of videos, covering all the skills you need: sight reading sheet music, classical and pop songs for Piano, and for Guitar, Bass and Ukulele you’ll learn chords, strumming, melodies, lead, fingerpicking and more. Find out if you’re in tune when singing along to your favorite songs!• Yousician also teaches you music theory and Includes special trainers for each skill & chord.• A Weekly Challenge, where you can compete with friends and millions of Yousicians worldwide.How does it work?• It listens to you sing or play the piano, guitar, bass or ukulele• It gives you instant feedback on your performance• It takes you through awesome songs and step-by-step tutorials that suit your playing level• It makes learning fun with rewarding gameplay, lessons and challenges__SELF-LEARNERS, Yousician has been developed with the world’s most innovative and experienced music teachers. It is perfectly suited for self-learning or as a supplement to learning with a teacher. With step-by-step tutorials and constant feedback you can always be sure you’re playing your guitar, piano, ukulele or bass right. PLAY WITH ANY PIANO / GUITAR / BASS / UKULELE / VOCALSYousician is played with a real instrument, and requires no additional equipment. The microphone on your phone listens to you play and the app tells you how you're performing. It even works for singing so you’ll never be out of tune during karaoke!PREMIUM SUBSCRIPTIONSubscribe for unlimited and uninterrupted playtime across all platforms.Subscription types are annual plans billed in monthly installments, upfront annual and monthly plans. Prices may vary in different countries. Subscription automatically renews at the end of each term unless auto-renew is turned off in your Yousician account on yousician.com. If you use a Google Play store account, you can cancel your subscription from there.WHAT PEOPLE ARE SAYING ABOUT YOUSICIAN“Yousician is modern technology's gift to music education. It’s an app that teaches you to master the guitar instead of a plastic game controller.” - Guitar World“Yousician is a fabulous place to start learning piano, guitar, ukulele or bass. Yousician teaches basic playing techniques and musical notation by presenting a challenge and then listening as you try to play in real life.” - New York TimesABOUT YOUSICIANYousician is the largest and fastest growing music educator in the world. We believe musicality can and should be as commonplace as literacy. Send us your feedback:Got ideas to make Yousician even better? Simply send your ideas and suggestions to: feedback.yousician.comDownload our free music / instrument tuner app:Guitar Tuna - the #1 guitar tuner app worldwidehttps://play.google.com/store/apps/details?id=com.ovelin.guitartuna&hl=en\",\n",
       " 'Udemy is an online learning platform featuring 80,000+ video courses taught by expert instructors. Take courses in anything from programming languages like Python, and Java to personal development classes like design, drawing, writing and yoga. Join the more than 24 million students who are mastering new skills, advancing their careers, and exploring new hobbies on Udemy.LEARN ANYTHING: Discover courses in over 2,000 topics - from coding and data science to marketing, Photoshop, yoga, and more. New courses, on cutting-edge topics like machine learning, artificial intelligence, and blockchain, are continuously refreshed. LEARN AFFORDABLY: Udemy has both free and paid courses within your budget. Once you’ve enrolled in a course, you’ll have lifetime access to the content. LEARN FROM EXPERTS: Be inspired by 35,000+ expert instructors teaching in 50+ different languages.LEARN ANYWHERE: Download courses to learn offline. On the go? Listen to courses in audio-only mode. LEARN AT YOUR OWN PACE: Ask both students and instructors questions. Personalize your learning experience with speed controls and closed captioning. Free and paid courses available in:- Development: web development, programming languages (Python, Java, JavaScript, Ruby, Swift, C# & more), game development, coding basics, coding bootcamps, etc.- Business: Finance, financial analysis, entrepreneurship, public speaking, presentation skills, writing, etc. Plus, data & analytics (SQL, machine learning, deep learning, data science & more). - IT & Software: IT certification, network & security, cyber security, CCNA, etc.- Office Productivity: Microsoft, Apple, Google, SAP, Oracle, etc.- Personal Development: productivity, leadership, personal finance, career development, study skills, etc.- Design: drawing, web design, graphic design, design tools (Photoshop, Adobe Illustrator & more), UX design, UI design, design thinking, etc.- Marketing: Search Engine Marketing (SEM), Search Engine Optimization(SEO), social media marketing, marketing fundamentals, mobile marketing, content marketing, product marketing, etc.- Lifestyle: arts & crafts, travel, gaming, dog training, etc.- Photography: digital photography, photography tools, commercial photography, video design, etc.- Health & Fitness: yoga, nutrition, meditation, self-defense, etc.- Teacher Training: online course creation, presentation skills, instructional design, etc.- Music: instruments (guitar, piano & more), music fundamentals, music techniques, music software, etc.- Languages: English, Spanish, Portuguese, Chinese, etc.',\n",
       " \" ¡¡ Curso de Inglés Gratis !! Esta APP tiene 50 Lecciones de Inglés, Con Audios, Textos y Pronunciación Figurada. Todo lo necesario para Aprender Inglés, incluye 3 niveles ( Básico - Intermedio y Avanzado).Ademas Cuenta con 7 Examenes Virtuales para evaluar tu progreso en el idioma! Este Curso es 100% GRATUITO, es Completo y de Acceso Libre! No esperes mas, Descarga esta APP ahora mismo a Tu Celular ó Tablet Android!   Curso Completo de Inglés es 100% Recomendado! Learn English Free with this Course! Download it Now! 'English Course Free !! This APP is 50 English lessons with audio, text and pronunciation Figured.Everything needed to learn English, includes 3 levels (basic - Intermediate and Advanced).It also has 7 Virtual tests to evaluate your progress in the language! This course is 100% FREE, is Full and Open Access! Do not wait, Download this APP now to your phone or tablet Android! Full English course is 100% Recommended! Learn Inglés Free with this course! Download it Now!\",\n",
       " 'Access your Canvas courses on the go with the Canvas Student mobile app! From any device, students can now:• View grades and course content• Submit assignments• Keep track of course work with to do list and calendar• Send and receive messages• Post to discussions• Watch videos• Take quizzes• Receive push notifications for new grades and course updates, and much more!',\n",
       " 'Ready to build an amazing classroom community?ClassDojo is a beautiful, safe, and simple communication app for teachers, parents, and students. * Teachers can encourage students for any skill, like “Working hard” and “Teamwork”* Teachers can bring parents into the classroom experience by sharing photos, videos, and announcements* Students can add their classwork easily to their own digital portfolios for their parents to see* Teachers can also safely and instantly message with any parent* Parents see their child’s updates at home, as well as a stream of photos and videos from school* All your favorite teacher tools, like Group Maker and Noise Meter, are now in one place!ClassDojo helps teachers build a positive classroom culture by encouraging students and communicating with parents.ClassDojo is free for everyone, and K-12 teachers, parents, students, and school leaders in over 180 countries have joined. It works on all devices, like tablets, phones, computers, and smartboards.See how much people love ClassDojo at: www.classdojo.com/wall-of-love/Join the ClassDojo community today!',\n",
       " '* Learn Spanish Speaking using an easy, simple yet comprehensive English to Spanish Speaking Course which is meant for teaching you Spanish speaking. * This is a English to Spanish Speaking tutorial which uses a systematic and gradual teaching methodology with very interactive Spanish audio sessions for each of the six dedicated chapters. * You are systematically coached to get more command over Spanish language with English with each and every lesson that you take.* Confident, fluent Spanish learning for Spanish Interview and speaking becomes quite simple and easy as you are provided facility to even record your own Spanish exercise sessions in your own very voice for each lesson and save it for future reference.* A English speaking person will also like going through each of the chapters which are completely interactive in nature, coaching you throughout to gain more knowledge as you learn speaking Spanish language with command.* Every English to Spanish learning chapter is sufficiently provided with quality information to ensure that your speaking fluency gets further enhanced. Use this speaking Spanish book free and make full use of this speaking Spanish course app.This is how you can use this application:***** Text Based English to Spanish Learning***** Audio Based English to Spanish Learning***** Save your voice recordings for future reference and track your improvement against each exercise.Etiquette and Phrasal Verbs.***** Take a quiz test on Spanish language after completing these chapters.***** Hence thereby learn how to speak Spanish using English Fluently.***** This app is useful in giving you the knowledge of Spanish Basics before you start learning Business Spanish. After completing this tutorial, you will be able to figure out common mistakes In Spanish. Often people jump start with Grammar and Parts of Speech, but it is suggested that you first learn with this English to Spanish Phrasebook. Learn to Speak Spanish by Play & Learn method. You can Learn Languages free using the techniques specified in this learn Spanish magazine. This app gives you a basic BPO Interview Briefing. Once you completely understand the content of this app, you can go ahead and later choose to learn Idioms & Phrases. Your next step could also be a group discussion app for interview or an app on Spanish for competitive exams - it will completely your choice. Comprehending Spanish verbs through Spanish listening can also be your future course of action. Here you can also learn to some extend, Spanish for BPO. Learn Spanish by Listening and find here Interview Questions and Answers. You will also be able to Learn Spanish Words or Learn Spanish Vocabulary Daily. This can be your first step towards learning Spanish for Bank Exam. Later, you can refer an Idioms and Phrases Dictionary and strengthen your Spanish. If you are wondering as to how to speak Spanish fluently in 30 days, this can be your perfect destination. We suggest that after you have completed perusing through your app content, you can memorize Synonyms and Antonyms or chisel your Spanish for Banking & SSC preparation. This is Spanish speaking course and Spoken Spanish in English.This language learning application can also be used by those English speaking participants who are preparing for BPO, Call Center, Spanish Discussions and Debates as well as Spanish job interview. If you want to learn Spanish grammar, it is advised that you initially go through this application get yourself ready for your next assignment. If I want to learn Spanish, I should be approaching this application for the same and go through all the chapters. This app can help you learn Spanish fast using audio. It is easier to learn the language using Spanish conversation rather than through an Spanish Dictionary. Learning Spoken Spanish had never been easier. Exercises, vocabulary and business Spanish make this application a special one.',\n",
       " \"Instantly identify plants of all kinds, anywhere in the world! Flowers, trees, succulents, mushrooms and more can be quickly recognized with PlantSnap by Earth.com, the mobile app built to help you identify flowers, plants & trees in a snap.PlantSnap’s huge database covers everywhere on earth so you can identify plants instantly, wherever you are! Explore nature & find plants nearby or worldwide on a map.🌼🌼NEW Feature – Explore🌼🌼Plants, flowers, trees, mushrooms, succulents, cacti and more can now be viewed on a map! Tap Explore to find plant locations, view photos and study info, nearby or worldwide. Then plan your next hike or trip and view the plants in nature!PlantSnap is available to download for FREE!PlantSnap is free to download! Try snapping a plant, flower or tree for free and have your photos instantly recognized by our always-growing algorithm. Plant names, location & more fascinating information on the world around is now free!Simply take a picture of the plant you’ve found in nature, at the gardening store or wherever you are, anywhere in the world, and PlantSnap will tell you what plant it is in seconds.With PlantSnap, you can reconnect to the natural world around you and learn about plants on the Explore map, or browse our gallery to discover new and exotic plants all across the globe.PlantSnap is powered by deep learning and artificial intelligence and is changing the game for plant identification. Our plant database is global and always provides results instantaneously. PlantSnap will recognize many of plants or trees that you encounter, helping any amateur or skilled botany enthusiast identify on the go.PlantSnap Features:🌿Identify Plants by Picture🌿• Identify trees and other plants by snapping a picture!• Identify flowers, trees and other plants by plugging their picture into our Plant Database🌺Plant Database & Learning Algorithms 🌺• 585,000+ plants are currently in our database• Plants, flowers, trees, succulents, mushrooms, cacti and more... covering ALL plants across planet Earth!• Identify flowers and plants with our machine-learning algorithm, which can recognize at least 2000 new plant species per month• Plant species list will update automatically, no additional fees required!🌲Companion Website🌲• Identify plants on your mobile, and your saved collection will be available on the web• Flower, tree or other plant photos can be uploaded on the web and available on your mobile device• Explore nature on mobile, then investigate more on your computer at home!🌸Use PlantSnap for🌸• Flower identification• Identify trees• Identify leaves• Mushroom Identification• Identify Succulents, Cactus & more🍄Explore the World Around You🍄•\\xa0Plants nearby and worldwide appear on our Explore map. Study info with the app, then study them in nature!• Hiking with friends and family? Gamify your hike! PlantSnap lets you build a library of every plant, tree or flower you've snapped. See how many you can collect!• Connecting to nature can be good for mindfulness or spirituality. Whether you’re an avid hiker on the trails or a botanist in a garden, quickly gain knowledge of the plants around you.Quickly identify plants, flowers, trees and more. Have instant access to a huge Plant Database that is constantly learning and adding information on new plant species.Download PlantSnap and enjoy identifying flowers, trees and plants on the go!PlantSnap is free to download and try. After trying the app, you can view ads to keep snapping or subscribe for $2.99/mo or $19.99/year for an ad-free experience.✿✿ For best results, be sure to watch our instructional photo-taking video. ✿✿**Please check your email after registering for more detailed information.**We’re looking to make PlantSnap better every day! Share your feedback in our reviews to let us know what you’d like to see next.\",\n",
       " \"Classroom is a free service for schools, non-profits, and anyone with a personal Google account. Classroom makes it easy for learners and instructors to connect—inside and outside of schools. Classroom saves time and paper, and makes it easy to create classes, distribute assignments, communicate, and stay organized. There are many benefits to using Classroom:• Easy to set up – Teachers can add students directly or share a code with their class to join. It takes just minutes to set up.• Saves time – The simple, paperless assignment workflow allows teachers to create, review and mark assignments quickly, all in one place.• Improves organization – Students can see all of their assignments on an assignments page, and all class materials (e.g., documents, photos, and videos) are automatically filed into folders in Google Drive.• Enhances communication – Classroom allows teachers to send announcements and start class discussions instantly. Students can share resources with each other or provide answers to questions on the stream.• Affordable and secure – Like the rest of G Suite for Education services, Classroom contains no ads, never uses your content or student data for advertising purposes, and is free.Permissions Notice:Camera: Needed to allow the user to take photos or videos and post them to Classroom.Storage: Needed to allow the user to attach photos, videos, and local files to Classroom. It's also needed to enable offline support.Accounts: Needed to allow the user to choose which account to use in Classroom.\",\n",
       " \"Draw colouring pages for Shopkins by Fans is a Great Coloring Game. All will learn the thanks to draw anime cartoon volume properly the proper colors and may have most fun time on this coloring printables game. this could be very helpful gizmo for your to develop imagination.Get Free Draw colouring pages for Shopkins games for fans and Start Draw Now!Coloring Pages for anywhere you'd like coloring pages for teens, coloring pages for boys may be a free app and it does not would like any web. commemorate on vacation outlay time at the side of your favorite characters in anywhere. Let your kid be ingenious , imagination pattern coloring pages and relaxed.Feature this Application: Draw colouring pages for Shopkins by fans- No would like web and simple to play printable coloring book pages.- 100% FREE All Access- Share book to your friend / Save to your phone's gallery coloring sheets for boys- impressive colourful images and coloring pages footage ALL FREE!- A uncountable pencil colors, color template selections out there from color plates and can color print out or coloring book printingHow to Play this Application: Draw colouring pages for Shopkins games- Choose the image book you would like to draw.- Choose the colors you would like for your book and draw at the side of your finger.- Let's Relax and have an honest time drawingthis apps best color activities for toddlers, kids colouring in app and free online adult coloring books==============================Please leave a comment and provides five Stars to the current app================================= NOTE ===This Application is compliance with the GDPR in EU, COPPA within the US.All footage and content taken below ingenious Commons Attribution-Share Alike License three.0 (unported) (CC-BY-SA).This application created for Lessons not for business.This is NOT an official App but just created by fans. This application complies with the guiding principles of the United States Copyright law Fair Use. this will be not associated, affiliated, endorsed, sponsored or approved by official.\",\n",
       " 'Even if you’ve hardly ever doodled, you’ll be at home with Draw.ai!  Follow the steps and draw along, and you can become a drawing master!  It’s super easy and fun!We have all kinds of drawings for you to learn to draw and colour, such as anime, animals, flowers and much more!HOW TO PLAY?- Choose a drawing of your liking.- Follow and draw step by step and fill in colours after you finished drawing.- DONE!  And don’t forget to SHARE your amazing works to your friends!AMAZING FEATURES:- Seamless animations showing you how to draw step by step.- Tons of awesome drawings created by our artists, updated regularly!- Amazing tools!  You can even use our GLOWING pens to create your unique glowing artworks!- Colouring mode for you to practice your colouring skills.- Auto generated video of your drawing & colouring process!Download now and become a drawing master with Draw.ai!*In order to save your works, Draw.ai may request permission to write & read your device’s external storage.*',\n",
       " 'Photomath is the #1 app for math learning; it can read and solve problems ranging from arithmetic to calculus instantly by using the camera on your mobile device. With Photomath, learn how to approach math problems through animated steps and detailed instructions or check your homework for any printed or handwritten problem. Math Superpowers for Every Student – Whether you are struggling to wrap your head around this week’s math homework, simply want to improve your understanding, or are looking to ace an upcoming test, start your journey with Photomath, the pocket tutor that’s trusted and used by millions every day.Photomath for Parents – Be the expert your child can depend on    Photomath can help review math concepts and fend off math anxiety that can take a big bite out of students’ performance. Use Photomath to help your kids learn and get better grades.Photomath for Teachers – Amplify your math teaching Photomath has improved student performance in a wide range of classrooms and schools worldwide. Implement Photomath to elevate your teaching and accelerate student learning inside the classroom and at home.Photomath provides• Instant help• Smart camera calculator• Handwriting recognition• Step-by-step explanation• Animated instructions• Multiple explanation methods• Beautiful graphsPhotomath supports arithmetic, integers, fractions, decimal numbers, roots, algebraic expressions, linear equations/inequalities, quadratic equations/inequalities, absolute equations/inequalities, systems of equations, logarithms, trigonometry, exponential and logarithmic functions, derivatives and integrals, graphs and many more.What else would you like for us to cover? Let us know at support@photomath.net.',\n",
       " \"Learn to speak a new language intuitively with Rosetta Stone. Train yourself to gain context from conversations using our proven immersion method. Rosetta Stone’s award-winning mobile app teaches you to think in a new language by connecting what you’re seeing with what you’re saying. Explore a conversational  way of language learning that grows your speaking and reading abilities. Study grammar and vocabulary intuitively and learn to speak a new language, from French to Korean. • 2018 Platinum Award for Best Educational App by the Best Mobile App Awards • 2018 PCMag Editors’ Choice • 2017 Best Productivity & Utilities App by Mobile UX Awards TOP 3 FEATURES1. Sound amazing and improve your pronunciation with TruAccent®, our patented speech recognition technology.2. Thrive in conversation after using Rosetta Stone’s Dynamic Immersion® method. 3. Perfect your language skills offline. Listen to our downloadable lessons and keep learning, wherever you are.YOUR ROSETTA STONE JOURNEY1. Open up your worldChoose from 24 languages: Spanish (Latin America), Spanish (Spain), English (US), English (UK), French, Japanese, Italian, German, Chinese, Portuguese, Russian, Arabic, Korean, Dutch, Tagalog, Greek, Hebrew, Hindi, Irish, Farsi, Polish, Swedish, Turkish, and Vietnamese.2. Begin your journeyPractice learning the basic greetings, questions, and phrases you need to introduce yourself, get around, and start simple conversations. Refine your accent with our TruAccent® technology. Read short stories aloud for instant feedback. What you learn now is the foundation of your language journey. 3. Find your feetThis is where your learning experience really gets going. Get outside and explore your surroundings! Eat out, order a drink, ask for directions, haggle over an item, or make a new friend. Consult our easy-to-access Phrasebook for greetings, phrases, and useful expressions. Out and about without internet access? Learn offline with downloadable lessons, or listen to our audio companion.4. Express yourselfYou’re now beginning to feel confident expressing feelings and opinions in your new language. You can talk about everyday life, ask for advice, communicate with clients, and make jokes. You’re surprised at how much you can speak and understand! 5. Converse with easeYou’re thinking, expressing feelings, and dreaming in your new language. You can conduct business and socialize with confidence. You’re expressing yourself on a range of topics, from politics to sports, and everything in between. Congratulations! Strangers become friends and the world becomes a smaller place when you’ve learned a new language.Download Rosetta Stone and start your language learning journey today!-------------------------------------------------------------TRY IT: Try us free for 3 days! If you enjoy your Rosetta Stone trial, do nothing and your subscription will automatically continue.Current Subscribers • Get full access to all lessons, stories, and audio companion when you subscribe to Rosetta Stone. • Payment will be charged to your Apple ID. • Your account will be auto-renewed 24 hours prior to the end of the current period.• Manage or cancel your subscription from your App Store User Settings at any time after purchasing. Payment will be taken until the end of the current period. Enterprise and Education Learners• Unlimited use of Rosetta Stone's mobile app is available for existing Enterprise and Education Learners.• Features may vary for Enterprise and Education Learners.For questions or assistance, please visit http://support.rosettastone.com\",\n",
       " \"You don't need to be an astronomer to find stars or constellations in the sky, just open SkyView® Free and let it guide you to their location and identify them. SkyView Free is a beautiful and intuitive stargazing app that uses your camera to precisely spot and identify celestial objects in sky, day or night. Find popular constellations as they fade in and out while you scan across the sky, locate planets in our solar system, discover distant galaxies, and witness satellite fly-bys.***Google Editor's Choice 2017***Features: • Simple: Point your device at the sky to identify galaxies, stars, constellations, planets, and satellites (including the ISS and Hubble) passing overhead at your location.• Night Mode: Preserve your night vision with red or green night mode filters.• Augmented Reality (AR): Use your camera to spot objects in the sky, day or night.• Sky Paths: Follow the sky track for any object to see it’s exact location in the sky on any date and time.• Time Travel: Jump to the future or the past and see the sky on different dates and times.• Social: Capture and share beautiful images with friends and family on social networks. • Mobile: WiFi is NOT required (does not require a data signal or GPS to function). Take it camping, boating, or even flying!• Supports Space Navigator™ binoculars, spotting scope, and telescopes.What a fun way to teach yourself, your children, your students, or your friends about our wonderful universe!\",\n",
       " 'Cook Donut Maker - Unicorn Food Maker for Kids is a fun free DIY kids game. So many sweet unicorn for girls. DIY colorful unicorn food&cute cronuts. Now baking the cronuts and coloured donuts right now!Become the best sugary chef with fun Cooking Donut Game- Food Making Game for girls and boys,kids and toddlers.In the donut game,little kids can cook kinds of colorful sweet donuts!Unicorn rainbow donuts with colorful wings bring children like in the fairy tale;Cute pet donuts include yellow duck donut,black white cow donut,pink pig donut,lovely panda donut and so on;Also festival donut is very popular among girls and boys,so you can make Christmas donut in this free girl games to design as Santa,deer,and any other Christmas decorations! Wanna to be a best little chef as donut maker?Be the donuts maker and play the baking doughnuts for kids right now. Now start the fun kitchen food maker game. Game Features: 1.Look! Donut dush!A super fun cronuts bakery stands here!The donut shop sells sweet unicorn food,coloured donuts and even Christmas donut!Such a sweet maker game!2. Little unicorn chef. Go crazy with cooking unicorn food first!Add some rainbow color to the food mixing batter for good donuts.3.Be the best chef food maker!Donut dush!Unicorn food baking time!Learn baking doughnuts with the glitter rainbow unicorn decorated oven for children. You are the best sugary chef!4.Donut dush!See what a colored donut you have cooked!Make it a trendy unicorn rainbow donut right now!Add glitter horns,colorful sprinkles,colorful candies,fun faces,sparkly wings, sweet cream on it.The good donuts look so beautiful!5.Be the sugary chef,DIY donut sounds exciting!I want puppy donut,cat donut ,bunny donut,pig donut....lots of unicorn donuts in our unicorn games.6.Baking doughnuts now!Roll donut dough for making food like pet donuts.Then cut the doughnut to fry in the grease.Wow!You cook the best donut food in the colorful land!7.Jingle bell,Santa,Reindeer,Christmas Stockings,Christmas tree,and piles of colorful Christmas surprise gift boxes over there show that we will make Christmas donut in this winter snow game.8.The best Christmas gift would be your DIY Christmas donut! You will be the best sweet maker in the christmas game for girls.9.The smell of tasty donuts,the beautiful colors of designs, all the sweet donuts that you made, take your first bite.10.Time to let your colorful imagination run wild when you make and decorate the finest donut around the free girl game.11.Try strawberry frosting with sprinkles and colorful candy or maple with chocolate.You will learn lots of dessert making in the food make game with lots of fun .12.Play this educational cooking game and share with your friends and family.13. Best Childrens games and chef food maker ever and play free children games now.There so many unicorn for girls.It is so much fun to make sweet and good donuts in the cooking game free for children.Download this cronuts game and baking doughnuts games for girls TODAY!ABOUT FunPop FunPop are specialize in kid’s games on mobile platform. We are aiming to provide innovative & educational game for the whole family. We help them to learn the basic life skills and good habits through our games. Visit us:\\xa0http://www.funpop.com.cnWatch us: https://www.youtube.com/c/FunPopMediaCONTACT US\\xa0Let us know what you think! Questions? Suggestions? Technical Support? Contact us 24/7 at contact@funpop.com.cn',\n",
       " 'ShakeAlertLA alerts you that an earthquake has been detected and that you may soon feel shaking. You can also use this app to prepare for an earthquake, get details on recent earthquakes, and find help after an earthquake. This app is brought to you by Mayor Eric Garcetti and the City of Los Angeles, and built on the ShakeAlert system developed by the U.S. Geological Survey.',\n",
       " 'Star Walk 2 Free - Identify Stars in the Night Sky is a great astronomy guide to explore the night sky day and night, identify stars, constellations, planets, satellites, asteroids, comets, ISS, Hubble Space Telescope and other celestial bodies in real time in the sky above you. All you need to do is to point your device to the sky.Explore the deep sky with one of the best astronomical applications.Objects and astronomical events to learn in this stargazing app: - Stars and constellations, their position in the night sky- Solar system bodies (solar system planets, the Sun, the Moon, dwarf planets, asteroids, comets)- Deep Space objects (nebulae, galaxies, star clusters)- Satellites overhead- Meteor showers, equinoxes, conjunctions, full/new Moon and etc.Star Walk 2 contains in-app purchases.Star Walk 2 Free - Identify Stars in the Night Sky is a perfect planets, stars and constellations finder which can be used by both adults and children, space amateurs and serious stargazers to learn astronomy by themselves. It is also a great educational tool for teachers to use during their astronomy classes.This free version contains ads. You can remove ads through In-App purchases.Main features of our astronomy app:★ Stars and planets finder shows the real-time map of the sky on your screen in whatever direction you are pointing the device.* To navigate, you pan your view on screen by swiping in any direction, zoom out by pinching the screen, or zoom in by stretching it.★ Learn a lot about the solar system, constellations, stars, comets, asteroids, spacecraft, nebulas, identify their position on the map of the sky in real time. Find any celestial body following a special pointer on the map of the stars and planets. ★ Touching a clock-face icon at the upper-right corner of the screen allows you select any date and time and lets you go forward or backward in time and watch the night sky map of stars and planets in fast motion. Find out star position of different time periods.★ Enjoy AR stargazing. View stars, constellations, planets, satellites overhead and other night sky objects in augmented reality. Tap on the image of the camera on the screen and the astronomy app will activate your device\\'s camera so you can see charted objects appear superimposed on live sky objects.★ Except for map of the sky with stars and constellations, find the deep-sky objects, satellites in space live, meteor showers. The night-mode will make your sky observation at night time more comfortable. Stars and constellations are closer than you think.★ With our star chart app you will get a deeper understanding of the constellation`s scale and place in the night sky map. Enjoy observing wonderful 3D models of constellations, turn them upside down, read their stories and other astronomy facts.★Be aware of the latest news from the world of outer space and astronomy. The \"What\\'s new\" section of our stargazing astronomy app will tell you about the most outstanding astronomical events in time.*The Star Spotter feature won\\'t work for the devices that are not equipped with the gyroscope and compass.Star Walk 2 Free - Identify Stars in the Night Sky is an impressively good looking astronomy app for stargazing at any time and place. It is the all-new version of the previous Star Walk. This new version has a re-designed interface in conjunction with advanced features.If you’ve ever said to yourself “I’d like to learn the constellations” or wondered “Is that a star or a planet in the night sky?”, Star Walk 2 Free is the astronomy app you’ve been looking for. Try one of the best astronomy applications.Visit our siteFacebook Official PageTwitter PageMedium Star Walk blog',\n",
       " 'Create your own quizzes (kahoots) in seconds, play anywhere, anytime, on your own or with friends, have fun and LEARN! Kahoot! unleashes the magic of learning for students, teachers, office superheroes, trivia fans and lifelong learners. Our app has a whole bunch of superpowers! Here are a few of them:Quiz creation appCreativity can spark anytime! Create a game in minutes, even if you’re on the go. This works great for student projects and can also be a hot hit at parties when you want to surprise your friends. Live game appJoin kahoots hosted live - for example, in classrooms - use the app as the game controller, and win medals! Or, put your quizmaster’s hat on: host your own game for others on a big screen, right from your phone or tablet.Trivia appFind a quiz on any topic from millions of games on our platform. You can play on your own or challenge friends for a fun competition.Homework appInstead of paper assignments, teachers can now assign kahoots as homework using challenges. Make homework awesome, save time on correcting assignments and track learning progress. Remote training appCalling all corporate trainers! Make training really engaging with Kahoot! challenges, even if participants are miles apart. For businesses, this feature is part of our premium plans - Kahoot! Plus or Kahoot! Pro.Ready to play?!',\n",
       " 'The \"Baby Shark\" song with Over 3.0 billion views on Youtube is now out with fun activities! 1. Various versions of Baby Shark videos- You can watch the original version, the fast version and the 3D animation version altogether! 2. Amazing sea instruments- Play music with the sea animals. - Find out how the adorable fish, colorful clams, and jellyfish sound like when you touch them! 3. Creative coloring activity- Color sea animals and create your own looks. - 10 crayons, 8 glitters and various sea patterns included. 4. Bubble game time- Pop the bubbles with sea animals inside. - Learn animal names and have fun with funny sounds. 5. Match animal cards - Flip and match the cards and learn sea animal names. - Meet new animals everytime you restart the game. Have fun with Baby Shark! Doo roo doo roo doo doo ~~*** Produced by Pinkfong, the official creator of global hit Baby Shark behind #BabySharkChallenge*** Permission required  to access your device\\'s external storage for saving and loading photos.',\n",
       " 'Caring Baby Eggs-Animal Spa Salon is the most fun animal games for girls. Animal surprise. Cute animals hatched from surprise eggs lived happy life in the rainbow forest. But one night, a mystery thief stole their baby eggs.Luckily, a bag of  surprise eggs dropped.Now,hatch eggs to see what shimmer and shine new baby jungle animal will be born.Take the new born baby egg to the jungle animal pet salon,give him the best animal love!Play the animal caring game now!                       Game Features: 1.Look,a shining bag there! OMG - so many colorful surprise eggs!It is not Easter Day,right?Cared this baby animal and have fun in hatch baby animal. 2. Do you hear the glitter surprise eggs are making sounds?Let’s hatch surprise eggs to see what surprise new baby animals will be born!Bunny,puppy or any other baby pets?3.Flower showers?Such cute and shining tools!Even not play it in a animal spa salon game.4.Wow,animal surprise!Happy birthday!The little live pets need good pet caring,be careful! Do the pet and animal cared now!5.Let’s build a sparkly nest for the new born baby animal!Show your creation,DIY and design a glitter home for the new baby pet.6. Hatch egg and do the baby spa. You can make the best animal caring.What a baby animal you have hatched! Have fun with cute sweet pet baby in the jungle pet salon.7.Clean up littlest pet.See, he is playing bubbles while bath time.Hi,baby,do you want a pet spa?8.The pet baby want a make up salon?Em,my baby,you should grow up a little to a pet shop to do such make up.9.Choose from tons of delicious snacks to feed your baby pet. Sweet candy,chocolate,cupcake,donut,pizza,cookie,,ice cream,candy lollipop,hot dog,hamburger,so many sweet treats.10.The baby pet seems to say something! OMG,is he saying I love you? 11.The pet saga starts while you find the surprise eggs!You will find a pet salon game,a little like puppy salon, cleanup game and babysitting game here.12.Hatch an egg,look after animal pets,make pet salon and pet spa for little cute pets.To be a good mommy in this surprise pet salon hatch game.Enjoy the baby pet game and kid games for girls. Download the fun pet salon games for girls. Get ready to be a good mommy!Hatch an egg and do the animal spa salon. Play the fun free pet animal cared games in the baby animal world now. ABOUT FunPop FunPop are specialize in casual games on mobile platform. We are aiming to provide innovative & educational game for the whole family. We help them to learn the basic life skills and good habits through our games. Visit us: http://www.funpop.com.cnWatch us: https://www.youtube.com/c/FunPopMediaCONTACT US Let us know what you think! Questions? Suggestions? Technical Support? Contact us 24/7 at contact@funpop.com.cn',\n",
       " \"Epic! is the #1 children’s ebook library, offering unlimited access to over 25,000 high-quality children’s books. It's an unlimited library your kids can take anywhere!There are 2 versions of Epic!, both accessible through the one app:1.  EPIC! FOR THE HOME* Over 25,000 great titles with many more added weekly* Audio-enabled “read-to-me” books* Individual customized child profiles at no additional cost* Personalized book recommendations for each child* Online and offline reading (take Epic! in the car, on a plane, or camping)* Subscription needed to access full Epic! library. Use your subscription across devices, on Android, iOS, or any Web browser2.  EPIC! FOR EDUCATORS* Completely free to elementary school educators in the US and Canada* Access to unlimited children's literature, including Read-to-Me and non-fiction books* Ability to create personalized student profiles* Personalized recommendations based on students’ reading levels and interestsTHE EPIC! LIBRARY Epic!’s library includes fiction and non-fiction books from leading publishers such as HarperCollins, Macmillan, National Geographic and many more. Well-known books and series include:* Flat Stanley* The Chronicles of Narnia* Goosebumps* National Geographic Kids...and many moreThe Epic! library contains a wide variety of book types:- Picture books - Chapter books- Audio-enabled “read to me” books- Non-fiction titles- Audiobooks- Spanish and bilingual booksSUBSCRIPTION DETAILS - You can cancel your subscription anytime, no hassles or fees- You can find instructions on how to manage and cancel subscriptions here: http://bit.ly/EpicFAQMembershipCUSTOMER SERVICE  We’re here to answer any of your questions about Epic!. Please send us an email at support@getepic.com and our friendly customer support team will reply shortly.\",\n",
       " 'Have fun learning with Raz-Kids, Science A-Z, and Headsprout on the Kids A-Z app! With Kids A-Z, students can complete various interactive activities from the Raz-Kids, Science A-Z, and Headsprout products and update their robot avatars on mobile devices. Students using the app can:• Access hundreds of developmentally-appropriate books, exercises, and other resources• Complete corresponding quizzes that ensure comprehension• Utilize interactive annotation tools that support close reading skills• Have their work scored and reported to their teacher automatically• Customize their personalized robot avatar and space rocket using the stars earned from completing activities The Kids A-Z app is free to download, but access to Raz-Kids, Science A-Z, and Headsprout content requires subscriptions to the respective product.  For more info about our products and subscriptions, please visit our website: https://www.learninga-z.com/site/products/',\n",
       " 'With an internet connection the Starfall app provides a large sample of free activities. Then join and sign in as a Starfall member. Members have access to the full content within this app on their mobile devices as well as the www.starfall.com website from their computer. Young children will have fun learning reading, math, and more! Starfall offers a variety of activities for children in pre-k through first grade, plus second grade math. Features:*Math Songs*Numbers and Counting*Geometry and Measurement*Addition and Subtraction*Multiplication and Division*ABCs*Colors*Backpack Bear’s Books*Learn to Read*Talking Library*All About Me*Groundhog Day *Pumpkin*Turkey*Gingerbread Boy*Snowman*Selected Nursery Rhymes*Motion Songs*Starfall Sing Alongs*ABC Rhymes*Historical Folk SongsAbout Starfall: Starfall Education Foundation is a publicly supported nonprofit, 501(c)(3). We create free and low-cost experiences whereby children can successfully learn through exploration. With Starfall at home and in the classroom children have fun while learning in an environment of collaboration, wonderment, and play. We teach through positive reinforcement to ensure children become confident, intrinsically motivated, and successful.',\n",
       " \"Learn Spanish 🇪🇸🇲🇽, French 🇫🇷, Japanese 🇯🇵, Korean 🇰🇷, Italian 🇮🇹, Chinese 🇨🇳, German 🇩🇪, Russian 🇷🇺, Arabic, Portuguese 🇵🇹🇧🇷, Danish 🇩🇰, Swedish 🇸🇪, Polish 🇵🇱, Norwegian 🇳🇴, Turkish 🇹🇷, Dutch 🇳🇱 or even learn English 🇬🇧🇺🇸. Have fun while learning a foreign language with the Memrise language learning app. The more you enjoy learning, the more (and quicker) your skills will develop. This is why entertainment mixed with real-life, relevant content is at the very core of the Memrise foreign language learning experience.------ The Memrise Award-Winning Language Learning App★ Google Play I/O Best App of 2017 ★ Editor’s Choice★ Top Developer ------ Do you want to connect with the world? Get ready for your next trip or adventure abroad? Improve your grammar? Or are you looking for the best way to learn a language? Then join our community of over 35 million language learners and develop real-life language skills through a rich variety of easy-to-use games and over 30,000 native speaker video clips. Language learning has never been so simple!★ Learn with Locals - Real people helping you learn real, everyday language in context★ A variety of exciting interactive language and vocabulary games for you to learn and practice: Speed Review, Listening Skills, Difficult Words, Classic Review…★ Pronunciation guide – Speak like a local by recording and comparing your pronunciation with native speakers'★ Offline mode - Learn languages online or offline and put your skills to the test whenever and wherever is convenient for youWhat makes Memrise the best language learning app?For our international team, nothing is more special than the ability to connect with new countries and cultures through language, and we want to share this with you! This is why our language lessons only include useful, everyday words and phrases that enable you to have real conversations with real people. How? Our talented linguists and language experts work side-by-side with our world-class team of developers to create the very best language courses and games that are simple, enjoyable and accessible to everyone. Learn A Foreign Language With MemriseDownload the Memrise language learning app today, the best app for learning Spanish, French, Japanese, Italian, German, Korean, Arabic, Russian, Chinese, Portuguese, Danish, Swedish, Polish, Norwegian, Turkish, Dutch and English. ------*PLEASE NOTE: You will need a Memrise subscription in order to access all courses and features. Courses and features available may vary depending on your device language and language pair.Once purchased, subscriptions will automatically renew unless cancelled before the end of the current payment period. Subscriptions can be managed or cancelled in your Google Play Store account.------Visit us now at: https://www.memrise.com------ Continue your learning journey with Memrise: * Facebook: https://www.facebook.com/memrise/* Twitter: https://twitter.com/memrise* Instagram: https://www.instagram.com/memrise/\",\n",
       " \"Do you want to be the head chef of your very own sushi restaurant? Check out Toca Kitchen Sushi, the newest app from Toca Boca 👉 http://bit.ly/TocaKitchenSushi_GooglePlayEver wanted to play with your food? Now you can! Toca Boca brings you Toca Kitchen, where you cook, play with and prepare food for four hungry characters. Pick any ingredient and prepare it in your own way. Slice, boil, fry, cook, microwave or mix! Then wait for your hungry friend’s response.We created this educational app for kids to give the mud cakes a new face, a complete virtual makeover which the kids will love! The characters fearful reactions to different meals will make you giggle. Does the cat like salty fish? Will the boy eat potatoes and greens? Mix and match your own meal! With no high scores, levels or time limits the fun doesn’t have to end in this cooking app.  - Four cute characters to cook for - each with their own favorite food!- 12 different ingredients that can be prepared in 180 different ways!- Slice, boil, fry, cook, microwave anything you like! - Professional and fun kids app design!- No rules or high scores!- Kid-friendly interface- No in-app purchases- No third party advertisingWhat are you waiting for? Let’s get in the kitchen and start cooking!Toca Kitchen is a free cooking app for kids that’s perfect for aspiring chefs. Kids will roleplay a chef in a kitchen, exploring ways to cook tasty and silly foods for hungry customers to eat. This fun cooking app is sure to deliver nothing but creativity and imagination for kids!As with all Toca Boca apps, there are no high scores, time limits or stressful music. Rest assured this app for kids let’s kids play however they want!***ABOUT TOCA BOCAAt Toca Boca, we believe in the power of play to spark kids’ imaginations and help them learn about the world. We design our products from the kids' perspective to empower kids to be playful, to be creative and to be who they want to be. Our products include award-winning apps that have been downloaded more than 130 million times in 215 countries and offer fun, safe, open-ended play experiences. Learn more about Toca Boca and our products at tocaboca.com.PRIVACY POLICYPrivacy is an issue that we take very seriously. To learn more about how we work with these matters, please read our privacy policy: http://tocaboca.com/privacy\",\n",
       " \"Painting is a good practice for everyone, children, youth and adults. It lets you free your creativity and explore new ideas, a blank paper is where everything can arise.A whiteboard, with all the tools always available, allows you to concentrate on the drawing and not on the app, which makes a more enriching experience with better usability.Knowing more colors, since many times you do not know how they are said, allows you to perceive more nuances in the drawings.InterfaceThe colors are on the right side, you have 32 to choose from, you can scroll up and down until you find the one you are looking for, when you click on a color, you will hear how it is said.The tools are on the left side, and from top to bottom you will find:- speaker, mute or enable sound- red trash can, erase the board- green floppy disk, save the drawing- thickness level, change the thickness of the drawing tool, there are 3 to choose- eraser, erase parts of the drawing- pencil, draw- roller, fill the area you wantYou also can edit photos from your gallery, just share it with the Lucas' Whiteboard.\",\n",
       " \"Speak a new language with confidence. Learn Spanish, French, Italian, German and many more languages with Babbel.— get the app named one of Google Play’s Best Apps 2015!Try out the first lesson for free.THE BABBEL METHODHere’s what makes Babbel more effective than any other language learning app:★ Confidence — We teach you how to engage in practical, everyday conversations, making it easier for you to have authentic experiences in your new language. ★ Comprehension — Our lessons immerse you in relevant culture and real-life conversations. ★ Retention — We know you’re busy. That’s why our lessons are short but sweet: about 10-15 minutes, and designed to send your new language straight to long-term memory. *Named 2016’s “most innovative company in education” by Fast Company**The World’s Highest Grossing Language Learning App**Google Play’s Best Apps of 2015*FEATURES• Extensive selection of interactive courses for 14 different languages.• Ideal for both beginners and advanced learners. • 10-15 minutes bite-sized activities that fit in your schedule.• Entertaining listening, writing, reading and speaking exercises.• Learn vocabulary from a wide range of topics (including travel, culture, and business)• Speech recognition technology aids pronunciation• Review Manager keeps vocabulary in your long-term memory• Learning progress synchronized across all your Android devices and on the webA VARIETY OF LANGUAGESWith Babbel you can learn Spanish, French, German, Italian, Brazilian Portuguese, Russian, Turkish, Polish, Indonesian, Dutch, Danish, Swedish, and Norwegian. BABBEL HELPS YOU ACHIEVE YOUR GOALSAfter just one month, you will be able to speak confidently about practical topics, such as:• Transportation• Shopping• Directions• Making friends and socializing• Dining• And much more!WHAT PEOPLE SAY“Babbel is one of the stalwarts of the online language-learning sphere.”  -The Next Web“Babbel’s lessons, unlike Duolingo’s, first focus on building basic conversational skills.” -The Economist“Babbel exceeds expectations, delivering high-quality, self-paced courses in 13 languages.” -PC Magazine---------------------------PLEASE NOTEYou will need a subscription in order to get access to the full learning materials for one language. Each subscription will be automatically renewed unless auto-renew is turned off at least 24 hours before the end of the current payment period. Your Google Play account will be automatically charged at the same price for renewal within the 24-hour period prior to the end of the current payment period unless you change your subscription preferences in your account settings. When a subscription is canceled, access to the app’s courses and features will expire at the end of the current payment period. --------------------------- VISIT US http://www.babbel.com FOLLOW US http://www.twitter.com/babbel LIKE US https://www.facebook.com/babbel.languages---------------------------Language Education from Babbel: Babbel offers you a complete online language learning experience for thirteen different foreign languages. Learn French, Spanish, German, Italian, Portuguese, Turkish, Polish, Dutch, Indonesian, Russian, or any one of the Scandinavian languages — Swedish, Danish and Norwegian. Whether you're using your mobile phone, tablet or computer, Babbel automatically synchronizes your study progress across all your devices. This means you can brush up on your grammar and work on building an extensive vocabulary anytime, anywhere.Beginner? Advanced? Babbel’s courses are perfect for learners of all levels. Want to concentrate on French verb conjugation, or perhaps Spanish tense review? Babbel’s language courses are arranged thematically, and cater to just about every interest.\",\n",
       " \"** Selected by Google as Editors’ Choice and downloaded more than 15 million times worldwide. **Elevate is a brain training program designed to improve attention, speaking skills, processing speed, memory, math skills, and more. Each person is provided with his or her own personalized training program that adjusts over time to maximize results.The more you train with Elevate, the more you’ll improve critical cognitive skills that are designed to boost productivity, earning power, and self-confidence. Users who train at least 3 times per week have reported dramatic gains and increased confidence.Elevate offers a 14-day free trial as well as a free version. To access the free version, tap the X in the upper left-hand corner after you sign up for an account. FEATURES* 35+ brain games for critical cognitive skills like focus, memory, processing, math, precision, and comprehension * Detailed performance tracking * Personalized daily workouts that include the skills you need most * Adaptive difficulty progression to ensure your experience is challenging * Workout calendar to help you track your streaks and stay motivated * And more!IN THE NEWSCNET“Elevate comes out ahead” in the battle of the brain training apps.Wall Street JournalCompared with other brain games, “I prefer Elevate the most.”Washington PostElevate is a “cognitive pick-me-up” with games that are “good for mental breaks throughout the workday.”RESEARCH BEHIND ELEVATEElevate's brain games are designed in collaboration with experts in education and are based on proven educational techniques. Elevate’s brain training algorithms draw from cognitive research in attention and memory studies to develop a personalized training program for each user.\",\n",
       " \"Welcome to Blackboard's mobile solution that helps students stay informed, up-to-date and connected. This app includes Blackboard Collaborate with the Ultra experience - a synchronous web conferencing solution for high-quality virtual classes and meetings.With the Blackboard app, you can:• Quickly view updates to your courses and content• Take assignments and tests• View grades for courses, assignments and tests• Participate in Collaborate sessions on the goWe love feedback! If you have any questions or comments use the in-app feedback to help improve the application.Note: This application functions as a collaborative tool between our app software and your institution's Blackboard Learn server. Blackboard cannot guarantee that the content created by instructors or other users will be compatible with this app. Access must be enabled by your institution. Features and functionality may at times be limited if your institution has not updated the appropriate software or experiences server outages.Downloading or using this app indicates consent to the terms and privacy information at http://www.blackboard.com/footer/terms-of-use.aspx.\",\n",
       " 'Blinkist distills the key insights of 2,500+ bestselling nonfiction books into powerful 15-minute reads or listens. Boost your knowledge and gain new perspectives to become a better, smarter you. Over 7 million users treat us as a companion on the most noble and challenging journey we know: fulfilling their human potential. Get the key insights of 2,500+ bestselling nonfiction books• Sharpen your professional skills with the best business books in your field• Explore your many-sided self with the most impactful self-improvement titles • Discover new perspectives on the world with bestsellers on economics, science, history & culture• Stay on top of the latest trends and ideas in your professional field Switch between audio and text• Listen to audio versions to effortlessly slip learning into your day • Create your own personal audio playlists to customize your learning experience • Learn hands-free at the gym, in the car, or doing chores with Autoplay• Read and listen offline Enjoy personalized reading recommendations & expert-curated lists • Always know what to read next—we’ll suggest titles based on your interests & reading history• Discover reading lists curated exclusively for Blinkist by thought leaders like Arianna Huffington, David Allen, and Dan Ariely on topics such as productivity, business, smarter living, and moreBenefit from a human touch•Focus only on the best nonfiction—our editorial team carefully selects every one of our titles•Enjoy lovingly written key insight summaries by field experts with a passion for explaining complex matters in simple, beautiful languageLearn the way science intended• Retain more thanks to a format based on brain-based learning and neuroscientific research• Understand quickly and easily thanks to crystal clear language and short, powerful contentIn the pressNamed one of Europe’s Hottest Start-Ups in 2016 by Wired“There is no such thing as too much knowledge. If you would like to expand your horizons, but don’t have the time to read, Blinkist is a speedy and convenient way of learning” - TheNextWeb\"Blinkist offers a terrific service – great ideas distilled down to their very essence. For those of us who are deeply curious about new ideas on success, happiness, innovation, progress and more, it’s a great start.\" - Forbes “The audio feature is an awesome way to dive into a book while folding laundry or cooking a meal.” - BuzzFeedHow it works:Getting started is simple. Download the Blinkist app now and sign up for a free 7-day trial. We have monthly and annual plans available. You can cancel at any time during your 7-day free trial via the Play Store settings and then you will not be charged. Also, plans automatically renew unless you turn off auto-renew in your account. With Blinkist Premium you have:• unlimited access to 2,500+ titles • unlimited access to audio versions of all titles• personalized recommendations from the Blinkist editorial team • the ability to read & listen offline • a send-to-Kindle feature• the ability to sync highlights with Evernote If you’re not ready for unlimited access, you can still read one title selected by us, every day, by choosing the Blinkist Free plan.Questions? Suggestions? You can speak to a real person at Blinkist. Our trusty customer support team is just an email away --- simply write to support@blinkist.comTerms of Service: https://www.blinkist.com/en/privacy/#terms Privacy Policy: https://www.blinkist.com/en/privacy/#privacy',\n",
       " \"Mermaids are the most fantastic and beautiful princesses of the ocean. Come in and enjoy the mermaid painting and drawing salon. In this free coloring book game you find many coloring pages and pictures. This app is designed to be fun and easy to use for a mixed audience of all ages, from young to old. Easy navigation make it fun for grown up women, but also easy to use for girls. We get lots of positive feedback from women of all ages, kids, teenagers and adult women. Even grandparents find it fun to paint and color in this app.You can paint all designs with different colors and you can paint their hair, clothes, makeup and tail. But you also have the option to draw your own drawing or work with stamps and stickers. Also included are designs of fish and dolphins.When you're done and have made a nice picture you can easily store your design to use as wallpaper or share it with friends or family. We have a coloring book full of free pages of mermaids in many different themes which you can paint and draw:- Mermaids in beautiful dresses with long tails and hair.- Playing with other animals like fish, seahorses and dolphins.- In love which kiss with merman. - Looking for treasures while diving under the sea.- A little mermaid excitement with scary sea creatures.If you or your daughter likes mermaids she will also enjoy coloring and painting the models in this app.  And with all the colors you can chose from you can also makeover and color the makeup, tails and hair of these beautiful girls. Can you make them look like a real mermaid?Or take a look at our other games with lovely designs for kids and adult. Drawing, painting, dress-up and makeover games to make beautiful pictures and stimulate the creativity of you or your son or daughter. We have lots of free painting and drawing games for boys and for girls.All mermaid coloring pages are copyright protected by 2 Monkeys\",\n",
       " \"Remind is a communication platform that helps every student succeed. Whether you're in the classroom, at home, or anywhere in between, Remind makes it easy to stay connected to your school community.* Send real-time messages to any phone.* Message a class, a person, or just a small group.* Translate messages into more than 85 languages.* Share photos, handouts, and other files.More than 27 million educators, students, and parents use Remind in over 95% of U.S. public school districts. Hop over to our site to learn more: http://www.remind.com (http://www.remind.com/)\",\n",
       " \"Listening to good music is undoubtedly one of the passions that is shared the world over, so we have created a guide for Download Music For Free To My Phone Fast Guide from your device without the need to associate or download other programs, by downloading music free for the cell phone following our guidelines you will realize that you lost a lot of time with traditional methods, in the guide we also teach you to download free hd videos we know that all those passionate about good music want to follow closely and in detail everything related to the production of your favorite video clip.Do not settle for those television programs or short films that roll without any regular channel, with our guide you can download videos of any kind and become an expert, we have the best qualified personnel in the area of ??digital telephony, engineering and computer to provide an excellent service to download application to download videos, do not think that we only work with a specific phone model, our page is open for any model, in the guide you will find how to download free music to my cell phone according to your brand.For us it is important that you know that this is not an app that will do the work for you, it is a guide with the best bases so that you can make the downloads you want.When downloading free music in Spanish mp3 you will be part of our VIP group, with this application you will receive all the notifications and updates of our program so that you are always attentive and at the rhythm of digital technology, our applications to download music and videos have become In the boom for mobile devices, just register and configure your phone to our website so you can enjoy all your favorite songs.Be part of the best team by downloading easy music to my cell phone, do not let others tell you the experience of listening to The Green Dwarfs, Marco Antonio Solis, Ricardo Montaner, Gian Marco, even follow artist at the level of Cristian Meier, we not only offer you good music but you can also download instagram videos from the personal accounts of each artist, so you can comment and mark many hearts to the real accounts.Each of the options that we present in the guide you can download it for free to your smartphone, how to download free music in mp3 and easy and fast will be the uncertainty of others but not yours if you download the app and download simple free music mp3 to download to the cell phone that we only offer you with guarantee and musical quality, in our guide you will find everything you ever wanted for your smartphone without having to have a particular software, our system is designed to work with any mobile device, your only you have to register and follow the steps to download free videos to my cell phone download mp4 music.When downloading free mp3 music for my cell phone you will be giving more life to your phone, remember that there are viral pages that only give you a part of what they offer, in the instructions of the guide you can download videos quickly and easily from any page, even if it is blocked, you just have to select security settings, paste in url of the video you want to download and you're done, you can download online videos with our application to download videos without internet you can download romantic songs, download free music for ringtones, even download songs from karaoke.Remember that we present is a guide to help you download your favorite songs not an app that will do the work for you.When downloading application to download music for free and to be saved on the memory card you will be doubly supporting all your files, with all our applications to download songs you will be next to the best trends in advances for mobile devices.\",\n",
       " 'Calculator Plus is an easy-to-use photo calculator, scan to solve any math equation in no time! Not only can it do what scientific calculator and math calculator do like calculus calculation, trigonometric calculation, but it also acts as your GPA calculator, BMI calculator and even discount calculator! With its picture calculator scan capability, calculation has never been so easy and fun!🎁❖ All-in-one calculator, multi - functional ❖Powerful calculating functions packed into one single app, Calculator Plus is more than just a photo math calculator. It can calculate your GPA scores and BMI, just to name a few.📸❖ Photo calculator/picture calculator, easy and fun ❖Rigged with powerful photo math calculator technology, you can leave difficult math problems and math calculation to your camera. Scan to solve math equations with camera calculator scan built-in, calculus problems will be just as easy.💵❖ Currency calculator, accurate exchange rate ❖Apart from the powerful photo calculator, it can help you with money things. Using the updated currency exchange rates, you can simply type in the number and convert it into your chosen currency with Calculator Plus.📝❖ GPA calculator, keep track of your scores ❖Calculate your GPA score, GPA calculator can help you keep an eye on your GPA scores. Calculator Plus  is more than just a math calculator or photo calculator app.🔬❖ Scientific calculator, powerful calculating ❖With Calculator Plus, you can solve trigonometric and calculus problems, as well as complex math equations. Calculating has never been so easy.A math calculator, a GPA calculator, Calculator Plus is many things in one. You don’t have to download too many apps, just use our smart calculator — Calculator Plus app and get all the powerful features like photo calculator scan, unit converter and camera calculator to name just a few.Calculator Plus strives to fight against deceptive and misleading advertisements.If you come across one of those ads, please report to us by emailing to like_art@outlook.comPlease find our official policy here:http://www.developertech.online/ca4/policy.html',\n",
       " 'Miga Town:My Vacation,Welcome to the new world of adventure – drive your own car, start a new journey and search the island for great treasures. Be a real adventurer!More interesting scenes and self-defined game-play help to create a more wonderful story!ExplorationPreparations for the journey begin at home. You can go to the beach to find out secrets of the island, or go to scenic spots to buy your favorite souvenirs, DIY your favorite masks, take your chance to win special souvenirs, and even take some photos at the spots.Stay at the resort hotel for a few days, and each room will offer you a unique surprise.Features- Six scenes: Home, Holiday Resort (Hotel Lobby, Deluxe Suite, 2 Themed Rooms), Beach & Island, Sightseeing Area- Home: Your journey starts here, where you can find most tools that will be useful in your exploration. Remember to take them.- Holiday Resort Hall: You will stay in a unique holiday resort and enjoy 5-star cuisines.- Deluxe Suite: You can live in a deluxe suite with a super-large bathroom, fantastic sea view. You will get a mysterious key and fabulous costumes here.- Themed Room: Choose your favorite between the flower fairy-themed room and car-themed room, and find the costumes exclusive to the room that you choose.- Beach & Island: You can play games on the beach, explore the island, hunt great treasures and then take them to the sightseeing area for auction.- Sightseeing Area: You can buy souvenirs at the gift shop and make your favorite masks. Many interesting scenic spots are waiting for you.--Give full play to children’s creativity--Tens of billions of customized modes--No third-party advertising--No time limit or score ranking listcontact us：support@xihegame.com',\n",
       " 'This simple and attractive game helps you or your children to learn multiplication table (times tables) and pass school exams. The app has following modes: - Learn multiplication table - Test knowledge of multiplication tableSetup multiplication app and have a fun training your brain for school math tests, surveys, exams.Playing game is very easy, just follow our instruction: - Run Multiplication app - Select \"Learn\" or \"Test\" mode - If you play \"Learn\"   * Select digit   * Check the table for selected digit   * Then step by step remember multiplication results   * And click the right answer after every step - If you play \"Test\"   * Check exercises   * Click the right answer   * Win if you passed 10 exercises Enjoy playing Multiplication Tables game! Learn times tables and be ready for school tests!',\n",
       " 'Vocabulary Builder aims to aid in improving English vocab and learn new English words without causing information overload. It is useful for exams like SAT, GRE, GMAT, IELTS, TOEFL, CAT, etc.The app tries to accomplish the above by following a \"Word Of The Day\" format, adding a new word each day. The words are retrieved from a database of carefully selected words that are relevant and useful.The practice quiz can be customized to make it challenging or easy, depending on your needs. Once you are confident enough, play head to head against other players to top the leaderboards!Key Features:--> Multiplayer Quiz -> Dual Theme - Light And Dark - Choose your favourite!-> Dark Bi-chrome Theme To Reduce Eye Strain-> Customizable Quiz - Choose quiz source, type, number of questions and time per question-> Quiz Mode To Test Vocabulary-> Star Difficult Words-> Long Press To Bookmark Word - During scrolling, down arrow takes you to the bookmarked word-> Random Tab - Displays a Word at random, along with usage and examples-> Search Available Words-> New Word Each Day-> Home Screen WidgetNote:- 1) Some manufactures like Xiaomi do not use the stock android but their own custom android, which blocks certain features of applications in order to conserve battery. This may prevent the automatic daily word fetch from working. It is recommended that you white-list this application from the blockers for the best user experience.In MIUI (Xiaomi devices), go to Security -> Permissions -> Autostart -> Select Vocabulary Builder 2) The app uses a text to speech engine for pronunciation. It is highly recommended to download the Google Text To Speech Engine for the best experience.3) Additional Voice Data may need to be downloaded to use voice accents other than your device default. If you are on a Wi-Fi network, the download will be done automatically.      If you are on a cellular network, go to Settings -> Language & Input -> Text-to-speech output -> Google text to speech engine settings and then disable \"Use Wi-Fi only\".    In rare cases, you may have to install the voice manually using \"Install voice data\".Feel free to shoot an e-mail for feature requests/bug reports.',\n",
       " \"The Bible App for Kids is the newest member of the YouVersion family of apps. Available now for Android smartphones and tablets, the Bible App for Kids is always completely free!Through interactive adventures and beautiful animations, kids explore the big stories of the Bible. The Bible App for Kids is a delight-filled experience designed to encourage kids to return again and again. It’s the beginning of a lifelong love of God’s Word. * Easy, kid-friendly navigation* Colorful illustrations* Touch-activated animations* Engaging, interactive content that brings the Bible to life* Fun facts and activities designed to help kids remember what they learn* Special challenges that let kids earn rewardsIncludes Bible Stories about:* Creation of the world* Adam and Eve* Noah’s ark* Abraham is called by God* Abraham and Isaac* Joseph and the coat of many colors* The plagues of Egypt* Moses and the burning bush* Moses and the 10 commandments * The parting of the Red Sea* The Walls of Jericho* Samson and Delilah* Ruth* Samuel is called by God* David and Goliath* Elijah* Daniel and the lions’ den* Esther* Nehemia and Ezra* The birth of Jesus Christ* The baptism of Jesus Christ* Jesus’ temptation in the desert* The Sermon on the Mount* Jesus healing a paralyzed man* Jesus casting out evil spirits* Jesus healing a sick girl* Jesus feeding the 5000* The prodigal son* Palm Sunday* The Last Supper* Jesus on the cross* The empty tomb* Jesus’ ascension* The Holy Spirit comes to the early Church* The disciples healing a crippled man* Saul * Paul’s journey and trials* The new heaven and new earth From YouVersion in partnership with OneHope.YOUR PRIVACY ON ANDROID* The Bible App for Kids requests read/write access to your SD card because that's where the app stores the stories you choose to download to your device.* The Bible App requests access to a device's account list to aid in sending Push Notifications to older versions of Android.*Location: Our analytics package uses approximate location to help us learn where our app is popular. The information is only used on an aggregate level, not on an individual level. * We do not sell any personal information you provide us, nor will we share it without your consent. You can read our privacy policy at http://youversion.com/privacy.CONNECT WITH YOUVERSION* Like us on Facebook: http://facebook.com/youversion* Follow us on Twitter: http://twitter.com/youversion* Catch up on the latest on our blog: http://blog.youversion.com* Sunday School Curriculum, Church Resources, and activities: https://bibleappforkids.com/The Bible App for Kids is available in English, Afrikaans, Indonesian, German, Spanish, Filipino (Tagalog), French, Italian, Dutch, Polish, Portuguese, Romanian, Turkish, Russian, Vietnamese, Arabic, Farsi, Urdu, Hindi, Thai, Korean, Simplified Chinese, Traditional Chinese, and Japanese.\",\n",
       " 'Have you seen the Earth from International Space Station like the astronauts? It is visible in a 24/7 live video streaming!If you like space or astronomy, you will like the ISS HD live app.ISS HD live will show you a  live video feed of the Earth from International Space Station directly on your android phone or tablet. ISS HD live offers you an exciting experience where everything is thoroughly thought and designed, the complete app that shows Earth video streaming about 400 km above it, with a lot of options fully customizable.You will have available a stunning live HD video streaming to your device screen, directly from the International Space Station cameras.The app has integrated the native Android Google Map (ISS tracker) in it, where you can follow the ISS orbit around our planet, zoom, rotate, drag, tilt the map. Also, you can choose between different types of map, like Satellite or Terrain, and an information window is also presented with data such as ISS speed, altitude, visibility, country above which ISS is right now, latitude and longitude. Everything is customizable from settings menu.You have seven different source of live video streaming:1. Live HD camera - a wonderful HD video streaming view of our planet2. Live Standard camera - this is not HD, but it shows a live streaming of the Earth and from time to time details of the ISS, like tests, maintenance and communication with Earth3. NASA TV - is the television service of the United States government agency NASA (National Aeronautics and Space Administration).4. NASA TV Media.5. Spacewalk (Recorded) - Beautiful HD images from cameras of astronauts outside the ISS.6. Inside the International Space Station - Take a video tour of each module inside the ISS, all explained by the astronauts.7. Eventual Channel  - Temporary live cameras from NASA, European Space Agency (ESA) and Russian Space Agency (Roscosmos) You can watch these live feeds in your televisor using Google CastYou will be notified when next sunset or sunrise will occur allowing you to watch it live directly from International Space Station. Do you want to see the ISS in the sky at night? This is the easiest way to spot the station. With the built-in ISS detector tool, ISS HD Live will tell you when and where to look for the International Space Station. You get an alarm a few minutes before a pass. And you will get a notification when it will pass over your region during the daylight. By this way, you can admire your country from space.You will be also notified when special events, such as spacewalk will occur.Explore the International Space Station with Google Street ViewAspiring astronauts can now pretend to float on the International Space Station (ISS), thanks to Google. The company worked with astronauts on the orbiting complex to provide a Google Street View of the low orbit satellite, from its science labs to its beautiful Earth-facing Cupola window. Note:When ISS (International Space Station) is on the night side of Earth, the video image is black, which is normal.Sometimes video is not available due to transmission issues or when the crew is changing cameras. In such cases, usually you will have a blue or a blank screen. In few minutes the transmission should return, so, please be patient. This is not an app issue.Twitter: @isshdlive - You can find news, about ISS, Nasa, Space, Earth and the video streamingInstagram: isshdlive - Pictures taken of the earth by the streaming of the HD Camera, SD Camera and Nasa TVFacebook: isshdlive - Pictures, news and Information of ISS HD live app',\n",
       " 'BEAKER turns your device into a virtual lab to experiment with 150+ chemicals.You can hold it, shake it, heat it up, cap it, add in chemicals, pour out, or pour between BEAKERs via AirMix. Start (tap or hold on chemicals to add them in)- CaO + H2O- K + H2O (fire)- Na + H2O (fire)- Al + Br2 (fire)Ignite (swipe your finger and hold, like striking a match)- Ignite Mg, C, Al- Ignite H2 + O2 (explosion)Heat Up (swipe in from the lower right to the lower left corner to turn on heater)- Boil Water (H2O)- Heat Fe + HNO3 (color transformation)Shake* (shake to accelerate reactions)- CuSO4 + H2O + Mg (color transformation)- AgNO3 + H2O + Cu (precipitation)- AgNO3 + H2O + NaCl (precipitation)AirMix** (nearby BEAKERs pair automatically)- Pour Na into Cl2 (fire)- Pour CH3COOH into NaHCO3 + Blue (bubbles)- Pour NaCl + H2O into AgNO3 + H2O (precipitation)And 300+ more reactions!* Swipe from the upper right to the upper left corner to cap your BEAKER.** AirMix requires an Internet connection and geolocation services. If any chemicals or reactions are missing, please contact us at support@thixlab.com. Your suggestions are greatly valuable to us.Learn Morehttp://thixlab.com/beaker.htmlFollow Ushttp://facebook.com/thixlab@thixlab',\n",
       " 'Welcome to ABCmouse.com - the #1 digital learning program for kids 2—8! You may subscribe to ABCmouse.com from within this app or you can log in to an existing account to get started immediately.Studies have shown that ABCmouse can significantly accelerate children’s development of early literacy and math skills!“ABCmouse.com is like taking all the educational products on the market and rolling them into one!”“My kids absolutely LOVE ABCmouse.com!!! My kids actually look forward to doing ‘school’ now.”ABCmouse.com offers more than 8,500 fun and interactive learning activities that teach:• Reading• Math• Beginning Science• Art• Music• ...and much moreABCmouse.com teaches through a variety of interactive learning activities for kids including educational games, books, animations, songs, art activities, puzzles, and offline printables – all of which can be monitored by parents through an innovative Progress Tracker.ABCmouse.com is a completely safe environment for children - there is no advertising or ability for an external party to contact your child.',\n",
       " 'CuriosityStream is the world\\'s first on-demand streaming service for award-winning documentaries that enlighten, entertain and inspire.Watch CuriosityStream originals like Stephen Hawking’s Favorite Places, Miniverse, and First Man, in addition to BBC Documentaries like The Wonders of Life and Horizon. Dive deep into your favorite science, technology, nature and history documentaries.If you are not a CuriosityStream member, simply sign up at curiositystream.com and enjoy immediate access to our documentaries and series with a one-week FREE trial.CuriosityStream membership benefits:• Unlimited streaming of the best in documentary programming• HD documentaries available anywhere, anytime on multiple devices• Browse titles with multiple search tools that help you find your favorite subject area• Sort shows by length and type so you find exactly what you want to watch quickly and easily• Rate your favorite shows and get recommendations for related content  • Bookmark shows to watch later or resume watching previously viewed shows on other devices_______________________By downloading this application, you agree to the CuriosityStream Terms of Use and Privacy Policy, located at www.curiositystream.com.When you sign up for a free trial, you will begin your 7-day trial subscription to the CuriosityStream. Internet access and valid payment method are necessary to start your free week. Cancel your subscription within the 7-day trial period to avoid charges that will be billed at the start of each new billing period past your first free week. Go to \"Your Account\" on the CuriosityStream website to cancel. No refund or credit for partial monthly subscriptions.For complete Terms of Use, please visit http://www.curiositystream.com/terms.For Privacy Policy, please visit http://www.curiositystream.com/privacy.',\n",
       " 'Lumosity’s free brain training program consists of fun and interactive puzzle games to help you keep your mind active. Used by over 90 million people worldwide, Lumosity’s educational games for adults offers over 40 games designed to put your critical thinking, memory and problem-solving skills to the test. Start training your brain today! It’s easy to get caught up in the hustle and bustle of life and let your brain go on standby. Lumosity challenges your mental muscles across a variety of segments – memory, attention, speed, flexibility and problem solving. The games are quick and simple, but require immense focus to master. Start your brain training habit with a free 10 minute Fit Test to set your baseline scores and see how you compare with people your age. With Lumosity, you will work out with a personalized training program, unlock in-depth insights about how you play, and receive tips for better game accuracy, speed and strategy. Our brain games take cognitive tasks and turn them into fun games that challenge your mind! Ready to play fun and free brain games that challenge you? Download Lumosity today. FEATURES:DAILY BRAIN EXERCISESOver 40 brain games to challenge core cognitive and academic abilities, including:- Puzzle games- Memory games- Problem solving games- Logic games- Critical thinking games- Math games- Word and vocabulary gamesWORKOUT MODES- Carefully curated sets of games made for you- Games using your training habits and preferences to find  different ways to challenge your brain- Elevate your training with new games DETAILED TRAINING INSIGHTS- Analyze your game play to level up your training- Learn your game strengths, weaknesses and cognitive patterns MINDFULNESS TRAINING- Keep your mind centered with meditation techniques- Practice mindfulness exercises to gain mental clarity and relaxationTHE STORY BEHIND LUMOSITYWe’re a team of scientists and designers exploring new ways to challenge the brain and push cognitive research forward. We take common cognitive and neuropsychological tasks, or design entirely new, experimental challenges. Working with experienced designers, they transform these tasks into fun games that challenge core cognitive skills.We also work with 40+ university researchers worldwide. We give qualified researchers free access to Lumosity training and tools — helping them investigate new areas in cognition.As we learn more about the possibilities of brain training, we invite you to train with us, and join us in our mission to advance the understanding of human cognition.The Lumosity app is available in English, Spanish, Portuguese, French, German, Japanese and Korean. To access the app in one of our languages, change your device setting to the desired language. English is the default language for devices not set to one of our supported languages.GET HELP: http://help.lumosity.comVISIT US: http://www.lumosity.comFOLLOW US: https://plus.google.com/+lumosity/FOLLOW US: http://twitter.com/lumosityLIKE US: http://facebook.com/lumosity',\n",
       " 'Common Sense Education included us in Best EdTech of 2018!Welcome to Grasshopper, the coding app for beginners.Grasshopper is the best way to start your coding adventure with fun, quick games on your phone that teach you to write real JavaScript. Move through progressively challenging levels as you develop your abilities, then graduate with fundamental programming skills for your next step as a coder.* Visual puzzles develop your problem-solving skills and solidify coding concepts* Use industry-standard JavaScript with just a few taps on your phone* Real-time feedback guides you like a teacher* Collect achievements as you learn new skillsGet started programming today! We can’t wait to meet you.',\n",
       " \"Subscribe to NOGGIN and your child can watch over 1,500 episodes from preschool TV shows like PAW Patrol, Blue's Clues, Peppa Pig, The Backyardigans, Yo Gabba Gabba, Dora the Explorer, and more. Moose & Zee, our beloved hosts, are kids’ co-adventurers, guiding them on a fun-filled journey to explore numbers & shapes, letters & sounds, music, art, manners, and much more. With NOGGIN, kids will also learn important pre-kindergarten skills through our collection of educational videos.Here’s why NOGGIN is great for your preschooler: - Popular preschool shows with no commercials- Fun and educational videos featured in literacy and science playlists- Classic nursery rhymes and full episodes in English and Spanish - New videos specially selected and added weekly - Surprise moments with Moose & Zee and their friendsStart Your Subscription Today! - First 7 days free and then $7.99/month – cancel at any time- Your Google Play store account will be charged $7.99/month when your trial ends  - Cancel your subscription in the Google Play store > My Apps > Subscriptions- Avoid auto-renew charges by canceling before the end of your trial or current billing period NOGGIN collects personal user data as well as non-personal user data (including aggregated data). User data collection is in accordance with applicable law, such as COPPA. User data may be used, for example, to respond to user requests; enable users to take advantage of certain features and services; personalize content and advertising; and manage and improve Nickelodeon's services. For more information regarding Nickelodeon’s use of personal user data, please visit the Nickelodeon Group Privacy Policy below. Our Privacy Policy is in addition to any terms, conditions or policies agreed to between you and Google, Inc., and Nickelodeon and its affiliated entities are not responsible for Google's collection or use of your personal user data and information.   Additionally, this App may use “local notifications.”  Local notifications are sent directly from the App to your device (you don’t need to be connected to the Internet) and may be used to notify you of new content or events within your App, among other reasons. Use of this app is subject to the Nickelodeon End User License Agreement. For users residing in the EU, NOGGIN may include the use of persistent identifiers for game management purposes and installation of this app constitutes your permission to such usage of persistent identifiers for all users on your device. NOGGIN offers in-app purchases and charges real money for additional in-app content. You may lock out the ability to purchase in-app content by adjusting your device’s settings.Privacy Policy: http://www.nickjr.com/privacy-policy/  End User License Agreement: http://www.nick.com/nick-eula/ The End User License Agreement for this app includes arbitration for disputes – see FAQs: http://www.nick.com/faqs/\",\n",
       " 'PowerSchool for Parents and StudentsCalling all students and parents! Check out PowerSchool’s brand new PowerSchool Mobile app with an all-new user experience and push notifications. Get real-time access to attendance, assignments, scores, grades and more!Now, instantly monitor changes to grades and attendance with push notifications!PowerSchool is the fastest-growing, most widely used student information system, supporting more than 13 million students across the globe.You can also use PowerSchool Mobile to register to receive email alerts for grades, attendance, assignments and more.• Access student homework assignments• Real-time grades and attendance• Teacher comments• Single account for all children• Daily bulletin board• Course schedule• Integrated family calendar• Fee transactions and balance• Automatic email messaging• Instant push notifications for attendance or grade changes• Track each student with grade trendsIMPORTANT!Your school district must be using the PowerSchool student information system. If you are not sure what student information system your school is using, contact your school and ask if they’re using PowerSchool.PLEASE NOTE• Requires PowerSchool version 8.0 or higher• Access to PowerSchool is controlled by school administration• Requires a wireless connection or mobile data plan• Users must consent to receive push notifications when connecting to servers outside of the United States',\n",
       " 'Free English Spanish Translator app has outstanding translator.You can translate English to Spanish and Spanish to English as well. English Spanish Translator is very easy to use just copy any paragraph English or Spanish paste in translator and in within seconds you get its translations. Sometimes if you are reading Spanish or English book and some words you don’t understand then just type words and get translation. In English Spanish translation app speak button is also available for pronunciation.It speaks both English and Spanish. In Spanish English translator app you can find listen and learn vocabulary, sentences and dialogs. Learn English from Spanish Course. There are English to Spanish translator paragraph available for listening and learning.Free Speaking English course plus English translator makes thins app unique. Learn communication dialogs in English with the help of Spanish. Speaking vocabulary allows you to learn what it matters.']"
      ]
     },
     "execution_count": 3,
     "metadata": {},
     "output_type": "execute_result"
    }
   ],
   "source": [
    "import re\n",
    "import pandas as pd\n",
    "import numpy as np\n",
    "read_dictionary = np.load('my_file.npy').item()\n",
    "\n",
    "data  = read_dictionary\n",
    "\n",
    "print(data.keys())\n",
    "data['EDUCATION']"
   ]
  },
  {
   "cell_type": "markdown",
   "metadata": {},
   "source": [
    "<br>"
   ]
  },
  {
   "cell_type": "markdown",
   "metadata": {},
   "source": [
    "## NLTK: Natural Language Tool Kit"
   ]
  },
  {
   "cell_type": "code",
   "execution_count": 4,
   "metadata": {},
   "outputs": [],
   "source": [
    "import nltk\n",
    "import sklearn\n",
    "\n",
    "from nltk.collocations import *\n",
    "from nltk import FreqDist, word_tokenize\n",
    "import string, re\n",
    "from nltk.stem.snowball import SnowballStemmer\n",
    "\n",
    "pattern = \"([a-zA-Z]+(?:'[a-z]+)?)\"\n",
    "\n",
    "# stop words\n",
    "from nltk.corpus import stopwords\n",
    "stopwords.words(\"english\")\n",
    "\n",
    "stop_words = set(stopwords.words('english'))\n",
    "\n",
    "# stem words\n",
    "stemmer = SnowballStemmer(\"english\")"
   ]
  },
  {
   "cell_type": "code",
   "execution_count": 5,
   "metadata": {},
   "outputs": [],
   "source": [
    "def text_cleaner(description):\n",
    "    '''uses regex to tokenize words and capture them from the description, \n",
    "    lowers the capitilization remove stop words, reduce to stem words, \n",
    "    and joins them all in a string'''\n",
    "    tokens_raw = nltk.regexp_tokenize(description, pattern)\n",
    "    tokens = [i.lower() for i in tokens_raw]\n",
    "    tokens_stopped = [w for w in tokens if not w in stop_words]\n",
    "    stemmed = [stemmer.stem(word) for word in tokens_stopped]\n",
    "    cleaned = ' '.join(stemmed)\n",
    "    return cleaned\n",
    "\n",
    "\n",
    "\n",
    "def dict_cleaner(dictionary):\n",
    "    '''iterates through the dictionary values in each key (category) \n",
    "    and cleans each description and adds it back to a new list'''\n",
    "    description_list = []\n",
    "    for c, d in dictionary.items():\n",
    "        for description in d:\n",
    "            cleaned = text_cleaner(description)\n",
    "            description_list.append(cleaned)\n",
    "    return description_list\n",
    "\n",
    "\n",
    "#use our function on our data\n",
    "description_list = dict_cleaner(data)\n",
    "\n",
    "#turn into df\n",
    "new_df = pd.DataFrame(description_list, columns=['desc'])"
   ]
  },
  {
   "cell_type": "code",
   "execution_count": 6,
   "metadata": {},
   "outputs": [
    {
     "data": {
      "text/html": [
       "<div>\n",
       "<style scoped>\n",
       "    .dataframe tbody tr th:only-of-type {\n",
       "        vertical-align: middle;\n",
       "    }\n",
       "\n",
       "    .dataframe tbody tr th {\n",
       "        vertical-align: top;\n",
       "    }\n",
       "\n",
       "    .dataframe thead th {\n",
       "        text-align: right;\n",
       "    }\n",
       "</style>\n",
       "<table border=\"1\" class=\"dataframe\">\n",
       "  <thead>\n",
       "    <tr style=\"text-align: right;\">\n",
       "      <th></th>\n",
       "      <th>desc</th>\n",
       "    </tr>\n",
       "  </thead>\n",
       "  <tbody>\n",
       "    <tr>\n",
       "      <th>0</th>\n",
       "      <td>es una app genial porqu aprend palabra nueva p...</td>\n",
       "    </tr>\n",
       "    <tr>\n",
       "      <th>1</th>\n",
       "      <td>unlock math calcul math solut take photo math ...</td>\n",
       "    </tr>\n",
       "    <tr>\n",
       "      <th>2</th>\n",
       "      <td>learn anyth free forev spend afternoon brush s...</td>\n",
       "    </tr>\n",
       "    <tr>\n",
       "      <th>3</th>\n",
       "      <td>updat info latest updat new section ad learn l...</td>\n",
       "    </tr>\n",
       "    <tr>\n",
       "      <th>4</th>\n",
       "      <td>join million learner learn code make app game ...</td>\n",
       "    </tr>\n",
       "  </tbody>\n",
       "</table>\n",
       "</div>"
      ],
      "text/plain": [
       "                                                desc\n",
       "0  es una app genial porqu aprend palabra nueva p...\n",
       "1  unlock math calcul math solut take photo math ...\n",
       "2  learn anyth free forev spend afternoon brush s...\n",
       "3  updat info latest updat new section ad learn l...\n",
       "4  join million learner learn code make app game ..."
      ]
     },
     "execution_count": 6,
     "metadata": {},
     "output_type": "execute_result"
    }
   ],
   "source": [
    "new_df.head()"
   ]
  },
  {
   "cell_type": "markdown",
   "metadata": {},
   "source": [
    "<br>"
   ]
  },
  {
   "cell_type": "markdown",
   "metadata": {},
   "source": [
    "## Test-Train-Split"
   ]
  },
  {
   "cell_type": "code",
   "execution_count": 7,
   "metadata": {
    "scrolled": true
   },
   "outputs": [
    {
     "name": "stdout",
     "output_type": "stream",
     "text": [
      "(1080, 2)\n"
     ]
    },
    {
     "data": {
      "text/plain": [
       "Index(['desc', 'labels'], dtype='object')"
      ]
     },
     "execution_count": 7,
     "metadata": {},
     "output_type": "execute_result"
    }
   ],
   "source": [
    "#We have to create labels in order to label the words that appear in each category\n",
    "def create_labels(dictionary):\n",
    "    x = dictionary.keys()\n",
    "    new_list = []\n",
    "    for c in x: \n",
    "        s = [c] * len(dictionary[c])\n",
    "        new_list += s\n",
    "    return new_list\n",
    "\n",
    "\n",
    "labels = create_labels(data)\n",
    "new_df['labels'] = labels\n",
    "\n",
    "print(new_df.shape)\n",
    "new_df.columns"
   ]
  },
  {
   "cell_type": "markdown",
   "metadata": {},
   "source": [
    "<br>"
   ]
  },
  {
   "cell_type": "code",
   "execution_count": 8,
   "metadata": {},
   "outputs": [],
   "source": [
    "#we set our labels to y and set our features to x\n",
    "y = new_df.labels\n",
    "\n",
    "X = new_df.desc\n",
    "\n",
    "#set our train and test data\n",
    "from sklearn.model_selection import train_test_split  \n",
    "X_train, X_test, y_train, y_test = train_test_split(X, y, test_size=0.2, random_state=0)\n"
   ]
  },
  {
   "cell_type": "markdown",
   "metadata": {},
   "source": [
    "<br>"
   ]
  },
  {
   "cell_type": "markdown",
   "metadata": {},
   "source": [
    "## TF-IDF"
   ]
  },
  {
   "cell_type": "markdown",
   "metadata": {},
   "source": [
    "We use Tf-Idif function to transform our data to reflect how important a word is in the collection of descriptions in each category."
   ]
  },
  {
   "cell_type": "code",
   "execution_count": 9,
   "metadata": {
    "scrolled": true
   },
   "outputs": [],
   "source": [
    "from sklearn.feature_extraction.text import TfidfVectorizer\n",
    "\n",
    "tfidf = TfidfVectorizer()\n",
    "\n",
    "X_train = tfidf.fit_transform(X_train)\n",
    "\n",
    "# X_train = pd.DataFrame(train_df.toarray(), columns=tfidf.get_feature_names())\n",
    "\n",
    "X_test = tfidf.transform(X_test)"
   ]
  },
  {
   "cell_type": "code",
   "execution_count": 10,
   "metadata": {},
   "outputs": [
    {
     "data": {
      "text/plain": [
       "<216x11665 sparse matrix of type '<class 'numpy.float64'>'\n",
       "\twith 22699 stored elements in Compressed Sparse Row format>"
      ]
     },
     "execution_count": 10,
     "metadata": {},
     "output_type": "execute_result"
    }
   ],
   "source": [
    "X_test"
   ]
  },
  {
   "cell_type": "markdown",
   "metadata": {},
   "source": [
    "<br>"
   ]
  },
  {
   "cell_type": "markdown",
   "metadata": {},
   "source": [
    "## Corpus Statistics"
   ]
  },
  {
   "cell_type": "markdown",
   "metadata": {},
   "source": [
    "How many non-zero elements are there?"
   ]
  },
  {
   "cell_type": "code",
   "execution_count": 11,
   "metadata": {},
   "outputs": [
    {
     "name": "stdout",
     "output_type": "stream",
     "text": [
      "Average Number of Non-Zero Elements in Vectorized Reviews: 112.73032407407408\n",
      "Percentage of columns containing 0: 0.9903360202251115\n"
     ]
    }
   ],
   "source": [
    "non_zero_cols = X_train.nnz / float(X_train.shape[0])\n",
    "print(\"Average Number of Non-Zero Elements in Vectorized Reviews: {}\".format(non_zero_cols))\n",
    "\n",
    "percent_sparse = 1 - (non_zero_cols / float(X_train.shape[1]))\n",
    "print('Percentage of columns containing 0: {}'.format(percent_sparse))"
   ]
  },
  {
   "cell_type": "markdown",
   "metadata": {},
   "source": [
    "<br>"
   ]
  },
  {
   "cell_type": "markdown",
   "metadata": {},
   "source": [
    "## K-Nearest Neighbor"
   ]
  },
  {
   "cell_type": "code",
   "execution_count": 12,
   "metadata": {},
   "outputs": [
    {
     "name": "stdout",
     "output_type": "stream",
     "text": [
      "KNN\n",
      "Training Accuracy: 0.831 \t\t Testing Accuracy: 0.7639\n",
      "F1 Score: 0.763888888888889\n"
     ]
    }
   ],
   "source": [
    "from sklearn.neighbors import KNeighborsClassifier\n",
    "from sklearn.metrics import accuracy_score, f1_score\n",
    "\n",
    "knn = KNeighborsClassifier()\n",
    "\n",
    "knn.fit(X_train, y_train)\n",
    "knn_train_preds = knn.predict(X_train)\n",
    "knn_test_preds = knn.predict(X_test)\n",
    "\n",
    "knn_train_score = accuracy_score(y_train, knn_train_preds)\n",
    "knn_test_score = accuracy_score(y_test, knn_test_preds)\n",
    "\n",
    "print(\"KNN\")\n",
    "print(\"Training Accuracy: {:.4} \\t\\t Testing Accuracy: {:.4}\".format(knn_train_score, knn_test_score))\n",
    "print(\"F1 Score: {}\".format(f1_score(y_test, knn_test_preds, average='micro')))"
   ]
  },
  {
   "cell_type": "markdown",
   "metadata": {},
   "source": [
    "<br>"
   ]
  },
  {
   "cell_type": "markdown",
   "metadata": {},
   "source": [
    "## Naive-Bayes Multinomial Classifier"
   ]
  },
  {
   "cell_type": "code",
   "execution_count": 13,
   "metadata": {},
   "outputs": [
    {
     "name": "stdout",
     "output_type": "stream",
     "text": [
      "Multinomial Naive Bayes\n",
      "Training Accuracy: 0.9213 \t\t Testing Accuracy: 0.7454\n",
      "F1 Score: 0.7453703703703705\n"
     ]
    }
   ],
   "source": [
    "from sklearn.naive_bayes import MultinomialNB\n",
    "\n",
    "nb_classifier = MultinomialNB()\n",
    "\n",
    "nb_classifier.fit(X_train, y_train)\n",
    "nb_train_preds = nb_classifier.predict(X_train)\n",
    "nb_test_preds = nb_classifier.predict(X_test)\n",
    "\n",
    "nb_train_score = accuracy_score(y_train, nb_train_preds)\n",
    "nb_test_score = accuracy_score(y_test, nb_test_preds)\n",
    "\n",
    "print(\"Multinomial Naive Bayes\")\n",
    "print(\"Training Accuracy: {:.4} \\t\\t Testing Accuracy: {:.4}\".format(nb_train_score, nb_test_score))\n",
    "print(\"F1 Score: {}\".format(f1_score(y_test, nb_test_preds, average='micro')))"
   ]
  },
  {
   "cell_type": "markdown",
   "metadata": {},
   "source": [
    "<br>"
   ]
  },
  {
   "cell_type": "markdown",
   "metadata": {},
   "source": [
    "## Random Forest Classifier"
   ]
  },
  {
   "cell_type": "code",
   "execution_count": 14,
   "metadata": {},
   "outputs": [
    {
     "name": "stdout",
     "output_type": "stream",
     "text": [
      "Random Forest\n",
      "Training Accuracy: 1.0 \t\t Testing Accuracy: 0.7083\n",
      "F1 Score: 0.7083333333333334\n"
     ]
    }
   ],
   "source": [
    "from sklearn.ensemble import RandomForestClassifier\n",
    "\n",
    "rf_classifier = RandomForestClassifier(n_estimators=50)\n",
    "\n",
    "rf_classifier.fit(X_train, y_train)\n",
    "rf_train_preds = rf_classifier.predict(X_train)\n",
    "rf_test_preds = rf_classifier.predict(X_test)\n",
    "\n",
    "rf_train_score = accuracy_score(y_train, rf_train_preds)\n",
    "rf_test_score = accuracy_score(y_test, rf_test_preds)\n",
    "\n",
    "print('Random Forest')\n",
    "print(\"Training Accuracy: {:.4} \\t\\t Testing Accuracy: {:.4}\".format(rf_train_score, rf_test_score))\n",
    "print(\"F1 Score: {}\".format(f1_score(y_test, rf_test_preds, average='micro')))"
   ]
  },
  {
   "cell_type": "markdown",
   "metadata": {},
   "source": [
    "<br>"
   ]
  },
  {
   "cell_type": "markdown",
   "metadata": {},
   "source": [
    "## SVM"
   ]
  },
  {
   "cell_type": "code",
   "execution_count": 15,
   "metadata": {
    "scrolled": true
   },
   "outputs": [
    {
     "name": "stderr",
     "output_type": "stream",
     "text": [
      "/anaconda3/lib/python3.6/site-packages/sklearn/svm/base.py:196: FutureWarning: The default value of gamma will change from 'auto' to 'scale' in version 0.22 to account better for unscaled features. Set gamma explicitly to 'auto' or 'scale' to avoid this warning.\n",
      "  \"avoid this warning.\", FutureWarning)\n"
     ]
    },
    {
     "name": "stdout",
     "output_type": "stream",
     "text": [
      "SVM\n",
      "Training Accuracy: 1.0 \t\t Testing Accuracy: 0.7083\n",
      "F1 Score: 0.7083333333333334\n"
     ]
    }
   ],
   "source": [
    "from sklearn import svm\n",
    "\n",
    "svm_clf = svm.SVC(probability=True)\n",
    "\n",
    "svm_clf.fit(X_train, y_train)\n",
    "svm_train_preds = rf_classifier.predict(X_train)\n",
    "svm_test_preds = rf_classifier.predict(X_test)\n",
    "\n",
    "svm_train_score = accuracy_score(y_train, svm_train_preds)\n",
    "svm_test_score = accuracy_score(y_test, svm_test_preds)\n",
    "\n",
    "print('SVM')\n",
    "print(\"Training Accuracy: {:.4} \\t\\t Testing Accuracy: {:.4}\".format(svm_train_score, svm_test_score))\n",
    "print(\"F1 Score: {}\".format(f1_score(y_test, svm_test_preds, average='micro')))"
   ]
  },
  {
   "cell_type": "markdown",
   "metadata": {},
   "source": [
    "<br>"
   ]
  },
  {
   "cell_type": "markdown",
   "metadata": {},
   "source": [
    "## TPOT for automated model selection"
   ]
  },
  {
   "cell_type": "code",
   "execution_count": null,
   "metadata": {},
   "outputs": [],
   "source": [
    "from tpot import TPOTClassifier\n",
    "\n",
    "\n",
    "tpot = TPOTClassifier(generations=5, cv = 3 ,population_size=20,\\\n",
    "                      max_eval_time_mins=10, verbosity=3)\n",
    "\n",
    "\n",
    "#we ran the classifier, which will tell us the best model to use.\n",
    "tpot.fit(X_train, y_train)\n",
    "\n",
    "\n",
    "'''After changing the generation and population parameters to get better results, \n",
    "   we came up with the final best result. \n",
    "   The Automated model selection gave us the best model to use which yielded: \n",
    "   \n",
    "   \n",
    "   exported_pipeline = LinearSVC(C=1, dual=True, loss=\"squared_hinge\", penalty=\"l2\")\n",
    "   \n",
    "   svc = LinearSVC(C=0.5, dual=True, loss=\"squared_hinge\", penalty=\"l2\", tol=0.001)'''\n",
    "\n"
   ]
  },
  {
   "cell_type": "markdown",
   "metadata": {},
   "source": [
    "<br>"
   ]
  },
  {
   "cell_type": "markdown",
   "metadata": {},
   "source": [
    "## LinearSVC"
   ]
  },
  {
   "cell_type": "code",
   "execution_count": 16,
   "metadata": {
    "scrolled": true
   },
   "outputs": [
    {
     "name": "stdout",
     "output_type": "stream",
     "text": [
      "LinearSVC\n",
      "Training Accuracy: 1.0 \t\t Testing Accuracy: 0.8102\n",
      "F1 Score: 0.8101851851851852\n"
     ]
    }
   ],
   "source": [
    "from sklearn.svm import LinearSVC\n",
    "\n",
    "lsvc_classifier = LinearSVC(C=10.0, dual=False, loss=\"squared_hinge\", penalty=\"l2\", tol=0.1)\n",
    "\n",
    "lsvc_classifier.fit(X_train, y_train)\n",
    "lsvc_train_preds = lsvc_classifier.predict(X_train)\n",
    "lsvc_test_preds = lsvc_classifier.predict(X_test)\n",
    "\n",
    "lsvc_train_score = accuracy_score(y_train, lsvc_train_preds)\n",
    "lsvc_test_score = accuracy_score(y_test, lsvc_test_preds)\n",
    "\n",
    "print('LinearSVC')\n",
    "print(\"Training Accuracy: {:.4} \\t\\t Testing Accuracy: {:.4}\".format(lsvc_train_score, lsvc_test_score))\n",
    "print(\"F1 Score: {}\".format(f1_score(y_test, lsvc_test_preds, average='micro')))"
   ]
  },
  {
   "cell_type": "code",
   "execution_count": 18,
   "metadata": {},
   "outputs": [
    {
     "name": "stdout",
     "output_type": "stream",
     "text": [
      "LinearSVC\n",
      "Training Accuracy: 0.9861 \t\t Testing Accuracy: 0.8241\n",
      "F1 Score: 0.8240740740740741\n"
     ]
    }
   ],
   "source": [
    "lsvc2_classifier = LinearSVC(C=0.5, dual=True, loss=\"squared_hinge\", penalty=\"l2\", tol=0.001)\n",
    "\n",
    "lsvc2_classifier.fit(X_train, y_train)\n",
    "lsvc2_train_preds = lsvc2_classifier.predict(X_train)\n",
    "lsvc2_test_preds = lsvc2_classifier.predict(X_test)\n",
    "\n",
    "lsvc2_train_score = accuracy_score(y_train, lsvc2_train_preds)\n",
    "lsvc2_test_score = accuracy_score(y_test, lsvc2_test_preds)\n",
    "\n",
    "print('LinearSVC')\n",
    "print(\"Training Accuracy: {:.4} \\t\\t Testing Accuracy: {:.4}\".format(lsvc2_train_score, lsvc2_test_score))\n",
    "print(\"F1 Score: {}\".format(f1_score(y_test, lsvc_test_preds, average='micro')))"
   ]
  },
  {
   "cell_type": "markdown",
   "metadata": {},
   "source": [
    "## Gradient Boosting"
   ]
  },
  {
   "cell_type": "code",
   "execution_count": 114,
   "metadata": {},
   "outputs": [
    {
     "name": "stdout",
     "output_type": "stream",
     "text": [
      "Gradient Boosting\n",
      "Training Accuracy: 0.9514 \t\t Testing Accuracy: 0.7222\n",
      "F1 Score: 0.7222222222222222\n"
     ]
    }
   ],
   "source": [
    "from sklearn.ensemble import GradientBoostingClassifier\n",
    "\n",
    "\n",
    "gb_clf = GradientBoostingClassifier(learning_rate=0.01, max_depth=6, max_features=0.2, min_samples_leaf=3, min_samples_split=15, n_estimators=100, subsample=0.25)\n",
    "\n",
    "gb_clf.fit(X_train, y_train)\n",
    "gb_train_preds = gb_clf.predict(X_train)\n",
    "gb_test_preds = gb_clf.predict(X_test)\n",
    "\n",
    "gb_train_score = accuracy_score(y_train, gb_train_preds)\n",
    "gb_test_score = accuracy_score(y_test, gb_test_preds)\n",
    "\n",
    "print('Gradient Boosting')\n",
    "print(\"Training Accuracy: {:.4} \\t\\t Testing Accuracy: {:.4}\".format(gb_train_score, gb_test_score))\n",
    "print(\"F1 Score: {}\".format(f1_score(y_test, gb_test_preds, average='micro')))"
   ]
  },
  {
   "cell_type": "markdown",
   "metadata": {},
   "source": [
    "<br>"
   ]
  },
  {
   "cell_type": "markdown",
   "metadata": {},
   "source": [
    "## AdaBoosting"
   ]
  },
  {
   "cell_type": "code",
   "execution_count": 115,
   "metadata": {},
   "outputs": [
    {
     "name": "stdout",
     "output_type": "stream",
     "text": [
      "AdaBoosting\n",
      "Training Accuracy: 0.2326 \t\t Testing Accuracy: 0.1759\n",
      "F1 Score: 0.17592592592592593\n"
     ]
    }
   ],
   "source": [
    "from sklearn.ensemble import AdaBoostClassifier\n",
    "\n",
    "adaboost_clf = AdaBoostClassifier()\n",
    "\n",
    "adaboost_clf.fit(X_train, y_train)\n",
    "adaboost_train_preds = adaboost_clf.predict(X_train)\n",
    "adaboost_test_preds = adaboost_clf.predict(X_test)\n",
    "\n",
    "adaboost_train_score = accuracy_score(y_train, adaboost_train_preds)\n",
    "adaboost_test_score = accuracy_score(y_test, adaboost_test_preds)\n",
    "\n",
    "print('AdaBoosting')\n",
    "print(\"Training Accuracy: {:.4} \\t\\t Testing Accuracy: {:.4}\".format(adaboost_train_score, adaboost_test_score))\n",
    "print(\"F1 Score: {}\".format(f1_score(y_test, adaboost_test_preds, average='micro')))"
   ]
  },
  {
   "cell_type": "markdown",
   "metadata": {},
   "source": [
    "## XGBoosting"
   ]
  },
  {
   "cell_type": "code",
   "execution_count": 116,
   "metadata": {},
   "outputs": [
    {
     "name": "stdout",
     "output_type": "stream",
     "text": [
      "AdaBoosting\n",
      "Training Accuracy: 1.0 \t\t Testing Accuracy: 0.6759\n",
      "F1 Score: 0.6759259259259259\n"
     ]
    }
   ],
   "source": [
    "import os\n",
    "os.environ['KMP_DUPLICATE_LIB_OK']='True'\n",
    "from xgboost import XGBClassifier\n",
    "\n",
    "\n",
    "xgb_clf = XGBClassifier()\n",
    "xgb_clf.fit(X_train, y_train)\n",
    "xgb_train_preds = xgb_clf.predict(X_train)\n",
    "xgb_test_preds = xgb_clf.predict(X_test)\n",
    "\n",
    "xgb_train_score = accuracy_score(y_train, xgb_train_preds)\n",
    "xgb_test_score = accuracy_score(y_test, xgb_test_preds)\n",
    "\n",
    "print('AdaBoosting')\n",
    "print(\"Training Accuracy: {:.4} \\t\\t Testing Accuracy: {:.4}\".format(xgb_train_score, xgb_test_score))\n",
    "print(\"F1 Score: {}\".format(f1_score(y_test, xgb_test_preds, average='micro')))"
   ]
  },
  {
   "cell_type": "markdown",
   "metadata": {},
   "source": [
    "## Voting Classifier"
   ]
  },
  {
   "cell_type": "code",
   "execution_count": 117,
   "metadata": {},
   "outputs": [
    {
     "data": {
      "text/plain": [
       "VotingClassifier(estimators=[('svc1', LinearSVC(C=25.0, class_weight=None, dual=False, fit_intercept=True,\n",
       "     intercept_scaling=1, loss='squared_hinge', max_iter=1000,\n",
       "     multi_class='ovr', penalty='l2', random_state=None, tol=0.001,\n",
       "     verbose=0)), ('svc2', LinearSVC(C=1.0, class_weight=None, dual=True, fit_i...obs=None,\n",
       "            oob_score=False, random_state=None, verbose=0,\n",
       "            warm_start=False))],\n",
       "         flatten_transform=None, n_jobs=None, voting='hard', weights=None)"
      ]
     },
     "execution_count": 117,
     "metadata": {},
     "output_type": "execute_result"
    }
   ],
   "source": [
    "from sklearn.ensemble import VotingClassifier\n",
    "\n",
    "\n",
    "svc1 = LinearSVC(C=25.0, dual=False, loss=\"squared_hinge\", penalty=\"l2\", tol=0.001)\n",
    "svc2 = LinearSVC(C=1.0, dual=True, loss=\"hinge\", penalty=\"l2\", tol=1e-05)\n",
    "\n",
    "\n",
    "\n",
    "vc_clf = VotingClassifier(estimators=[('svc1', svc1), \n",
    "                                     ('svc2', svc2),\n",
    "                                     ('gb_clf', gb_clf),\n",
    "                                    ('nb', nb_classifier),\n",
    "                                    ('knn', knn),\n",
    "                                    ('rf', rf_classifier)], voting='hard')\n",
    "\n",
    "vc_clf.fit(X_train, y_train)"
   ]
  },
  {
   "cell_type": "code",
   "execution_count": 118,
   "metadata": {},
   "outputs": [
    {
     "name": "stdout",
     "output_type": "stream",
     "text": [
      "Voting Classifier\n",
      "Training Accuracy: 0.9722 \t\t Testing Accuracy: 0.8148\n",
      "F1 Score: 0.8148148148148148\n"
     ]
    }
   ],
   "source": [
    "vc_train_preds = vc_clf.predict(X_train)\n",
    "vc_test_preds = vc_clf.predict(X_test)\n",
    "\n",
    "vc_train_score = accuracy_score(y_train, vc_train_preds)\n",
    "vc_test_score = accuracy_score(y_test, vc_test_preds)\n",
    "\n",
    "print('Voting Classifier')\n",
    "print(\"Training Accuracy: {:.4} \\t\\t Testing Accuracy: {:.4}\".format(vc_train_score, vc_test_score))\n",
    "print(\"F1 Score: {}\".format(f1_score(y_test, vc_test_preds, average='micro')))"
   ]
  },
  {
   "cell_type": "markdown",
   "metadata": {},
   "source": [
    "## PCA Experiment"
   ]
  },
  {
   "cell_type": "code",
   "execution_count": 35,
   "metadata": {},
   "outputs": [],
   "source": [
    "from sklearn.decomposition import PCA\n",
    "\n",
    "pca_X_train = pd.DataFrame(X_train.toarray(), columns=tfidf.get_feature_names())\n",
    "pca_X_test = pd.DataFrame(X_test.toarray(), columns=tfidf.get_feature_names())\n",
    "\n",
    "pca = PCA(.95)"
   ]
  },
  {
   "cell_type": "code",
   "execution_count": 39,
   "metadata": {},
   "outputs": [],
   "source": [
    "new_train = pca.fit_transform(pca_X_train)\n",
    "\n",
    "new_test = pca.transform(pca_X_test)\n"
   ]
  },
  {
   "cell_type": "code",
   "execution_count": 37,
   "metadata": {},
   "outputs": [
    {
     "data": {
      "text/plain": [
       "661"
      ]
     },
     "execution_count": 37,
     "metadata": {},
     "output_type": "execute_result"
    }
   ],
   "source": [
    "pca.n_components_"
   ]
  },
  {
   "cell_type": "code",
   "execution_count": 40,
   "metadata": {},
   "outputs": [
    {
     "name": "stdout",
     "output_type": "stream",
     "text": [
      "LinearSVC\n",
      "Training Accuracy: 0.9722 \t\t Testing Accuracy: 0.8241\n",
      "F1 Score: 0.8240740740740741\n"
     ]
    }
   ],
   "source": [
    "lsvc2_classifier.fit(new_train, y_train)\n",
    "lsvc2_train_preds = lsvc2_classifier.predict(new_train)\n",
    "lsvc2_test_preds = lsvc2_classifier.predict(new_test)\n",
    "\n",
    "lsvc2_train_score = accuracy_score(y_train, lsvc2_train_preds)\n",
    "lsvc2_test_score = accuracy_score(y_test, lsvc2_test_preds)\n",
    "\n",
    "print('LinearSVC')\n",
    "print(\"Training Accuracy: {:.4} \\t\\t Testing Accuracy: {:.4}\".format(lsvc2_train_score, lsvc2_test_score))\n",
    "print(\"F1 Score: {}\".format(f1_score(y_test, lsvc_test_preds, average='micro')))"
   ]
  },
  {
   "cell_type": "markdown",
   "metadata": {},
   "source": [
    "<br>"
   ]
  },
  {
   "cell_type": "markdown",
   "metadata": {},
   "source": [
    "## Visual Analysis"
   ]
  },
  {
   "cell_type": "code",
   "execution_count": 20,
   "metadata": {},
   "outputs": [],
   "source": [
    "import matplotlib.pyplot as plt\n",
    "from sklearn.metrics import confusion_matrix, f1_score, classification_report\n",
    "import itertools\n",
    "\n",
    "def plot_confusion_matrix(cm, classes,\n",
    "                          normalize=False,\n",
    "                          title='Confusion matrix',\n",
    "                          cmap=plt.cm.Blues):\n",
    "    #Add Normalization Option\n",
    "    '''prints pretty confusion metric with normalization option '''\n",
    "    if normalize:\n",
    "        cm = cm.astype('float') / cm.sum(axis=1)[:, np.newaxis]\n",
    "        print(\"Normalized confusion matrix\")\n",
    "    else:\n",
    "        print('Confusion matrix, without normalization')\n",
    "\n",
    "    print(cm)\n",
    "\n",
    "    plt.imshow(cm, interpolation='nearest', cmap=cmap)\n",
    "    plt.title(title)\n",
    "    plt.colorbar()\n",
    "    tick_marks = np.arange(len(classes))\n",
    "    plt.xticks(tick_marks, classes, rotation=45)\n",
    "    plt.yticks(tick_marks, classes)\n",
    "\n",
    "    fmt = '.2f' if normalize else 'd'\n",
    "    thresh = cm.max() / 2.\n",
    "    for i, j in itertools.product(range(cm.shape[0]), range(cm.shape[1])):\n",
    "        plt.text(j, i, format(cm[i, j], fmt),\n",
    "                 horizontalalignment=\"center\",\n",
    "                 color=\"white\" if cm[i, j] > thresh else \"black\")\n",
    "    plt.tight_layout()\n",
    "    plt.ylabel('True label')\n",
    "    plt.xlabel('Predicted label')\n",
    "    \n",
    "cm = confusion_matrix(y_test, lsvc_test_preds)\n",
    "cate = data.keys()"
   ]
  },
  {
   "cell_type": "code",
   "execution_count": 24,
   "metadata": {},
   "outputs": [
    {
     "name": "stdout",
     "output_type": "stream",
     "text": [
      "Confusion matrix, without normalization\n",
      "[[15  0  0  0  0  0  0  0  0  0  0  0  0  1  0  0  0  0]\n",
      " [ 0  8  0  0  0  0  0  0  0  0  0  0  2  0  0  0  0  0]\n",
      " [ 0  0  8  0  0  0  0  0  0  1  0  0  0  0  2  0  1  0]\n",
      " [ 0  0  0  3  0  0  0  0  0  0  0  0  0  0  1  0  0  0]\n",
      " [ 0  0  0  0  7  0  0  0  2  0  2  0  0  0  0  0  0  0]\n",
      " [ 0  0  0  1  0 10  1  0  0  0  0  0  0  0  0  0  0  0]\n",
      " [ 0  0  0  0  0  0 10  0  0  0  0  0  0  1  0  0  0  0]\n",
      " [ 0  0  0  0  0  0  1 14  0  0  1  0  0  0  1  0  0  0]\n",
      " [ 0  0  0  0  0  0  0  0 14  1  0  0  0  0  0  0  0  0]\n",
      " [ 0  0  0  0  0  0  0  0  0  8  0  0  0  0  0  0  1  0]\n",
      " [ 0  0  0  0  0  0  0  0  0  0 10  1  0  0  0  0  0  0]\n",
      " [ 2  0  0  0  0  0  0  0  0  0  0 13  0  1  0  0  0  0]\n",
      " [ 0  1  0  0  0  0  0  0  0  0  0  0  4  0  0  0  2  0]\n",
      " [ 0  0  0  0  0  0  0  0  0  0  0  0  0 14  0  0  0  0]\n",
      " [ 0  0  2  1  0  0  0  0  0  0  1  0  1  0  9  0  0  0]\n",
      " [ 0  0  0  0  0  0  0  0  0  0  0  0  0  0  0 11  0  0]\n",
      " [ 1  1  1  0  0  0  0  0  0  0  1  0  2  0  0  0  7  0]\n",
      " [ 0  0  0  0  0  0  0  0  0  0  0  0  0  0  0  0  0 13]]\n"
     ]
    },
    {
     "data": {
      "image/png": "[encoded data removed]",
      "text/plain": [
       "<Figure size 720x720 with 2 Axes>"
      ]
     },
     "metadata": {
      "needs_background": "light"
     },
     "output_type": "display_data"
    }
   ],
   "source": [
    "cm = confusion_matrix(y_test, lsvc2_test_preds)\n",
    "cate = data.keys()\n",
    "plt.figure(figsize=(10,10))\n",
    "plot_confusion_matrix(cm, cate)"
   ]
  },
  {
   "cell_type": "code",
   "execution_count": 25,
   "metadata": {},
   "outputs": [
    {
     "name": "stdout",
     "output_type": "stream",
     "text": [
      "                    precision    recall  f1-score   support\n",
      "\n",
      "            BEAUTY       0.83      0.94      0.88        16\n",
      "          BUSINESS       0.80      0.80      0.80        10\n",
      "     COMMUNICATION       0.73      0.67      0.70        12\n",
      "            DATING       0.60      0.75      0.67         4\n",
      "         EDUCATION       1.00      0.64      0.78        11\n",
      "    FOOD_AND_DRINK       1.00      0.83      0.91        12\n",
      "HEALTH_AND_FITNESS       0.83      0.91      0.87        11\n",
      "           MEDICAL       1.00      0.82      0.90        17\n",
      "   MUSIC_AND_AUDIO       0.88      0.93      0.90        15\n",
      "NEWS_AND_MAGAZINES       0.80      0.89      0.84         9\n",
      "         PARENTING       0.67      0.91      0.77        11\n",
      "       PHOTOGRAPHY       0.93      0.81      0.87        16\n",
      "      PRODUCTIVITY       0.44      0.57      0.50         7\n",
      "          SHOPPING       0.82      1.00      0.90        14\n",
      "            SOCIAL       0.69      0.64      0.67        14\n",
      "            SPORTS       1.00      1.00      1.00        11\n",
      "             TOOLS       0.64      0.54      0.58        13\n",
      "           WEATHER       1.00      1.00      1.00        13\n",
      "\n",
      "         micro avg       0.82      0.82      0.82       216\n",
      "         macro avg       0.81      0.81      0.81       216\n",
      "      weighted avg       0.84      0.82      0.82       216\n",
      "\n"
     ]
    }
   ],
   "source": [
    "print(classification_report(y_test, lsvc2_test_preds))"
   ]
  },
  {
   "cell_type": "code",
   "execution_count": null,
   "metadata": {},
   "outputs": [],
   "source": [
    "from wordcloud import WordCloud, STOPWORDS, ImageColorGenerator\n",
    "\n",
    "import matplotlib.pyplot as plt"
   ]
  }
 ],
 "metadata": {
  "kernelspec": {
   "display_name": "Python 3",
   "language": "python",
   "name": "python3"
  },
  "language_info": {
   "codemirror_mode": {
    "name": "ipython",
    "version": 3
   },
   "file_extension": ".py",
   "mimetype": "text/x-python",
   "name": "python",
   "nbconvert_exporter": "python",
   "pygments_lexer": "ipython3",
   "version": "3.6.6"
  }
 },
 "nbformat": 4,
 "nbformat_minor": 2
}
