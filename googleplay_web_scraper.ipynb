{
 "cells": [
  {
   "cell_type": "code",
   "execution_count": 1,
   "metadata": {},
   "outputs": [],
   "source": [
    "import requests\n",
    "from bs4 import BeautifulSoup\n",
    "import re\n",
    "import time"
   ]
  },
  {
   "cell_type": "code",
   "execution_count": 2,
   "metadata": {},
   "outputs": [],
   "source": [
    "categories = ['EDUCATION', \n",
    "              'BUSINESS', \n",
    "       'DATING', 'SPORTS', \n",
    "       'WEATHER', 'FOOD_AND_DRINK', \n",
    "       'HEALTH_AND_FITNESS', \n",
    "       'MUSIC_AND_AUDIO', 'NEWS_AND_MAGAZINES', \n",
    "       'SOCIAL', 'SHOPPING', \n",
    "       'PRODUCTIVITY', 'PHOTOGRAPHY', \n",
    "       'MEDICAL', 'PARENTING', 'BEAUTY',\n",
    "       'COMMUNICATION', 'TOOLS']"
   ]
  },
  {
   "cell_type": "code",
   "execution_count": 3,
   "metadata": {},
   "outputs": [],
   "source": [
    "def get_links(data):\n",
    "    '''Given html data this will extract all the links'''\n",
    "    link_list = []\n",
    "    for link in data.findAll('a'):\n",
    "        get_link = link.get('href')\n",
    "        link_list.append(get_link)\n",
    "    return link_list"
   ]
  },
  {
   "cell_type": "code",
   "execution_count": 4,
   "metadata": {},
   "outputs": [],
   "source": [
    "def webpage_html(url):\n",
    "    r = requests.get(url)\n",
    "    html = r.text\n",
    "    return html"
   ]
  },
  {
   "cell_type": "code",
   "execution_count": 5,
   "metadata": {},
   "outputs": [],
   "source": [
    "def google_scraper(categories):\n",
    "    '''Will cycle through every category and then request the site, pass the soup to \n",
    "        get_links and then clean the list and append results to a new list in a dict\n",
    "        format that has the format of {cat_name : [link list]}'''\n",
    "    dicty = dict()\n",
    "    for category in categories:\n",
    "        url = f'https://play.google.com/store/apps/category/{category}/collection/topselling_free'\n",
    "        html = webpage_html(url)\n",
    "        soup = BeautifulSoup(html)\n",
    "        links = get_links(soup)\n",
    "        del links[0:107]\n",
    "        clean = list(set(links))\n",
    "        new_list = [app for app in clean if app.find('details') != -1]\n",
    "        dicty[category] = new_list\n",
    "        time.sleep(3)\n",
    "    return dicty"
   ]
  },
  {
   "cell_type": "code",
   "execution_count": 6,
   "metadata": {},
   "outputs": [],
   "source": [
    "def parse(listing_html, criteria):\n",
    "    result = listing_html.find(class_=re.compile(r'.*%s' % criteria))\n",
    "    if result:\n",
    "        return result.text"
   ]
  },
  {
   "cell_type": "code",
   "execution_count": 8,
   "metadata": {},
   "outputs": [],
   "source": [
    "def get_description(category_dict):\n",
    "    dicty = dict()\n",
    "    url = 'https://play.google.com'\n",
    "    for category, link_list in category_dict.items():\n",
    "        listy = list()\n",
    "        for link in link_list:\n",
    "            html = webpage_html(url+link)\n",
    "            soup = BeautifulSoup(html)\n",
    "            html1 = soup.find('div', {'class':\"LXrl4c\"})\n",
    "            description = parse(html1, 'DWPxHb')\n",
    "            time.sleep(1)\n",
    "            listy.append(description)\n",
    "        dicty[category] = listy\n",
    "    return dicty              "
   ]
  },
  {
   "cell_type": "code",
   "execution_count": null,
   "metadata": {},
   "outputs": [],
   "source": [
    "cat = categories\n",
    "# This gets links of apps in the given categories\n",
    "stuff = google_scraper(cat)\n",
    "# This gets the description of the apps given a list of links for the categories\n",
    "all_desc = get_description(stuff)"
   ]
  }
 ],
 "metadata": {
  "kernelspec": {
   "display_name": "Python 3",
   "language": "python",
   "name": "python3"
  },
  "language_info": {
   "codemirror_mode": {
    "name": "ipython",
    "version": 3
   },
   "file_extension": ".py",
   "mimetype": "text/x-python",
   "name": "python",
   "nbconvert_exporter": "python",
   "pygments_lexer": "ipython3",
   "version": "3.6.8"
  }
 },
 "nbformat": 4,
 "nbformat_minor": 2
}
