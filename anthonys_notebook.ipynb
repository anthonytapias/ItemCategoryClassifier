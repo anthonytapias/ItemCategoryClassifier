{
 "cells": [
  {
   "cell_type": "code",
   "execution_count": 1,
   "metadata": {},
   "outputs": [],
   "source": [
    "import requests\n",
    "from bs4 import BeautifulSoup\n",
    "import re"
   ]
  },
  {
   "cell_type": "code",
   "execution_count": null,
   "metadata": {},
   "outputs": [],
   "source": []
  },
  {
   "cell_type": "code",
   "execution_count": null,
   "metadata": {},
   "outputs": [],
   "source": [
    "cat = ['EDUCATION', 'BUSINESS', \n",
    "       'DATING', 'SPORTS', \n",
    "       'WEATHER', 'FOOD_AND_DRINK', \n",
    "       'HEALTH_AND_FITNESS', 'BEAUTY', \n",
    "       'MUSIC_AND_AUDIO', 'NEWS_AND_MAGAZINES', ]\n",
    "\n",
    "\n",
    "\n",
    "\n",
    "\n",
    "\n",
    "\n"
   ]
  },
  {
   "cell_type": "code",
   "execution_count": null,
   "metadata": {},
   "outputs": [],
   "source": []
  },
  {
   "cell_type": "code",
   "execution_count": null,
   "metadata": {},
   "outputs": [],
   "source": []
  },
  {
   "cell_type": "code",
   "execution_count": null,
   "metadata": {},
   "outputs": [],
   "source": []
  },
  {
   "cell_type": "code",
   "execution_count": 4,
   "metadata": {},
   "outputs": [
    {
     "data": {
      "text/plain": [
       "['/store/apps/dev?id=8929232438554100687',\n",
       " '/store/apps/details?id=com.cisco.webex.meetings',\n",
       " '/store/apps/developer?id=Fiverr',\n",
       " '/store/apps/details?id=com.security.antivirus.cleaner.guard',\n",
       " '/store/apps/details?id=com.microsoft.office.lync15',\n",
       " '/store/apps/details?id=com.google.android.apps.meetings',\n",
       " '/store/apps/details?id=com.shopify.logomaker.hatchful',\n",
       " '/store/apps/details?id=com.workday.workdroidapp',\n",
       " '/store/apps/details?id=com.logmein.gotowebinar',\n",
       " '/store/apps/dev?id=7516171781015428735',\n",
       " '/store/apps/dev?id=6860682062931868151',\n",
       " '/store/apps/details?id=com.airwatch.androidagent',\n",
       " '/store/apps/details?id=com.google.android.apps.vega',\n",
       " '/store/apps/details?id=com.linkedin.android.jobs.jobseeker',\n",
       " '/store/apps/developer?id=BEDPAGE',\n",
       " '/store/apps/details?id=com.thisclicks.wiw',\n",
       " '/store/apps/details?id=com.usps',\n",
       " '/store/apps/developer?id=Apps+You+Love',\n",
       " '/store/apps/details?id=com.walmart.wfm',\n",
       " '/store/apps/details?id=com.fedex.ida.android',\n",
       " '/store/apps/dev?id=5023482540302634439',\n",
       " '/store/apps/developer?id=Duo+Security,+Inc.',\n",
       " '/store/apps/developer?id=Amway+Corp.',\n",
       " '/store/apps/details?id=com.intuit.quickbooks',\n",
       " '/store/apps/developer?id=Metro,+a+brand+of+T-Mobile+USA,+Inc',\n",
       " '/store/apps/details?id=com.ziprecruiter.android.release',\n",
       " '/store/apps/details?id=com.ubercab.driver',\n",
       " '/store/apps/dev?id=5700313618786177705',\n",
       " '/store/apps/dev?id=7684130598443521301',\n",
       " '/store/apps/developer?id=zoom.us',\n",
       " '/store/apps/developer?id=TMX+FINANCE+LLC',\n",
       " '/store/apps/details?id=com.hirevue.candidate.generic',\n",
       " '/store/apps/details?id=com.snagajob.jobseeker',\n",
       " '/store/apps/developer?id=CoolMobileSolution',\n",
       " '/store/apps/details?id=com.steady.steadyapp.com',\n",
       " '/store/apps/details?id=com.sideline.phone.number',\n",
       " '/store/apps/details?id=com.lyft.android.driver',\n",
       " '/store/apps/details?id=com.appxy.tinyscanner',\n",
       " '/store/apps/developer?id=GoDaddy+Operating+Company,+LLC',\n",
       " '/store/apps/developer?id=UPS',\n",
       " '/store/apps/details?id=com.facebook.pages.app',\n",
       " '/store/apps/developer?id=Kronos+Incorporated',\n",
       " '/store/apps/details?id=com.joinhomebase.homebase.homebase',\n",
       " '/store/apps/details?id=com.Slack',\n",
       " 'https://support.google.com/googleplay/?p=about_play',\n",
       " 'https://play.google.com/artists',\n",
       " '/store/apps/developer?id=Dayforce',\n",
       " '/store/apps/details?id=com.paylocity.paylocitymobile',\n",
       " '/store/apps/details?id=com.bedpage',\n",
       " '/store/apps/details?id=com.etsy.android.soe',\n",
       " '/store/apps/details?id=com.godaddy.gdm.smartline',\n",
       " '/store/apps/dev?id=7987416923533646496',\n",
       " '/store/apps/details?id=com.indeed.android.jobsearch',\n",
       " '/store/apps/developer?id=VMware+Workspace+ONE',\n",
       " '/store/apps/details?id=us.zoom.videomeetings',\n",
       " '/store/apps/developer?id=Slack+Technologies+Inc.',\n",
       " '/store/apps/dev?id=6629245766506578153',\n",
       " '/store/apps/details?id=com.adpmobile.android',\n",
       " '/store/apps/developer?id=Etsy,+Inc',\n",
       " '/store/apps/developer?id=Paychex,+Inc',\n",
       " '/store/apps/developer?id=Concur',\n",
       " '/store/apps/developer?id=LogMeIn,+Inc.',\n",
       " '/store/apps/details?id=com.jobrapp.jobr',\n",
       " '/store/apps/developer?id=Paycor,+Inc.',\n",
       " '/store/apps/details?id=com.glassdoor.app',\n",
       " '/store/apps/details?id=com.ups.mobile.android',\n",
       " '/store/apps/details?id=com.simplescan.scanner',\n",
       " '/store/apps/details?id=com.kronos.mobile.android',\n",
       " '/store/apps/details?id=com.crewapp.android.crew',\n",
       " '/store/apps/developer?id=Cisco+Systems,+Inc.',\n",
       " '/store/apps/details?id=com.microsoft.teams',\n",
       " '/store/apps/developer?id=HireVue',\n",
       " '/store/apps/developer?id=Workday,+Inc.',\n",
       " '/store/apps/dev?id=5959335544576785738',\n",
       " 'https://payments.google.com/termsOfService?hl=en_US',\n",
       " '/store/apps/dev?id=4878871734928263649',\n",
       " '/store/apps/details?id=com.concur.breeze',\n",
       " '/store/apps/details?id=com.azure.authenticator',\n",
       " '/store/apps/developer?id=Monster+Worldwide',\n",
       " '/store/apps/developer?id=Indeed+Jobs',\n",
       " '/store/apps/details?id=com.coolmobilesolution.fastscannerfree',\n",
       " '/store/apps/developer?id=Walmart',\n",
       " '/store/apps/details?id=com.fiverr.fiverr',\n",
       " '/store/apps/developer?id=ADP,+LLC',\n",
       " '/store/apps/dev?id=6720847872553662727',\n",
       " '/store/apps/details?id=com.metropcs.service.vvm',\n",
       " 'https://play.google.com/intl/en-US_us/about/play-terms.html',\n",
       " '/store/apps/developer?id=Glassdoor+Inc.',\n",
       " '/store/apps/details?id=com.amway.americas.NA.businesscenter',\n",
       " '/store/apps/developer?id=FedEx',\n",
       " 'http://developer.android.com/index.html',\n",
       " '/store/apps/developer?id=Facebook',\n",
       " '/store/apps/details?id=com.microsoft.windowsintune.companyportal',\n",
       " '/store/apps/developer?id=PayPal+Mobile',\n",
       " '/store/apps/details?id=com.merlinjobs.android',\n",
       " '/store/apps/developer?id=Speramus,+Inc.',\n",
       " '/store/apps/developer?id=Appxy',\n",
       " '/store/apps/details?id=com.bg.flyermaker',\n",
       " '/store/apps/developer?id=When+I+Work,+Inc.',\n",
       " '/store/apps/developer?id=Easy+Inc.',\n",
       " '/store/apps/details?id=net.itx.paychex',\n",
       " '/store/apps/developer?id=Steady+Platform,+Inc.',\n",
       " 'http://www.google.com/intl/en-US_us/policies/privacy/',\n",
       " '/store/apps/details?id=com.ultimatesoftware.ultipromobile',\n",
       " '/store/apps/dev?id=7908612043055486674',\n",
       " '/store/apps/dev?id=7758635825238926683',\n",
       " '/store/apps/details?id=com.gotomeeting',\n",
       " '/store/apps/developer?id=United+States+Postal+Service%C2%AE',\n",
       " '/store/apps/details?id=com.walmartone.android',\n",
       " '/store/apps/details?id=com.titlemax.customerapp',\n",
       " 'https://payments.google.com/legaldocument?family=0.privacynotice&hl=en_US',\n",
       " '/store/apps/details?id=com.duosecurity.duomobile',\n",
       " '/store/apps/developer?id=Fast+Atom',\n",
       " '/store/apps/details?id=com.squareup',\n",
       " '/store/apps/details?id=com.dayforce.mobile',\n",
       " '/store/apps/details?id=unclaimed.money',\n",
       " '/store/apps/details?id=com.paypal.merchant.client',\n",
       " '/store/apps/developer?id=Paylocity',\n",
       " '/store/apps/developer?id=The+Ultimate+Software+Group,+Inc.',\n",
       " '/store/apps/details?id=com.paycor.perform',\n",
       " '/store/apps/developer?id=Pinger,+Inc']"
      ]
     },
     "execution_count": 4,
     "metadata": {},
     "output_type": "execute_result"
    }
   ],
   "source": [
    "sports = requests.get('https://play.google.com/store/apps/category/BUSINESS/collection/topselling_free')\n",
    "sports_html = sports.text #data\n",
    "sports_data = BeautifulSoup(sports_html)\n",
    "def get_links(data):\n",
    "    link_list = []\n",
    "    for link in data.findAll('a'):\n",
    "        get_link = link.get('href')\n",
    "        link_list.append(get_link)\n",
    "    return link_list\n",
    "links = get_links(sports_data)\n",
    "del links[0:107]\n",
    "sports_links = list(set(links))\n",
    "sports_links"
   ]
  },
  {
   "cell_type": "code",
   "execution_count": 10,
   "metadata": {},
   "outputs": [],
   "source": [
    "new_list = [app for app in sports_links if app.find('details') != -1] "
   ]
  },
  {
   "cell_type": "code",
   "execution_count": 12,
   "metadata": {},
   "outputs": [
    {
     "data": {
      "text/plain": [
       "60"
      ]
     },
     "execution_count": 12,
     "metadata": {},
     "output_type": "execute_result"
    }
   ],
   "source": [
    "len(new_list)"
   ]
  },
  {
   "cell_type": "code",
   "execution_count": null,
   "metadata": {},
   "outputs": [],
   "source": []
  },
  {
   "cell_type": "code",
   "execution_count": null,
   "metadata": {},
   "outputs": [],
   "source": []
  },
  {
   "cell_type": "code",
   "execution_count": null,
   "metadata": {},
   "outputs": [],
   "source": []
  },
  {
   "cell_type": "code",
   "execution_count": null,
   "metadata": {},
   "outputs": [],
   "source": []
  },
  {
   "cell_type": "code",
   "execution_count": null,
   "metadata": {},
   "outputs": [],
   "source": []
  },
  {
   "cell_type": "code",
   "execution_count": null,
   "metadata": {},
   "outputs": [],
   "source": []
  },
  {
   "cell_type": "code",
   "execution_count": 1,
   "metadata": {},
   "outputs": [],
   "source": [
    "from jeffs_webscraper import ListingBuilder, CraigsListScraper, ListingParser"
   ]
  },
  {
   "cell_type": "code",
   "execution_count": null,
   "metadata": {},
   "outputs": [],
   "source": []
  },
  {
   "cell_type": "code",
   "execution_count": 2,
   "metadata": {},
   "outputs": [],
   "source": [
    "lb = ListingBuilder()"
   ]
  },
  {
   "cell_type": "code",
   "execution_count": 3,
   "metadata": {},
   "outputs": [
    {
     "name": "stderr",
     "output_type": "stream",
     "text": [
      "/Users/bravo/ClassifierProject/ItemCategoryClassifier/jeffs_webscraper.py:33: UserWarning: No parser was explicitly specified, so I'm using the best available HTML parser for this system (\"lxml\"). This usually isn't a problem, but if you run this code on another system, or in a different virtual environment, it may use a different parser and behave differently.\n",
      "\n",
      "The code that caused this warning is on line 33 of the file /Users/bravo/ClassifierProject/ItemCategoryClassifier/jeffs_webscraper.py. To get rid of this warning, pass the additional argument 'features=\"lxml\"' to the BeautifulSoup constructor.\n",
      "\n",
      "  craigslist_soup = BeautifulSoup(craigslist_html)\n"
     ]
    },
    {
     "data": {
      "text/plain": [
       "[' NFL Enterprises LLC    1      ']"
      ]
     },
     "execution_count": 3,
     "metadata": {},
     "output_type": "execute_result"
    }
   ],
   "source": [
    "lb.run()"
   ]
  },
  {
   "cell_type": "code",
   "execution_count": null,
   "metadata": {},
   "outputs": [],
   "source": []
  }
 ],
 "metadata": {
  "kernelspec": {
   "display_name": "Python 3",
   "language": "python",
   "name": "python3"
  },
  "language_info": {
   "codemirror_mode": {
    "name": "ipython",
    "version": 3
   },
   "file_extension": ".py",
   "mimetype": "text/x-python",
   "name": "python",
   "nbconvert_exporter": "python",
   "pygments_lexer": "ipython3",
   "version": "3.6.7"
  }
 },
 "nbformat": 4,
 "nbformat_minor": 2
}
