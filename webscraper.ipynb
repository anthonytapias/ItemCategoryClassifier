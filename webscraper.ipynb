{
 "cells": [
  {
   "cell_type": "code",
   "execution_count": null,
   "metadata": {},
   "outputs": [],
   "source": [
    "import requests\n",
    "import lxml.html"
   ]
  },
  {
   "cell_type": "code",
   "execution_count": null,
   "metadata": {},
   "outputs": [],
   "source": [
    "craiglist_request = requests.get('https://newyork.craigslist.org/d/rooms-shares/search/brk/roo')"
   ]
  },
  {
   "cell_type": "code",
   "execution_count": null,
   "metadata": {},
   "outputs": [],
   "source": [
    "craigslist_html = craiglist_request.text #data\n",
    "tree = lxml.html.fromstring(craigslist_html)"
   ]
  },
  {
   "cell_type": "code",
   "execution_count": null,
   "metadata": {},
   "outputs": [],
   "source": [
    "from bs4 import BeautifulSoup"
   ]
  },
  {
   "cell_type": "code",
   "execution_count": null,
   "metadata": {},
   "outputs": [],
   "source": [
    "craigslist_soup = BeautifulSoup(craigslist_html)"
   ]
  },
  {
   "cell_type": "code",
   "execution_count": null,
   "metadata": {},
   "outputs": [],
   "source": [
    "hello = craigslist_soup.findAll('li', {'class' : 'result-row'})"
   ]
  },
  {
   "cell_type": "code",
   "execution_count": null,
   "metadata": {},
   "outputs": [],
   "source": [
    "len(hello)"
   ]
  },
  {
   "cell_type": "code",
   "execution_count": null,
   "metadata": {},
   "outputs": [],
   "source": [
    "hello.find_all('span', {'class': 'result-price'})"
   ]
  },
  {
   "cell_type": "code",
   "execution_count": 1,
   "metadata": {},
   "outputs": [],
   "source": [
    "from jeffs_webscraper import ListingBuilder, CraigsListScraper, ListingParser"
   ]
  },
  {
   "cell_type": "code",
   "execution_count": null,
   "metadata": {},
   "outputs": [],
   "source": []
  },
  {
   "cell_type": "code",
   "execution_count": 2,
   "metadata": {},
   "outputs": [],
   "source": [
    "lb = ListingBuilder()"
   ]
  },
  {
   "cell_type": "code",
   "execution_count": 3,
   "metadata": {},
   "outputs": [
    {
     "name": "stderr",
     "output_type": "stream",
     "text": [
      "/Users/bravo/ClassifierProject/ItemCategoryClassifier/jeffs_webscraper.py:29: UserWarning: No parser was explicitly specified, so I'm using the best available HTML parser for this system (\"lxml\"). This usually isn't a problem, but if you run this code on another system, or in a different virtual environment, it may use a different parser and behave differently.\n",
      "\n",
      "The code that caused this warning is on line 29 of the file /Users/bravo/ClassifierProject/ItemCategoryClassifier/jeffs_webscraper.py. To get rid of this warning, pass the additional argument 'features=\"lxml\"' to the BeautifulSoup constructor.\n",
      "\n",
      "  craigslist_soup = BeautifulSoup(craigslist_html)\n"
     ]
    },
    {
     "data": {
      "text/plain": [
       "['Challenge real players from around the world, and make it to the top.Gather your friends and play 1v1 or with up to 6 Facebook friends all together.Super easy controls. Fun & intuitive gameplay.Beat your opponents to the hole and prove yourself king of the golf course!Compete & enjoy multiple game modes:Take your time & relax in Classic mode – get to the hole in the fewest shots possible.Or race to the hole in the fastest time in super fun Rush mode.Collect and upgrade awesome clubs and custom balls.Play, progress & unlock loads of cool levels.Come on in & join the minigolf putting party!KEY FEATURES:• Innovative 6-player online multiplayer.• Play together in real-time with real players across the world.• Play with your friends. Just with 1, or up to 6 all together!• Relax and take aim in Classic mode.• Race ahead in fast & furious Rush mode.• Simple, intuitive controls. Fun, addicting gameplay.• Awesome 3d graphics.• Win prizes & powerful golf gear.• Unlock & upgrade your clubs.• Level up and progress through 60+ holes, courses and levels.Download the best pvp sports game on mobile – get Golf Battle NOW!This game needs an internet connection to play']"
      ]
     },
     "execution_count": 3,
     "metadata": {},
     "output_type": "execute_result"
    }
   ],
   "source": [
    "lb.run()"
   ]
  },
  {
   "cell_type": "code",
   "execution_count": null,
   "metadata": {},
   "outputs": [],
   "source": []
  }
 ],
 "metadata": {
  "kernelspec": {
   "display_name": "Python 3",
   "language": "python",
   "name": "python3"
  },
  "language_info": {
   "codemirror_mode": {
    "name": "ipython",
    "version": 3
   },
   "file_extension": ".py",
   "mimetype": "text/x-python",
   "name": "python",
   "nbconvert_exporter": "python",
   "pygments_lexer": "ipython3",
   "version": "3.6.8"
  }
 },
 "nbformat": 4,
 "nbformat_minor": 2
}
