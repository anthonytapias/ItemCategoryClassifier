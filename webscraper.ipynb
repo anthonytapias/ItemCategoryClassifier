{
 "cells": [
  {
   "cell_type": "code",
   "execution_count": 1,
   "metadata": {},
   "outputs": [],
   "source": [
    "import requests\n",
    "from bs4 import BeautifulSoup\n",
    "import re"
   ]
  },
  {
   "cell_type": "code",
   "execution_count": 2,
   "metadata": {},
   "outputs": [],
   "source": [
    "sports = requests.get('https://play.google.com/store/apps/category/SPORTS/collection/topselling_free')\n",
    "sports_html = sports.text #data\n",
    "sports_data = BeautifulSoup(sports_html)\n"
   ]
  },
  {
   "cell_type": "code",
   "execution_count": null,
   "metadata": {},
   "outputs": [],
   "source": []
  },
  {
   "cell_type": "code",
   "execution_count": 87,
   "metadata": {},
   "outputs": [
    {
     "data": {
      "text/plain": [
       "[<div class=\"subtitle-container\"> <a class=\"subtitle\" href=\"/store/apps/dev?id=7468190409947973272\" title=\"NFL Enterprises LLC\">NFL Enterprises LLC</a> <span class=\"price-container\"> <span class=\"paragraph-end\"></span> <span class=\"apps is-price-tag buy-button-container is_not_aquired_or_preordered\" data-doc-fetch-skip-cache=\"0\" data-doc-fetch-vouchers=\"0\" data-docid=\"com.gotv.nflgamecenter.us.lite\"> <div class=\"pon\" style=\"display:none\">1</div> <button class=\"price buy id-track-click id-track-impression\" data-server-cookie=\"CAIaPwomEiQKHmNvbS5nb3R2Lm5mbGdhbWVjZW50ZXIudXMubGl0ZRABGAMyEwjquc3Z6drfAhXYnDYKHTZYC7BCAA==\" data-uitype=\"223\"> <span class=\"display-price\"></span> </button> </span> </span> </div>,\n",
       " <div class=\"subtitle-container\"> <a class=\"subtitle\" href=\"/store/apps/dev?id=5536369398281991413\" title=\"Yahoo\">Yahoo</a> <span class=\"price-container\"> <span class=\"paragraph-end\"></span> <span class=\"apps is-price-tag buy-button-container is_not_aquired_or_preordered\" data-doc-fetch-skip-cache=\"0\" data-doc-fetch-vouchers=\"0\" data-docid=\"com.yahoo.mobile.client.android.sportacular\"> <div class=\"pon\" style=\"display:none\">1</div> <button class=\"price buy id-track-click id-track-impression\" data-server-cookie=\"CAIaTAozEjEKK2NvbS55YWhvby5tb2JpbGUuY2xpZW50LmFuZHJvaWQuc3BvcnRhY3VsYXIQARgDMhMI6rnN2ena3wIV2Jw2Ch02WAuwQgA=\" data-uitype=\"223\"> <span class=\"display-price\"></span> </button> </span> </span> </div>,\n",
       " <div class=\"subtitle-container\"> <a class=\"subtitle\" href=\"/store/apps/developer?id=ESPN+Inc\" title=\"ESPN Inc\">ESPN Inc</a> <span class=\"price-container\"> <span class=\"paragraph-end\"></span> <span class=\"apps is-price-tag buy-button-container is_not_aquired_or_preordered\" data-doc-fetch-skip-cache=\"0\" data-doc-fetch-vouchers=\"0\" data-docid=\"com.espn.score_center\"> <div class=\"pon\" style=\"display:none\">1</div> <button class=\"price buy id-track-click id-track-impression\" data-server-cookie=\"CAIaNgodEhsKFWNvbS5lc3BuLnNjb3JlX2NlbnRlchABGAMyEwjquc3Z6drfAhXYnDYKHTZYC7BCAA==\" data-uitype=\"223\"> <span class=\"display-price\"></span> </button> </span> </span> </div>,\n",
       " <div class=\"subtitle-container\"> <a class=\"subtitle\" href=\"/store/apps/developer?id=OrganicDow\" title=\"OrganicDow\">OrganicDow</a> <span class=\"price-container\"> <span class=\"paragraph-end\"></span> <span class=\"apps is-price-tag buy-button-container is_not_aquired_or_preordered\" data-doc-fetch-skip-cache=\"0\" data-doc-fetch-vouchers=\"0\" data-docid=\"com.hoverboard.racing.speed.simulator\"> <div class=\"pon\" style=\"display:none\">1</div> <button class=\"price buy id-track-click id-track-impression\" data-server-cookie=\"CAIaRgotEisKJWNvbS5ob3ZlcmJvYXJkLnJhY2luZy5zcGVlZC5zaW11bGF0b3IQARgDMhMI6rnN2ena3wIV2Jw2Ch02WAuwQgA=\" data-uitype=\"223\"> <span class=\"display-price\"></span> </button> </span> </span> </div>,\n",
       " <div class=\"subtitle-container\"> <a class=\"subtitle\" href=\"/store/apps/developer?id=FOX+Sports+Interactive\" title=\"FOX Sports Interactive\">FOX Sports Interactive</a> <span class=\"price-container\"> <span class=\"paragraph-end\"></span> <span class=\"apps is-price-tag buy-button-container is_not_aquired_or_preordered\" data-doc-fetch-skip-cache=\"0\" data-doc-fetch-vouchers=\"0\" data-docid=\"com.foxsports.android\"> <div class=\"pon\" style=\"display:none\">1</div> <button class=\"price buy id-track-click id-track-impression\" data-server-cookie=\"CAIaNgodEhsKFWNvbS5mb3hzcG9ydHMuYW5kcm9pZBABGAMyEwjquc3Z6drfAhXYnDYKHTZYC7BCAA==\" data-uitype=\"223\"> <span class=\"display-price\"></span> </button> </span> </span> </div>,\n",
       " <div class=\"subtitle-container\"> <a class=\"subtitle\" href=\"/store/apps/developer?id=FOX+Sports+Interactive\" title=\"FOX Sports Interactive\">FOX Sports Interactive</a> <span class=\"price-container\"> <span class=\"paragraph-end\"></span> <span class=\"apps is-price-tag buy-button-container is_not_aquired_or_preordered\" data-doc-fetch-skip-cache=\"0\" data-doc-fetch-vouchers=\"0\" data-docid=\"com.foxsports.videogo\"> <div class=\"pon\" style=\"display:none\">1</div> <button class=\"price buy id-track-click id-track-impression\" data-server-cookie=\"CAIaNgodEhsKFWNvbS5mb3hzcG9ydHMudmlkZW9nbxABGAMyEwjquc3Z6drfAhXYnDYKHTZYC7BCAA==\" data-uitype=\"223\"> <span class=\"display-price\"></span> </button> </span> </span> </div>,\n",
       " <div class=\"subtitle-container\"> <a class=\"subtitle\" href=\"/store/apps/developer?id=CBS+Interactive,+Inc.\" title=\"CBS Interactive, Inc.\">CBS Interactive, Inc.</a> <span class=\"price-container\"> <span class=\"paragraph-end\"></span> <span class=\"apps is-price-tag buy-button-container is_not_aquired_or_preordered\" data-doc-fetch-skip-cache=\"0\" data-doc-fetch-vouchers=\"0\" data-docid=\"com.handmark.sportcaster\"> <div class=\"pon\" style=\"display:none\">1</div> <button class=\"price buy id-track-click id-track-impression\" data-server-cookie=\"CAIaOQogEh4KGGNvbS5oYW5kbWFyay5zcG9ydGNhc3RlchABGAMyEwjquc3Z6drfAhXYnDYKHTZYC7BCAA==\" data-uitype=\"223\"> <span class=\"display-price\"></span> </button> </span> </span> </div>,\n",
       " <div class=\"subtitle-container\"> <a class=\"subtitle\" href=\"/store/apps/dev?id=7468190409947973272\" title=\"NFL Enterprises LLC\">NFL Enterprises LLC</a> <span class=\"price-container\"> <span class=\"paragraph-end\"></span> <span class=\"apps is-price-tag buy-button-container is_not_aquired_or_preordered\" data-doc-fetch-skip-cache=\"0\" data-doc-fetch-vouchers=\"0\" data-docid=\"com.neulion.android.tablet.nfl.wnfln\"> <div class=\"pon\" style=\"display:none\">1</div> <button class=\"price buy id-track-click id-track-impression\" data-server-cookie=\"CAIaRQosEioKJGNvbS5uZXVsaW9uLmFuZHJvaWQudGFibGV0Lm5mbC53bmZsbhABGAMyEwjquc3Z6drfAhXYnDYKHTZYC7BCAA==\" data-uitype=\"223\"> <span class=\"display-price\"></span> </button> </span> </span> </div>,\n",
       " <div class=\"subtitle-container\"> <a class=\"subtitle\" href=\"/store/apps/developer?id=fuboTV\" title=\"fuboTV\">fuboTV</a> <span class=\"price-container\"> <span class=\"paragraph-end\"></span> <span class=\"apps is-price-tag buy-button-container is_not_aquired_or_preordered\" data-doc-fetch-skip-cache=\"0\" data-doc-fetch-vouchers=\"0\" data-docid=\"tv.fubo.mobile\"> <div class=\"pon\" style=\"display:none\">1</div> <button class=\"price buy id-track-click id-track-impression\" data-server-cookie=\"CAIaLwoWEhQKDnR2LmZ1Ym8ubW9iaWxlEAEYAzITCOq5zdnp2t8CFdicNgodNlgLsEIA\" data-uitype=\"223\"> <span class=\"display-price\"></span> </button> </span> </span> </div>,\n",
       " <div class=\"subtitle-container\"> <a class=\"subtitle\" href=\"/store/apps/developer?id=NBCUniversal+Media,+LLC\" title=\"NBCUniversal Media, LLC\">NBCUniversal Media, LLC</a> <span class=\"price-container\"> <span class=\"paragraph-end\"></span> <span class=\"apps is-price-tag buy-button-container is_not_aquired_or_preordered\" data-doc-fetch-skip-cache=\"0\" data-doc-fetch-vouchers=\"0\" data-docid=\"air.com.nbcuni.com.nbcsports.liveextra\"> <div class=\"pon\" style=\"display:none\">1</div> <button class=\"price buy id-track-click id-track-impression\" data-server-cookie=\"CAIaRwouEiwKJmFpci5jb20ubmJjdW5pLmNvbS5uYmNzcG9ydHMubGl2ZWV4dHJhEAEYAzITCOq5zdnp2t8CFdicNgodNlgLsEIA\" data-uitype=\"223\"> <span class=\"display-price\"></span> </button> </span> </span> </div>,\n",
       " <div class=\"subtitle-container\"> <a class=\"subtitle\" href=\"/store/apps/developer?id=ESPN+Inc\" title=\"ESPN Inc\">ESPN Inc</a> <span class=\"price-container\"> <span class=\"paragraph-end\"></span> <span class=\"apps is-price-tag buy-button-container is_not_aquired_or_preordered\" data-doc-fetch-skip-cache=\"0\" data-doc-fetch-vouchers=\"0\" data-docid=\"air.WatchESPN\"> <div class=\"pon\" style=\"display:none\">1</div> <button class=\"price buy id-track-click id-track-impression\" data-server-cookie=\"CAIaLgoVEhMKDWFpci5XYXRjaEVTUE4QARgDMhMI6rnN2ena3wIV2Jw2Ch02WAuwQgA=\" data-uitype=\"223\"> <span class=\"display-price\"></span> </button> </span> </span> </div>,\n",
       " <div class=\"subtitle-container\"> <a class=\"subtitle\" href=\"/store/apps/developer?id=BalanceGrec\" title=\"BalanceGrec\">BalanceGrec</a> <span class=\"price-container\"> <span class=\"paragraph-end\"></span> <span class=\"apps is-price-tag buy-button-container is_not_aquired_or_preordered\" data-doc-fetch-skip-cache=\"0\" data-doc-fetch-vouchers=\"0\" data-docid=\"com.watersurfing.carstunt.racing.simulator\"> <div class=\"pon\" style=\"display:none\">1</div> <button class=\"price buy id-track-click id-track-impression\" data-server-cookie=\"CAIaSwoyEjAKKmNvbS53YXRlcnN1cmZpbmcuY2Fyc3R1bnQucmFjaW5nLnNpbXVsYXRvchABGAMyEwjquc3Z6drfAhXYnDYKHTZYC7BCAA==\" data-uitype=\"223\"> <span class=\"display-price\"></span> </button> </span> </span> </div>,\n",
       " <div class=\"subtitle-container\"> <a class=\"subtitle\" href=\"/store/apps/developer?id=OrganicDow\" title=\"OrganicDow\">OrganicDow</a> <span class=\"price-container\"> <span class=\"paragraph-end\"></span> <span class=\"apps is-price-tag buy-button-container is_not_aquired_or_preordered\" data-doc-fetch-skip-cache=\"0\" data-doc-fetch-vouchers=\"0\" data-docid=\"com.water.surfingrace.motorbike.stunt\"> <div class=\"pon\" style=\"display:none\">1</div> <button class=\"price buy id-track-click id-track-impression\" data-server-cookie=\"CAIaRgotEisKJWNvbS53YXRlci5zdXJmaW5ncmFjZS5tb3RvcmJpa2Uuc3R1bnQQARgDMhMI6rnN2ena3wIV2Jw2Ch02WAuwQgA=\" data-uitype=\"223\"> <span class=\"display-price\"></span> </button> </span> </span> </div>,\n",
       " <div class=\"subtitle-container\"> <a class=\"subtitle\" href=\"/store/apps/developer?id=Fishbrain\" title=\"Fishbrain\">Fishbrain</a> <span class=\"price-container\"> <span class=\"paragraph-end\"></span> <span class=\"apps is-price-tag buy-button-container is_not_aquired_or_preordered\" data-doc-fetch-skip-cache=\"0\" data-doc-fetch-vouchers=\"0\" data-docid=\"com.fishbrain.app\"> <div class=\"pon\" style=\"display:none\">1</div> <button class=\"price buy id-track-click id-track-impression\" data-server-cookie=\"CAIaMgoZEhcKEWNvbS5maXNoYnJhaW4uYXBwEAEYAzITCOq5zdnp2t8CFdicNgodNlgLsEIA\" data-uitype=\"223\"> <span class=\"display-price\"></span> </button> </span> </span> </div>,\n",
       " <div class=\"subtitle-container\"> <a class=\"subtitle\" href=\"/store/apps/developer?id=Sport+Streaming\" title=\"Sport Streaming\">Sport Streaming</a> <span class=\"price-container\"> <span class=\"paragraph-end\"></span> <span class=\"apps is-price-tag buy-button-container is_not_aquired_or_preordered\" data-doc-fetch-skip-cache=\"0\" data-doc-fetch-vouchers=\"0\" data-docid=\"com.sportstreaming.nflfootball\"> <div class=\"pon\" style=\"display:none\">1</div> <button class=\"price buy id-track-click id-track-impression\" data-server-cookie=\"CAIaPwomEiQKHmNvbS5zcG9ydHN0cmVhbWluZy5uZmxmb290YmFsbBABGAMyEwjquc3Z6drfAhXYnDYKHTZYC7BCAA==\" data-uitype=\"223\"> <span class=\"display-price\"></span> </button> </span> </span> </div>,\n",
       " <div class=\"subtitle-container\"> <a class=\"subtitle\" href=\"/store/apps/developer?id=NFL+HD+Live\" title=\"NFL HD Live\">NFL HD Live</a> <span class=\"price-container\"> <span class=\"paragraph-end\"></span> <span class=\"apps is-price-tag buy-button-container is_not_aquired_or_preordered\" data-doc-fetch-skip-cache=\"0\" data-doc-fetch-vouchers=\"0\" data-docid=\"com.unoicmaui.nfl.dauloanh.mtoc.bonaohai\"> <div class=\"pon\" style=\"display:none\">1</div> <button class=\"price buy id-track-click id-track-impression\" data-server-cookie=\"CAIaSQowEi4KKGNvbS51bm9pY21hdWkubmZsLmRhdWxvYW5oLm10b2MuYm9uYW9oYWkQARgDMhMI6rnN2ena3wIV2Jw2Ch02WAuwQgA=\" data-uitype=\"223\"> <span class=\"display-price\"></span> </button> </span> </span> </div>,\n",
       " <div class=\"subtitle-container\"> <a class=\"subtitle\" href=\"/store/apps/developer?id=NBA+Digital\" title=\"NBA Digital\">NBA Digital</a> <span class=\"price-container\"> <span class=\"paragraph-end\"></span> <span class=\"apps is-price-tag buy-button-container is_not_aquired_or_preordered\" data-doc-fetch-skip-cache=\"0\" data-doc-fetch-vouchers=\"0\" data-docid=\"com.nbadigital.gametimelite\"> <div class=\"pon\" style=\"display:none\">1</div> <button class=\"price buy id-track-click id-track-impression\" data-server-cookie=\"CAIaPAojEiEKG2NvbS5uYmFkaWdpdGFsLmdhbWV0aW1lbGl0ZRABGAMyEwjquc3Z6drfAhXYnDYKHTZYC7BCAA==\" data-uitype=\"223\"> <span class=\"display-price\"></span> </button> </span> </span> </div>,\n",
       " <div class=\"subtitle-container\"> <a class=\"subtitle\" href=\"/store/apps/developer?id=The+Athletic+Media+Company\" title=\"The Athletic Media Company\">The Athletic Media Company</a> <span class=\"price-container\"> <span class=\"paragraph-end\"></span> <span class=\"apps is-price-tag buy-button-container is_not_aquired_or_preordered\" data-doc-fetch-skip-cache=\"0\" data-doc-fetch-vouchers=\"0\" data-docid=\"com.theathletic\"> <div class=\"pon\" style=\"display:none\">1</div> <button class=\"price buy id-track-click id-track-impression\" data-server-cookie=\"CAIaMAoXEhUKD2NvbS50aGVhdGhsZXRpYxABGAMyEwjquc3Z6drfAhXYnDYKHTZYC7BCAA==\" data-uitype=\"223\"> <span class=\"display-price\"></span> </button> </span> </span> </div>,\n",
       " <div class=\"subtitle-container\"> <a class=\"subtitle\" href=\"/store/apps/developer?id=Bleacher+Report+Inc.\" title=\"Bleacher Report Inc.\">Bleacher Report Inc.</a> <span class=\"price-container\"> <span class=\"paragraph-end\"></span> <span class=\"apps is-price-tag buy-button-container is_not_aquired_or_preordered\" data-doc-fetch-skip-cache=\"0\" data-doc-fetch-vouchers=\"0\" data-docid=\"com.bleacherreport.android.teamstream\"> <div class=\"pon\" style=\"display:none\">1</div> <button class=\"price buy id-track-click id-track-impression\" data-server-cookie=\"CAIaRgotEisKJWNvbS5ibGVhY2hlcnJlcG9ydC5hbmRyb2lkLnRlYW1zdHJlYW0QARgDMhMI6rnN2ena3wIV2Jw2Ch02WAuwQgA=\" data-uitype=\"223\"> <span class=\"display-price\"></span> </button> </span> </span> </div>,\n",
       " <div class=\"subtitle-container\"> <a class=\"subtitle\" href=\"/store/apps/developer?id=onXmaps\" title=\"onXmaps\">onXmaps</a> <span class=\"price-container\"> <span class=\"paragraph-end\"></span> <span class=\"apps is-price-tag buy-button-container is_not_aquired_or_preordered\" data-doc-fetch-skip-cache=\"0\" data-doc-fetch-vouchers=\"0\" data-docid=\"onxmaps.hunt\"> <div class=\"pon\" style=\"display:none\">1</div> <button class=\"price buy id-track-click id-track-impression\" data-server-cookie=\"CAIaLQoUEhIKDG9ueG1hcHMuaHVudBABGAMyEwjquc3Z6drfAhXYnDYKHTZYC7BCAA==\" data-uitype=\"223\"> <span class=\"display-price\"></span> </button> </span> </span> </div>,\n",
       " <div class=\"subtitle-container\"> <a class=\"subtitle\" href=\"/store/apps/developer?id=BalanceGrec\" title=\"BalanceGrec\">BalanceGrec</a> <span class=\"price-container\"> <span class=\"paragraph-end\"></span> <span class=\"apps is-price-tag buy-button-container is_not_aquired_or_preordered\" data-doc-fetch-skip-cache=\"0\" data-doc-fetch-vouchers=\"0\" data-docid=\"com.speedboat.jetski.racing.simulator\"> <div class=\"pon\" style=\"display:none\">1</div> <button class=\"price buy id-track-click id-track-impression\" data-server-cookie=\"CAIaRgotEisKJWNvbS5zcGVlZGJvYXQuamV0c2tpLnJhY2luZy5zaW11bGF0b3IQARgDMhMI6rnN2ena3wIV2Jw2Ch02WAuwQgA=\" data-uitype=\"223\"> <span class=\"display-price\"></span> </button> </span> </span> </div>,\n",
       " <div class=\"subtitle-container\"> <a class=\"subtitle\" href=\"/store/apps/dev?id=8331818305029646302\" title=\"theScore, Inc.\">theScore, Inc.</a> <span class=\"price-container\"> <span class=\"paragraph-end\"></span> <span class=\"apps is-price-tag buy-button-container is_not_aquired_or_preordered\" data-doc-fetch-skip-cache=\"0\" data-doc-fetch-vouchers=\"0\" data-docid=\"com.fivemobile.thescore\"> <div class=\"pon\" style=\"display:none\">1</div> <button class=\"price buy id-track-click id-track-impression\" data-server-cookie=\"CAIaOAofEh0KF2NvbS5maXZlbW9iaWxlLnRoZXNjb3JlEAEYAzITCOq5zdnp2t8CFdicNgodNlgLsEIA\" data-uitype=\"223\"> <span class=\"display-price\"></span> </button> </span> </span> </div>,\n",
       " <div class=\"subtitle-container\"> <a class=\"subtitle\" href=\"/store/apps/developer?id=Haas+Outdoors,+Inc.\" title=\"Haas Outdoors, Inc.\">Haas Outdoors, Inc.</a> <span class=\"price-container\"> <span class=\"paragraph-end\"></span> <span class=\"apps is-price-tag buy-button-container is_not_aquired_or_preordered\" data-doc-fetch-skip-cache=\"0\" data-doc-fetch-vouchers=\"0\" data-docid=\"com.mossyoakgo\"> <div class=\"pon\" style=\"display:none\">1</div> <button class=\"price buy id-track-click id-track-impression\" data-server-cookie=\"CAIaLwoWEhQKDmNvbS5tb3NzeW9ha2dvEAEYAzITCOq5zdnp2t8CFdicNgodNlgLsEIA\" data-uitype=\"223\"> <span class=\"display-price\"></span> </button> </span> </span> </div>,\n",
       " <div class=\"subtitle-container\"> <a class=\"subtitle\" href=\"/store/apps/developer?id=NBCUniversal+Media,+LLC\" title=\"NBCUniversal Media, LLC\">NBCUniversal Media, LLC</a> <span class=\"price-container\"> <span class=\"paragraph-end\"></span> <span class=\"apps is-price-tag buy-button-container is_not_aquired_or_preordered\" data-doc-fetch-skip-cache=\"0\" data-doc-fetch-vouchers=\"0\" data-docid=\"com.nbcuni.nbcsports.gold\"> <div class=\"pon\" style=\"display:none\">1</div> <button class=\"price buy id-track-click id-track-impression\" data-server-cookie=\"CAIaOgohEh8KGWNvbS5uYmN1bmkubmJjc3BvcnRzLmdvbGQQARgDMhMI6rnN2ena3wIV2Jw2Ch02WAuwQgA=\" data-uitype=\"223\"> <span class=\"display-price\"></span> </button> </span> </span> </div>,\n",
       " <div class=\"subtitle-container\"> <a class=\"subtitle\" href=\"/store/apps/developer?id=DAZN\" title=\"DAZN\">DAZN</a> <span class=\"price-container\"> <span class=\"paragraph-end\"></span> <span class=\"apps is-price-tag buy-button-container is_not_aquired_or_preordered\" data-doc-fetch-skip-cache=\"0\" data-doc-fetch-vouchers=\"0\" data-docid=\"com.dazn\"> <div class=\"pon\" style=\"display:none\">1</div> <button class=\"price buy id-track-click id-track-impression\" data-server-cookie=\"CAIaKQoQEg4KCGNvbS5kYXpuEAEYAzITCOq5zdnp2t8CFdicNgodNlgLsEIA\" data-uitype=\"223\"> <span class=\"display-price\"></span> </button> </span> </span> </div>,\n",
       " <div class=\"subtitle-container\"> <a class=\"subtitle\" href=\"/store/apps/developer?id=DraftKings,+Inc.\" title=\"DraftKings, Inc.\">DraftKings, Inc.</a> <span class=\"price-container\"> <span class=\"paragraph-end\"></span> <span class=\"apps is-price-tag buy-button-container is_not_aquired_or_preordered\" data-doc-fetch-skip-cache=\"0\" data-doc-fetch-vouchers=\"0\" data-docid=\"com.draftkings.dknativermgGP\"> <div class=\"pon\" style=\"display:none\">1</div> <button class=\"price buy id-track-click id-track-impression\" data-server-cookie=\"CAIaPQokEiIKHGNvbS5kcmFmdGtpbmdzLmRrbmF0aXZlcm1nR1AQARgDMhMI6rnN2ena3wIV2Jw2Ch02WAuwQgA=\" data-uitype=\"223\"> <span class=\"display-price\"></span> </button> </span> </span> </div>,\n",
       " <div class=\"subtitle-container\"> <a class=\"subtitle\" href=\"/store/apps/developer?id=FanDuel\" title=\"FanDuel\">FanDuel</a> <span class=\"price-container\"> <span class=\"paragraph-end\"></span> <span class=\"apps is-price-tag buy-button-container is_not_aquired_or_preordered\" data-doc-fetch-skip-cache=\"0\" data-doc-fetch-vouchers=\"0\" data-docid=\"com.fanduel.android.self\"> <div class=\"pon\" style=\"display:none\">1</div> <button class=\"price buy id-track-click id-track-impression\" data-server-cookie=\"CAIaOQogEh4KGGNvbS5mYW5kdWVsLmFuZHJvaWQuc2VsZhABGAMyEwjquc3Z6drfAhXYnDYKHTZYC7BCAA==\" data-uitype=\"223\"> <span class=\"display-price\"></span> </button> </span> </span> </div>,\n",
       " <div class=\"subtitle-container\"> <a class=\"subtitle\" href=\"/store/apps/dev?id=7468190409947973272\" title=\"NFL Enterprises LLC\">NFL Enterprises LLC</a> <span class=\"price-container\"> <span class=\"paragraph-end\"></span> <span class=\"apps is-price-tag buy-button-container is_not_aquired_or_preordered\" data-doc-fetch-skip-cache=\"0\" data-doc-fetch-vouchers=\"0\" data-docid=\"com.nfl.fantasy.core.android\"> <div class=\"pon\" style=\"display:none\">1</div> <button class=\"price buy id-track-click id-track-impression\" data-server-cookie=\"CAIaPQokEiIKHGNvbS5uZmwuZmFudGFzeS5jb3JlLmFuZHJvaWQQARgDMhMI6rnN2ena3wIV2Jw2Ch02WAuwQgA=\" data-uitype=\"223\"> <span class=\"display-price\"></span> </button> </span> </span> </div>,\n",
       " <div class=\"subtitle-container\"> <a class=\"subtitle\" href=\"/store/apps/developer?id=Mini+Sports\" title=\"Mini Sports\">Mini Sports</a> <span class=\"price-container\"> <span class=\"paragraph-end\"></span> <span class=\"apps is-price-tag buy-button-container is_not_aquired_or_preordered\" data-doc-fetch-skip-cache=\"0\" data-doc-fetch-vouchers=\"0\" data-docid=\"games.mini.sports.play.world.soccer\"> <div class=\"pon\" style=\"display:none\">1</div> <button class=\"price buy id-track-click id-track-impression\" data-server-cookie=\"CAIaRAorEikKI2dhbWVzLm1pbmkuc3BvcnRzLnBsYXkud29ybGQuc29jY2VyEAEYAzITCOq5zdnp2t8CFdicNgodNlgLsEIA\" data-uitype=\"223\"> <span class=\"display-price\"></span> </button> </span> </span> </div>,\n",
       " <div class=\"subtitle-container\"> <a class=\"subtitle\" href=\"/store/apps/developer?id=BAMTECH+LLC\" title=\"BAMTECH LLC\">BAMTECH LLC</a> <span class=\"price-container\"> <span class=\"paragraph-end\"></span> <span class=\"apps is-price-tag buy-button-container is_not_aquired_or_preordered\" data-doc-fetch-skip-cache=\"0\" data-doc-fetch-vouchers=\"0\" data-docid=\"com.nhl.gc1112.free\"> <div class=\"pon\" style=\"display:none\">1</div> <button class=\"price buy id-track-click id-track-impression\" data-server-cookie=\"CAIaNAobEhkKE2NvbS5uaGwuZ2MxMTEyLmZyZWUQARgDMhMI6rnN2ena3wIV2Jw2Ch02WAuwQgA=\" data-uitype=\"223\"> <span class=\"display-price\"></span> </button> </span> </span> </div>,\n",
       " <div class=\"subtitle-container\"> <a class=\"subtitle\" href=\"/store/apps/developer?id=Dallas+Cowboys\" title=\"Dallas Cowboys\">Dallas Cowboys</a> <span class=\"price-container\"> <span class=\"paragraph-end\"></span> <span class=\"apps is-price-tag buy-button-container is_not_aquired_or_preordered\" data-doc-fetch-skip-cache=\"0\" data-doc-fetch-vouchers=\"0\" data-docid=\"com.yinzcam.nfl.cowboys\"> <div class=\"pon\" style=\"display:none\">1</div> <button class=\"price buy id-track-click id-track-impression\" data-server-cookie=\"CAIaOAofEh0KF2NvbS55aW56Y2FtLm5mbC5jb3dib3lzEAEYAzITCOq5zdnp2t8CFdicNgodNlgLsEIA\" data-uitype=\"223\"> <span class=\"display-price\"></span> </button> </span> </span> </div>,\n",
       " <div class=\"subtitle-container\"> <a class=\"subtitle\" href=\"/store/apps/developer?id=Constr\" title=\"Constr\">Constr</a> <span class=\"price-container\"> <span class=\"paragraph-end\"></span> <span class=\"apps is-price-tag buy-button-container is_not_aquired_or_preordered\" data-doc-fetch-skip-cache=\"0\" data-doc-fetch-vouchers=\"0\" data-docid=\"com.bottle.shoot.archery.game\"> <div class=\"pon\" style=\"display:none\">1</div> <button class=\"price buy id-track-click id-track-impression\" data-server-cookie=\"CAIaPgolEiMKHWNvbS5ib3R0bGUuc2hvb3QuYXJjaGVyeS5nYW1lEAEYAzITCOq5zdnp2t8CFdicNgodNlgLsEIA\" data-uitype=\"223\"> <span class=\"display-price\"></span> </button> </span> </span> </div>,\n",
       " <div class=\"subtitle-container\"> <a class=\"subtitle\" href=\"/store/apps/developer?id=TeamSnap,+Inc.\" title=\"TeamSnap, Inc.\">TeamSnap, Inc.</a> <span class=\"price-container\"> <span class=\"paragraph-end\"></span> <span class=\"apps is-price-tag buy-button-container is_not_aquired_or_preordered\" data-doc-fetch-skip-cache=\"0\" data-doc-fetch-vouchers=\"0\" data-docid=\"com.teamsnap.teamsnap\"> <div class=\"pon\" style=\"display:none\">1</div> <button class=\"price buy id-track-click id-track-impression\" data-server-cookie=\"CAIaNgodEhsKFWNvbS50ZWFtc25hcC50ZWFtc25hcBABGAMyEwjquc3Z6drfAhXYnDYKHTZYC7BCAA==\" data-uitype=\"223\"> <span class=\"display-price\"></span> </button> </span> </span> </div>,\n",
       " <div class=\"subtitle-container\"> <a class=\"subtitle\" href=\"/store/apps/developer?id=Univision+Communications+Inc.\" title=\"Univision Communications Inc.\">Univision Communications Inc.</a> <span class=\"price-container\"> <span class=\"paragraph-end\"></span> <span class=\"apps is-price-tag buy-button-container is_not_aquired_or_preordered\" data-doc-fetch-skip-cache=\"0\" data-doc-fetch-vouchers=\"0\" data-docid=\"com.july.univision\"> <div class=\"pon\" style=\"display:none\">1</div> <button class=\"price buy id-track-click id-track-impression\" data-server-cookie=\"CAIaMwoaEhgKEmNvbS5qdWx5LnVuaXZpc2lvbhABGAMyEwjquc3Z6drfAhXYnDYKHTZYC7BCAA==\" data-uitype=\"223\"> <span class=\"display-price\"></span> </button> </span> </span> </div>,\n",
       " <div class=\"subtitle-container\"> <a class=\"subtitle\" href=\"/store/apps/developer?id=Warrior+Eagle\" title=\"Warrior Eagle\">Warrior Eagle</a> <span class=\"price-container\"> <span class=\"paragraph-end\"></span> <span class=\"apps is-price-tag buy-button-container is_not_aquired_or_preordered\" data-doc-fetch-skip-cache=\"0\" data-doc-fetch-vouchers=\"0\" data-docid=\"com.ew.highway.skateboard\"> <div class=\"pon\" style=\"display:none\">1</div> <button class=\"price buy id-track-click id-track-impression\" data-server-cookie=\"CAIaOgohEh8KGWNvbS5ldy5oaWdod2F5LnNrYXRlYm9hcmQQARgDMhMI6rnN2ena3wIV2Jw2Ch02WAuwQgA=\" data-uitype=\"223\"> <span class=\"display-price\"></span> </button> </span> </span> </div>,\n",
       " <div class=\"subtitle-container\"> <a class=\"subtitle\" href=\"/store/apps/dev?id=8387658909865206470\" title=\"Bambo Studio\">Bambo Studio</a> <span class=\"price-container\"> <span class=\"paragraph-end\"></span> <span class=\"apps is-price-tag buy-button-container is_not_aquired_or_preordered\" data-doc-fetch-skip-cache=\"0\" data-doc-fetch-vouchers=\"0\" data-docid=\"com.bambo.save.goal.score.goalkeeper\"> <div class=\"pon\" style=\"display:none\">1</div> <button class=\"price buy id-track-click id-track-impression\" data-server-cookie=\"CAIaRQosEioKJGNvbS5iYW1iby5zYXZlLmdvYWwuc2NvcmUuZ29hbGtlZXBlchABGAMyEwjquc3Z6drfAhXYnDYKHTZYC7BCAA==\" data-uitype=\"223\"> <span class=\"display-price\"></span> </button> </span> </span> </div>,\n",
       " <div class=\"subtitle-container\"> <a class=\"subtitle\" href=\"/store/apps/developer?id=TerraStride+Inc.\" title=\"TerraStride Inc.\">TerraStride Inc.</a> <span class=\"price-container\"> <span class=\"paragraph-end\"></span> <span class=\"apps is-price-tag buy-button-container is_not_aquired_or_preordered\" data-doc-fetch-skip-cache=\"0\" data-doc-fetch-vouchers=\"0\" data-docid=\"com.huntstand.core\"> <div class=\"pon\" style=\"display:none\">1</div> <button class=\"price buy id-track-click id-track-impression\" data-server-cookie=\"CAIaMwoaEhgKEmNvbS5odW50c3RhbmQuY29yZRABGAMyEwjquc3Z6drfAhXYnDYKHTZYC7BCAA==\" data-uitype=\"223\"> <span class=\"display-price\"></span> </button> </span> </span> </div>,\n",
       " <div class=\"subtitle-container\"> <a class=\"subtitle\" href=\"/store/apps/developer?id=beIN+MEDIA+GROUP\" title=\"beIN MEDIA GROUP\">beIN MEDIA GROUP</a> <span class=\"price-container\"> <span class=\"paragraph-end\"></span> <span class=\"apps is-price-tag buy-button-container is_not_aquired_or_preordered\" data-doc-fetch-skip-cache=\"0\" data-doc-fetch-vouchers=\"0\" data-docid=\"ptv.bein.ui\"> <div class=\"pon\" style=\"display:none\">1</div> <button class=\"price buy id-track-click id-track-impression\" data-server-cookie=\"CAIaLAoTEhEKC3B0di5iZWluLnVpEAEYAzITCOq5zdnp2t8CFdicNgodNlgLsEIA\" data-uitype=\"223\"> <span class=\"display-price\"></span> </button> </span> </span> </div>,\n",
       " <div class=\"subtitle-container\"> <a class=\"subtitle\" href=\"/store/apps/developer?id=Ohome+Fancy\" title=\"Ohome Fancy\">Ohome Fancy</a> <span class=\"price-container\"> <span class=\"paragraph-end\"></span> <span class=\"apps is-price-tag buy-button-container is_not_aquired_or_preordered\" data-doc-fetch-skip-cache=\"0\" data-doc-fetch-vouchers=\"0\" data-docid=\"arm.chest.fit.fitness.men\"> <div class=\"pon\" style=\"display:none\">1</div> <button class=\"price buy id-track-click id-track-impression\" data-server-cookie=\"CAIaOgohEh8KGWFybS5jaGVzdC5maXQuZml0bmVzcy5tZW4QARgDMhMI6rnN2ena3wIV2Jw2Ch02WAuwQgA=\" data-uitype=\"223\"> <span class=\"display-price\"></span> </button> </span> </span> </div>,\n",
       " <div class=\"subtitle-container\"> <a class=\"subtitle\" href=\"/store/apps/developer?id=live+sports+mobile\" title=\"live sports mobile\">live sports mobile</a> <span class=\"price-container\"> <span class=\"paragraph-end\"></span> <span class=\"apps is-price-tag buy-button-container is_not_aquired_or_preordered\" data-doc-fetch-skip-cache=\"0\" data-doc-fetch-vouchers=\"0\" data-docid=\"com.livesports.mobile.footballivetv\"> <div class=\"pon\" style=\"display:none\">1</div> <button class=\"price buy id-track-click id-track-impression\" data-server-cookie=\"CAIaRAorEikKI2NvbS5saXZlc3BvcnRzLm1vYmlsZS5mb290YmFsbGl2ZXR2EAEYAzITCOq5zdnp2t8CFdicNgodNlgLsEIA\" data-uitype=\"223\"> <span class=\"display-price\"></span> </button> </span> </span> </div>,\n",
       " <div class=\"subtitle-container\"> <a class=\"subtitle\" href=\"/store/apps/developer?id=beIN+MEDIA+GROUP\" title=\"beIN MEDIA GROUP\">beIN MEDIA GROUP</a> <span class=\"price-container\"> <span class=\"paragraph-end\"></span> <span class=\"apps is-price-tag buy-button-container is_not_aquired_or_preordered\" data-doc-fetch-skip-cache=\"0\" data-doc-fetch-vouchers=\"0\" data-docid=\"com.beinsports.andcontent\"> <div class=\"pon\" style=\"display:none\">1</div> <button class=\"price buy id-track-click id-track-impression\" data-server-cookie=\"CAIaOgohEh8KGWNvbS5iZWluc3BvcnRzLmFuZGNvbnRlbnQQARgDMhMI6rnN2ena3wIV2Jw2Ch02WAuwQgA=\" data-uitype=\"223\"> <span class=\"display-price\"></span> </button> </span> </span> </div>,\n",
       " <div class=\"subtitle-container\"> <a class=\"subtitle\" href=\"/store/apps/developer?id=SportsEngine\" title=\"SportsEngine\">SportsEngine</a> <span class=\"price-container\"> <span class=\"paragraph-end\"></span> <span class=\"apps is-price-tag buy-button-container is_not_aquired_or_preordered\" data-doc-fetch-skip-cache=\"0\" data-doc-fetch-vouchers=\"0\" data-docid=\"com.sportngin.android\"> <div class=\"pon\" style=\"display:none\">1</div> <button class=\"price buy id-track-click id-track-impression\" data-server-cookie=\"CAIaNgodEhsKFWNvbS5zcG9ydG5naW4uYW5kcm9pZBABGAMyEwjquc3Z6drfAhXYnDYKHTZYC7BCAA==\" data-uitype=\"223\"> <span class=\"display-price\"></span> </button> </span> </span> </div>,\n",
       " <div class=\"subtitle-container\"> <a class=\"subtitle\" href=\"/store/apps/developer?id=NBCUniversal+Media,+LLC\" title=\"NBCUniversal Media, LLC\">NBCUniversal Media, LLC</a> <span class=\"price-container\"> <span class=\"paragraph-end\"></span> <span class=\"apps is-price-tag buy-button-container is_not_aquired_or_preordered\" data-doc-fetch-skip-cache=\"0\" data-doc-fetch-vouchers=\"0\" data-docid=\"com.nbcsports.mobile.rsnlocalsports\"> <div class=\"pon\" style=\"display:none\">1</div> <button class=\"price buy id-track-click id-track-impression\" data-server-cookie=\"CAIaRAorEikKI2NvbS5uYmNzcG9ydHMubW9iaWxlLnJzbmxvY2Fsc3BvcnRzEAEYAzITCOq5zdnp2t8CFdicNgodNlgLsEIA\" data-uitype=\"223\"> <span class=\"display-price\"></span> </button> </span> </span> </div>,\n",
       " <div class=\"subtitle-container\"> <a class=\"subtitle\" href=\"/store/apps/developer?id=SportsAction,+Inc\" title=\"SportsAction, Inc\">SportsAction, Inc</a> <span class=\"price-container\"> <span class=\"paragraph-end\"></span> <span class=\"apps is-price-tag buy-button-container is_not_aquired_or_preordered\" data-doc-fetch-skip-cache=\"0\" data-doc-fetch-vouchers=\"0\" data-docid=\"com.sportsaction.action\"> <div class=\"pon\" style=\"display:none\">1</div> <button class=\"price buy id-track-click id-track-impression\" data-server-cookie=\"CAIaOAofEh0KF2NvbS5zcG9ydHNhY3Rpb24uYWN0aW9uEAEYAzITCOq5zdnp2t8CFdicNgodNlgLsEIA\" data-uitype=\"223\"> <span class=\"display-price\"></span> </button> </span> </span> </div>,\n",
       " <div class=\"subtitle-container\"> <a class=\"subtitle\" href=\"/store/apps/developer?id=APPCENTRAL\" title=\"APPCENTRAL\">APPCENTRAL</a> <span class=\"price-container\"> <span class=\"paragraph-end\"></span> <span class=\"apps is-price-tag buy-button-container is_not_aquired_or_preordered\" data-doc-fetch-skip-cache=\"0\" data-doc-fetch-vouchers=\"0\" data-docid=\"com.futbolx.ligamx\"> <div class=\"pon\" style=\"display:none\">1</div> <button class=\"price buy id-track-click id-track-impression\" data-server-cookie=\"CAIaMwoaEhgKEmNvbS5mdXRib2x4LmxpZ2FteBABGAMyEwjquc3Z6drfAhXYnDYKHTZYC7BCAA==\" data-uitype=\"223\"> <span class=\"display-price\"></span> </button> </span> </span> </div>,\n",
       " <div class=\"subtitle-container\"> <a class=\"subtitle\" href=\"/store/apps/developer?id=KicksOnFire.com+LLC\" title=\"KicksOnFire.com LLC\">KicksOnFire.com LLC</a> <span class=\"price-container\"> <span class=\"paragraph-end\"></span> <span class=\"apps is-price-tag buy-button-container is_not_aquired_or_preordered\" data-doc-fetch-skip-cache=\"0\" data-doc-fetch-vouchers=\"0\" data-docid=\"com.kicksonfire.android\"> <div class=\"pon\" style=\"display:none\">1</div> <button class=\"price buy id-track-click id-track-impression\" data-server-cookie=\"CAIaOAofEh0KF2NvbS5raWNrc29uZmlyZS5hbmRyb2lkEAEYAzITCOq5zdnp2t8CFdicNgodNlgLsEIA\" data-uitype=\"223\"> <span class=\"display-price\"></span> </button> </span> </span> </div>,\n",
       " <div class=\"subtitle-container\"> <a class=\"subtitle\" href=\"/store/apps/developer?id=The+New+Leaf\" title=\"The New Leaf\">The New Leaf</a> <span class=\"price-container\"> <span class=\"paragraph-end\"></span> <span class=\"apps is-price-tag buy-button-container is_not_aquired_or_preordered\" data-doc-fetch-skip-cache=\"0\" data-doc-fetch-vouchers=\"0\" data-docid=\"sneakercrush.mobile.sc\"> <div class=\"pon\" style=\"display:none\">1</div> <button class=\"price buy id-track-click id-track-impression\" data-server-cookie=\"CAIaNwoeEhwKFnNuZWFrZXJjcnVzaC5tb2JpbGUuc2MQARgDMhMI6rnN2ena3wIV2Jw2Ch02WAuwQgA=\" data-uitype=\"223\"> <span class=\"display-price\"></span> </button> </span> </span> </div>,\n",
       " <div class=\"subtitle-container\"> <a class=\"subtitle\" href=\"/store/apps/developer?id=PGA+TOUR\" title=\"PGA TOUR\">PGA TOUR</a> <span class=\"price-container\"> <span class=\"paragraph-end\"></span> <span class=\"apps is-price-tag buy-button-container is_not_aquired_or_preordered\" data-doc-fetch-skip-cache=\"0\" data-doc-fetch-vouchers=\"0\" data-docid=\"com.tour.pgatour\"> <div class=\"pon\" style=\"display:none\">1</div> <button class=\"price buy id-track-click id-track-impression\" data-server-cookie=\"CAIaMQoYEhYKEGNvbS50b3VyLnBnYXRvdXIQARgDMhMI6rnN2ena3wIV2Jw2Ch02WAuwQgA=\" data-uitype=\"223\"> <span class=\"display-price\"></span> </button> </span> </span> </div>,\n",
       " <div class=\"subtitle-container\"> <a class=\"subtitle\" href=\"/store/apps/developer?id=Onefootball+GmbH\" title=\"Onefootball GmbH\">Onefootball GmbH</a> <span class=\"price-container\"> <span class=\"paragraph-end\"></span> <span class=\"apps is-price-tag buy-button-container is_not_aquired_or_preordered\" data-doc-fetch-skip-cache=\"0\" data-doc-fetch-vouchers=\"0\" data-docid=\"de.motain.iliga\"> <div class=\"pon\" style=\"display:none\">1</div> <button class=\"price buy id-track-click id-track-impression\" data-server-cookie=\"CAIaMAoXEhUKD2RlLm1vdGFpbi5pbGlnYRABGAMyEwjquc3Z6drfAhXYnDYKHTZYC7BCAA==\" data-uitype=\"223\"> <span class=\"display-price\"></span> </button> </span> </span> </div>,\n",
       " <div class=\"subtitle-container\"> <a class=\"subtitle\" href=\"/store/apps/developer?id=Agile+Sports\" title=\"Agile Sports\">Agile Sports</a> <span class=\"price-container\"> <span class=\"paragraph-end\"></span> <span class=\"apps is-price-tag buy-button-container is_not_aquired_or_preordered\" data-doc-fetch-skip-cache=\"0\" data-doc-fetch-vouchers=\"0\" data-docid=\"com.hudl.hudroid\"> <div class=\"pon\" style=\"display:none\">1</div> <button class=\"price buy id-track-click id-track-impression\" data-server-cookie=\"CAIaMQoYEhYKEGNvbS5odWRsLmh1ZHJvaWQQARgDMhMI6rnN2ena3wIV2Jw2Ch02WAuwQgA=\" data-uitype=\"223\"> <span class=\"display-price\"></span> </button> </span> </span> </div>,\n",
       " <div class=\"subtitle-container\"> <a class=\"subtitle\" href=\"/store/apps/dev?id=8387658909865206470\" title=\"Bambo Studio\">Bambo Studio</a> <span class=\"price-container\"> <span class=\"paragraph-end\"></span> <span class=\"apps is-price-tag buy-button-container is_not_aquired_or_preordered\" data-doc-fetch-skip-cache=\"0\" data-doc-fetch-vouchers=\"0\" data-docid=\"com.bambo.soccer.world.league.cup.score.goal\"> <div class=\"pon\" style=\"display:none\">1</div> <button class=\"price buy id-track-click id-track-impression\" data-server-cookie=\"CAIaTQo0EjIKLGNvbS5iYW1iby5zb2NjZXIud29ybGQubGVhZ3VlLmN1cC5zY29yZS5nb2FsEAEYAzITCOq5zdnp2t8CFdicNgodNlgLsEIA\" data-uitype=\"223\"> <span class=\"display-price\"></span> </button> </span> </span> </div>,\n",
       " <div class=\"subtitle-container\"> <a class=\"subtitle\" href=\"/store/apps/developer?id=GolfLogix+Golf+GPS\" title=\"GolfLogix Golf GPS\">GolfLogix Golf GPS</a> <span class=\"price-container\"> <span class=\"paragraph-end\"></span> <span class=\"apps is-price-tag buy-button-container is_not_aquired_or_preordered\" data-doc-fetch-skip-cache=\"0\" data-doc-fetch-vouchers=\"0\" data-docid=\"com.golflogix.ui\"> <div class=\"pon\" style=\"display:none\">1</div> <button class=\"price buy id-track-click id-track-impression\" data-server-cookie=\"CAIaMQoYEhYKEGNvbS5nb2xmbG9naXgudWkQARgDMhMI6rnN2ena3wIV2Jw2Ch02WAuwQgA=\" data-uitype=\"223\"> <span class=\"display-price\"></span> </button> </span> </span> </div>,\n",
       " <div class=\"subtitle-container\"> <a class=\"subtitle\" href=\"/store/apps/developer?id=ESPN+Inc\" title=\"ESPN Inc\">ESPN Inc</a> <span class=\"price-container\"> <span class=\"paragraph-end\"></span> <span class=\"apps is-price-tag buy-button-container is_not_aquired_or_preordered\" data-doc-fetch-skip-cache=\"0\" data-doc-fetch-vouchers=\"0\" data-docid=\"com.espn.fantasy.lm.football\"> <div class=\"pon\" style=\"display:none\">1</div> <button class=\"price buy id-track-click id-track-impression\" data-server-cookie=\"CAIaPQokEiIKHGNvbS5lc3BuLmZhbnRhc3kubG0uZm9vdGJhbGwQARgDMhMI6rnN2ena3wIV2Jw2Ch02WAuwQgA=\" data-uitype=\"223\"> <span class=\"display-price\"></span> </button> </span> </span> </div>,\n",
       " <div class=\"subtitle-container\"> <a class=\"subtitle\" href=\"/store/apps/developer?id=GolfNow+-+Mobile+Development+Team\" title=\"GolfNow - Mobile Development Team\">GolfNow - Mobile Development Team</a> <span class=\"price-container\"> <span class=\"paragraph-end\"></span> <span class=\"apps is-price-tag buy-button-container is_not_aquired_or_preordered\" data-doc-fetch-skip-cache=\"0\" data-doc-fetch-vouchers=\"0\" data-docid=\"com.golfnow.android.teetimes\"> <div class=\"pon\" style=\"display:none\">1</div> <button class=\"price buy id-track-click id-track-impression\" data-server-cookie=\"CAIaPQokEiIKHGNvbS5nb2xmbm93LmFuZHJvaWQudGVldGltZXMQARgDMhMI6rnN2ena3wIV2Jw2Ch02WAuwQgA=\" data-uitype=\"223\"> <span class=\"display-price\"></span> </button> </span> </span> </div>,\n",
       " <div class=\"subtitle-container\"> <a class=\"subtitle\" href=\"/store/apps/developer?id=Influence+Mobile,+Inc.\" title=\"Influence Mobile, Inc.\">Influence Mobile, Inc.</a> <span class=\"price-container\"> <span class=\"paragraph-end\"></span> <span class=\"apps is-price-tag buy-button-container is_not_aquired_or_preordered\" data-doc-fetch-skip-cache=\"0\" data-doc-fetch-vouchers=\"0\" data-docid=\"com.affinity.dallas_football\"> <div class=\"pon\" style=\"display:none\">1</div> <button class=\"price buy id-track-click id-track-impression\" data-server-cookie=\"CAIaPQokEiIKHGNvbS5hZmZpbml0eS5kYWxsYXNfZm9vdGJhbGwQARgDMhMI6rnN2ena3wIV2Jw2Ch02WAuwQgA=\" data-uitype=\"223\"> <span class=\"display-price\"></span> </button> </span> </span> </div>,\n",
       " <div class=\"subtitle-container\"> <a class=\"subtitle\" href=\"/store/apps/developer?id=Madison+Square+Garden\" title=\"Madison Square Garden\">Madison Square Garden</a> <span class=\"price-container\"> <span class=\"paragraph-end\"></span> <span class=\"apps is-price-tag buy-button-container is_not_aquired_or_preordered\" data-doc-fetch-skip-cache=\"0\" data-doc-fetch-vouchers=\"0\" data-docid=\"com.msgi.msggo\"> <div class=\"pon\" style=\"display:none\">1</div> <button class=\"price buy id-track-click id-track-impression\" data-server-cookie=\"CAIaLwoWEhQKDmNvbS5tc2dpLm1zZ2dvEAEYAzITCOq5zdnp2t8CFdicNgodNlgLsEIA\" data-uitype=\"223\"> <span class=\"display-price\"></span> </button> </span> </span> </div>,\n",
       " <div class=\"subtitle-container\"> <a class=\"subtitle\" href=\"/store/apps/dev?id=5536369398281991413\" title=\"Yahoo\">Yahoo</a> <span class=\"price-container\"> <span class=\"paragraph-end\"></span> <span class=\"apps is-price-tag buy-button-container is_not_aquired_or_preordered\" data-doc-fetch-skip-cache=\"0\" data-doc-fetch-vouchers=\"0\" data-docid=\"com.yahoo.mobile.client.android.fantasyfootball\"> <div class=\"pon\" style=\"display:none\">1</div> <button class=\"price buy id-track-click id-track-impression\" data-server-cookie=\"CAIaUAo3EjUKL2NvbS55YWhvby5tb2JpbGUuY2xpZW50LmFuZHJvaWQuZmFudGFzeWZvb3RiYWxsEAEYAzITCOq5zdnp2t8CFdicNgodNlgLsEIA\" data-uitype=\"223\"> <span class=\"display-price\"></span> </button> </span> </span> </div>,\n",
       " <div class=\"subtitle-container\"> <a class=\"subtitle\" href=\"/store/apps/developer?id=Topgolf\" title=\"Topgolf\">Topgolf</a> <span class=\"price-container\"> <span class=\"paragraph-end\"></span> <span class=\"apps is-price-tag buy-button-container is_not_aquired_or_preordered\" data-doc-fetch-skip-cache=\"0\" data-doc-fetch-vouchers=\"0\" data-docid=\"com.topgolf.mobile\"> <div class=\"pon\" style=\"display:none\">1</div> <button class=\"price buy id-track-click id-track-impression\" data-server-cookie=\"CAIaMwoaEhgKEmNvbS50b3Bnb2xmLm1vYmlsZRABGAMyEwjquc3Z6drfAhXYnDYKHTZYC7BCAA==\" data-uitype=\"223\"> <span class=\"display-price\"></span> </button> </span> </span> </div>,\n",
       " <div class=\"subtitle-container\"> <a class=\"subtitle\" href=\"/store/apps/developer?id=TV+AZTECA\" title=\"TV AZTECA\">TV AZTECA</a> <span class=\"price-container\"> <span class=\"paragraph-end\"></span> <span class=\"apps is-price-tag buy-button-container is_not_aquired_or_preordered\" data-doc-fetch-skip-cache=\"0\" data-doc-fetch-vouchers=\"0\" data-docid=\"com.tvazteca.deportes\"> <div class=\"pon\" style=\"display:none\">1</div> <button class=\"price buy id-track-click id-track-impression\" data-server-cookie=\"CAIaNgodEhsKFWNvbS50dmF6dGVjYS5kZXBvcnRlcxABGAMyEwjquc3Z6drfAhXYnDYKHTZYC7BCAA==\" data-uitype=\"223\"> <span class=\"display-price\"></span> </button> </span> </span> </div>,\n",
       " <div class=\"subtitle-container\"> <a class=\"subtitle\" href=\"/store/apps/developer?id=Team+Mates+Pty.+Ltd.\" title=\"Team Mates Pty. Ltd.\">Team Mates Pty. Ltd.</a> <span class=\"price-container\"> <span class=\"paragraph-end\"></span> <span class=\"apps is-price-tag buy-button-container is_not_aquired_or_preordered\" data-doc-fetch-skip-cache=\"0\" data-doc-fetch-vouchers=\"0\" data-docid=\"com.teamapp.teamapp\"> <div class=\"pon\" style=\"display:none\">1</div> <button class=\"price buy id-track-click id-track-impression\" data-server-cookie=\"CAIaNAobEhkKE2NvbS50ZWFtYXBwLnRlYW1hcHAQARgDMhMI6rnN2ena3wIV2Jw2Ch02WAuwQgA=\" data-uitype=\"223\"> <span class=\"display-price\"></span> </button> </span> </span> </div>]"
      ]
     },
     "execution_count": 87,
     "metadata": {},
     "output_type": "execute_result"
    }
   ],
   "source": [
    "listings =  sports_data.findAll('div', {'class':'subtitle-container'})\n",
    "listings"
   ]
  },
  {
   "cell_type": "code",
   "execution_count": null,
   "metadata": {},
   "outputs": [],
   "source": []
  },
  {
   "cell_type": "code",
   "execution_count": 13,
   "metadata": {},
   "outputs": [
    {
     "data": {
      "text/plain": [
       "['/store/apps/details?id=com.hudl.hudroid',\n",
       " '/store/apps/details?id=onxmaps.hunt',\n",
       " '/store/apps/developer?id=SportsAction,+Inc',\n",
       " '/store/apps/details?id=com.sportsaction.action',\n",
       " '/store/apps/developer?id=Bleacher+Report+Inc.',\n",
       " '/store/apps/details?id=com.fivemobile.thescore',\n",
       " '/store/apps/details?id=com.neulion.android.tablet.nfl.wnfln',\n",
       " '/store/apps/details?id=ptv.bein.ui',\n",
       " '/store/apps/details?id=com.fishbrain.app',\n",
       " '/store/apps/details?id=com.bambo.save.goal.score.goalkeeper',\n",
       " '/store/apps/details?id=com.nbadigital.gametimelite',\n",
       " '/store/apps/details?id=com.golfnow.android.teetimes',\n",
       " '/store/apps/details?id=com.yahoo.mobile.client.android.sportacular',\n",
       " '/store/apps/details?id=com.nbcsports.mobile.rsnlocalsports',\n",
       " '/store/apps/developer?id=The+New+Leaf',\n",
       " '/store/apps/developer?id=live+sports+mobile',\n",
       " '/store/apps/details?id=com.hoverboard.racing.speed.simulator',\n",
       " '/store/apps/details?id=com.nfl.fantasy.core.android',\n",
       " '/store/apps/details?id=com.yinzcam.nfl.cowboys',\n",
       " '/store/apps/developer?id=TerraStride+Inc.',\n",
       " '/store/apps/details?id=com.ew.highway.skateboard',\n",
       " '/store/apps/details?id=com.espn.fantasy.lm.football',\n",
       " '/store/apps/developer?id=KicksOnFire.com+LLC',\n",
       " '/store/apps/details?id=com.draftkings.dknativermgGP',\n",
       " '/store/apps/details?id=com.futbolx.ligamx',\n",
       " '/store/apps/details?id=com.tour.pgatour',\n",
       " '/store/apps/details?id=com.mossyoakgo',\n",
       " '/store/apps/details?id=com.topgolf.mobile',\n",
       " '/store/apps/developer?id=Team+Mates+Pty.+Ltd.',\n",
       " '/store/apps/details?id=com.kicksonfire.android',\n",
       " 'https://support.google.com/googleplay/?p=about_play',\n",
       " '/store/apps/developer?id=SportsEngine',\n",
       " '/store/apps/details?id=air.com.nbcuni.com.nbcsports.liveextra',\n",
       " '/store/apps/developer?id=Onefootball+GmbH',\n",
       " '/store/apps/developer?id=GolfLogix+Golf+GPS',\n",
       " '/store/apps/developer?id=BalanceGrec',\n",
       " '/store/apps/developer?id=Haas+Outdoors,+Inc.',\n",
       " '/store/apps/developer?id=Univision+Communications+Inc.',\n",
       " '/store/apps/developer?id=Warrior+Eagle',\n",
       " '/store/apps/details?id=com.fanduel.android.self',\n",
       " '/store/apps/developer?id=ESPN+Inc',\n",
       " '/store/apps/developer?id=TeamSnap,+Inc.',\n",
       " '/store/apps/details?id=tv.fubo.mobile',\n",
       " '/store/apps/developer?id=OrganicDow',\n",
       " '/store/apps/details?id=com.july.univision',\n",
       " '/store/apps/developer?id=FanDuel',\n",
       " '/store/apps/details?id=com.sportngin.android',\n",
       " '/store/apps/details?id=com.teamsnap.teamsnap',\n",
       " '/store/apps/developer?id=NBA+Digital',\n",
       " '/store/apps/details?id=com.speedboat.jetski.racing.simulator',\n",
       " '/store/apps/details?id=com.nbcuni.nbcsports.gold',\n",
       " '/store/apps/dev?id=8331818305029646302',\n",
       " '/store/apps/developer?id=BAMTECH+LLC',\n",
       " '/store/apps/developer?id=DAZN',\n",
       " 'https://payments.google.com/termsOfService?hl=en_US',\n",
       " '/store/apps/details?id=com.bottle.shoot.archery.game',\n",
       " '/store/apps/developer?id=DraftKings,+Inc.',\n",
       " '/store/apps/details?id=com.affinity.dallas_football',\n",
       " '/store/apps/developer?id=Madison+Square+Garden',\n",
       " '/store/apps/details?id=sneakercrush.mobile.sc',\n",
       " '/store/apps/details?id=com.johneyboy.whitetaildeercalls',\n",
       " '/store/apps/details?id=com.theathletic',\n",
       " '/store/apps/developer?id=Nielsen+Family+Creations',\n",
       " '/store/apps/developer?id=Influence+Mobile,+Inc.',\n",
       " 'https://play.google.com/intl/en-US_us/about/play-terms.html',\n",
       " '/store/apps/details?id=com.huntstand.core',\n",
       " 'http://developer.android.com/index.html',\n",
       " '/store/apps/developer?id=GolfNow+-+Mobile+Development+Team',\n",
       " '/store/apps/developer?id=CBS+Interactive,+Inc.',\n",
       " '/store/apps/details?id=com.water.surfingrace.motorbike.stunt',\n",
       " '/store/apps/developer?id=PGA+TOUR',\n",
       " '/store/apps/developer?id=Constr',\n",
       " '/store/apps/developer?id=Topgolf',\n",
       " '/store/apps/developer?id=Dallas+Cowboys',\n",
       " '/store/apps/details?id=arm.chest.fit.fitness.men',\n",
       " '/store/apps/dev?id=7468190409947973272',\n",
       " '/store/apps/details?id=air.WatchESPN',\n",
       " '/store/apps/developer?id=Agile+Sports',\n",
       " '/store/apps/details?id=com.gotv.nflgamecenter.us.lite',\n",
       " '/store/apps/developer?id=NFL+HD+Live',\n",
       " '/store/apps/details?id=com.livesports.mobile.footballivetv',\n",
       " '/store/apps/details?id=com.bleacherreport.android.teamstream',\n",
       " '/store/apps/details?id=com.bambo.soccer.world.league.cup.score.goal',\n",
       " '/store/apps/details?id=com.dazn',\n",
       " '/store/apps/developer?id=Mini+Sports',\n",
       " '/store/apps/developer?id=Ohome+Fancy',\n",
       " '/store/apps/details?id=com.foxsports.android',\n",
       " '/store/apps/developer?id=NBCUniversal+Media,+LLC',\n",
       " 'http://www.google.com/intl/en-US_us/policies/privacy/',\n",
       " '/store/apps/developer?id=Sport+Streaming',\n",
       " '/store/apps/details?id=com.watersurfing.carstunt.racing.simulator',\n",
       " '/store/apps/developer?id=beIN+MEDIA+GROUP',\n",
       " '/store/apps/details?id=com.beinsports.andcontent',\n",
       " '/store/apps/details?id=games.mini.sports.play.world.soccer',\n",
       " '/store/apps/details?id=com.msgi.msggo',\n",
       " '/store/apps/developer?id=FOX+Sports+Interactive',\n",
       " '/store/apps/details?id=com.sportstreaming.nflfootball',\n",
       " '/store/apps/developer?id=APPCENTRAL',\n",
       " '/store/apps/details?id=de.motain.iliga',\n",
       " '/store/apps/developer?id=onXmaps',\n",
       " '/store/apps/details?id=com.handmark.sportcaster',\n",
       " '/store/apps/details?id=com.espn.score_center',\n",
       " '/store/apps/dev?id=5536369398281991413',\n",
       " 'https://payments.google.com/legaldocument?family=0.privacynotice&hl=en_US',\n",
       " '/store/apps/developer?id=Fishbrain',\n",
       " '/store/apps/developer?id=The+Athletic+Media+Company',\n",
       " '/store/apps/developer?id=fuboTV',\n",
       " '/store/apps/dev?id=8387658909865206470',\n",
       " '/store/apps/details?id=com.unoicmaui.nfl.dauloanh.mtoc.bonaohai',\n",
       " '/store/apps/details?id=com.yahoo.mobile.client.android.fantasyfootball',\n",
       " '/store/apps/details?id=com.foxsports.videogo',\n",
       " '/store/apps/details?id=com.teamapp.teamapp',\n",
       " 'https://play.google.com/artists',\n",
       " '/store/apps/details?id=com.golflogix.ui',\n",
       " '/store/apps/details?id=com.nhl.gc1112.free']"
      ]
     },
     "execution_count": 13,
     "metadata": {},
     "output_type": "execute_result"
    }
   ],
   "source": [
    "sports = requests.get('https://play.google.com/store/apps/category/SPORTS/collection/topselling_free')\n",
    "sports_html = sports.text #data\n",
    "sports_data = BeautifulSoup(sports_html)\n",
    "def get_links(data):\n",
    "    link_list = []\n",
    "    for link in data.findAll('a'):\n",
    "        get_link = link.get('href')\n",
    "        link_list.append(get_link)\n",
    "    return link_list\n",
    "links = get_links(sports_data)\n",
    "del links[0:107]\n",
    "sports_links = list(set(links))\n",
    "sports_links"
   ]
  },
  {
   "cell_type": "code",
   "execution_count": 4,
   "metadata": {},
   "outputs": [
    {
     "data": {
      "text/plain": [
       "['/store/apps/dev?id=8929232438554100687',\n",
       " '/store/apps/details?id=com.cisco.webex.meetings',\n",
       " '/store/apps/developer?id=Fiverr',\n",
       " '/store/apps/details?id=com.security.antivirus.cleaner.guard',\n",
       " '/store/apps/details?id=com.microsoft.office.lync15',\n",
       " '/store/apps/details?id=com.google.android.apps.meetings',\n",
       " '/store/apps/details?id=com.shopify.logomaker.hatchful',\n",
       " '/store/apps/details?id=com.workday.workdroidapp',\n",
       " '/store/apps/details?id=com.logmein.gotowebinar',\n",
       " '/store/apps/dev?id=7516171781015428735',\n",
       " '/store/apps/dev?id=6860682062931868151',\n",
       " '/store/apps/details?id=com.airwatch.androidagent',\n",
       " '/store/apps/details?id=com.google.android.apps.vega',\n",
       " '/store/apps/details?id=com.linkedin.android.jobs.jobseeker',\n",
       " '/store/apps/developer?id=BEDPAGE',\n",
       " '/store/apps/details?id=com.thisclicks.wiw',\n",
       " '/store/apps/details?id=com.usps',\n",
       " '/store/apps/developer?id=Apps+You+Love',\n",
       " '/store/apps/details?id=com.walmart.wfm',\n",
       " '/store/apps/details?id=com.fedex.ida.android',\n",
       " '/store/apps/dev?id=5023482540302634439',\n",
       " '/store/apps/developer?id=Duo+Security,+Inc.',\n",
       " '/store/apps/developer?id=Amway+Corp.',\n",
       " '/store/apps/details?id=com.intuit.quickbooks',\n",
       " '/store/apps/developer?id=Metro,+a+brand+of+T-Mobile+USA,+Inc',\n",
       " '/store/apps/details?id=com.ziprecruiter.android.release',\n",
       " '/store/apps/details?id=com.ubercab.driver',\n",
       " '/store/apps/dev?id=5700313618786177705',\n",
       " '/store/apps/dev?id=7684130598443521301',\n",
       " '/store/apps/developer?id=zoom.us',\n",
       " '/store/apps/developer?id=TMX+FINANCE+LLC',\n",
       " '/store/apps/details?id=com.hirevue.candidate.generic',\n",
       " '/store/apps/details?id=com.snagajob.jobseeker',\n",
       " '/store/apps/developer?id=CoolMobileSolution',\n",
       " '/store/apps/details?id=com.steady.steadyapp.com',\n",
       " '/store/apps/details?id=com.sideline.phone.number',\n",
       " '/store/apps/details?id=com.lyft.android.driver',\n",
       " '/store/apps/details?id=com.appxy.tinyscanner',\n",
       " '/store/apps/developer?id=GoDaddy+Operating+Company,+LLC',\n",
       " '/store/apps/developer?id=UPS',\n",
       " '/store/apps/details?id=com.facebook.pages.app',\n",
       " '/store/apps/developer?id=Kronos+Incorporated',\n",
       " '/store/apps/details?id=com.joinhomebase.homebase.homebase',\n",
       " '/store/apps/details?id=com.Slack',\n",
       " 'https://support.google.com/googleplay/?p=about_play',\n",
       " 'https://play.google.com/artists',\n",
       " '/store/apps/developer?id=Dayforce',\n",
       " '/store/apps/details?id=com.paylocity.paylocitymobile',\n",
       " '/store/apps/details?id=com.bedpage',\n",
       " '/store/apps/details?id=com.etsy.android.soe',\n",
       " '/store/apps/details?id=com.godaddy.gdm.smartline',\n",
       " '/store/apps/dev?id=7987416923533646496',\n",
       " '/store/apps/details?id=com.indeed.android.jobsearch',\n",
       " '/store/apps/developer?id=VMware+Workspace+ONE',\n",
       " '/store/apps/details?id=us.zoom.videomeetings',\n",
       " '/store/apps/developer?id=Slack+Technologies+Inc.',\n",
       " '/store/apps/dev?id=6629245766506578153',\n",
       " '/store/apps/details?id=com.adpmobile.android',\n",
       " '/store/apps/developer?id=Etsy,+Inc',\n",
       " '/store/apps/developer?id=Paychex,+Inc',\n",
       " '/store/apps/developer?id=Concur',\n",
       " '/store/apps/developer?id=LogMeIn,+Inc.',\n",
       " '/store/apps/details?id=com.jobrapp.jobr',\n",
       " '/store/apps/developer?id=Paycor,+Inc.',\n",
       " '/store/apps/details?id=com.glassdoor.app',\n",
       " '/store/apps/details?id=com.ups.mobile.android',\n",
       " '/store/apps/details?id=com.simplescan.scanner',\n",
       " '/store/apps/details?id=com.kronos.mobile.android',\n",
       " '/store/apps/details?id=com.crewapp.android.crew',\n",
       " '/store/apps/developer?id=Cisco+Systems,+Inc.',\n",
       " '/store/apps/details?id=com.microsoft.teams',\n",
       " '/store/apps/developer?id=HireVue',\n",
       " '/store/apps/developer?id=Workday,+Inc.',\n",
       " '/store/apps/dev?id=5959335544576785738',\n",
       " 'https://payments.google.com/termsOfService?hl=en_US',\n",
       " '/store/apps/dev?id=4878871734928263649',\n",
       " '/store/apps/details?id=com.concur.breeze',\n",
       " '/store/apps/details?id=com.azure.authenticator',\n",
       " '/store/apps/developer?id=Monster+Worldwide',\n",
       " '/store/apps/developer?id=Indeed+Jobs',\n",
       " '/store/apps/details?id=com.coolmobilesolution.fastscannerfree',\n",
       " '/store/apps/developer?id=Walmart',\n",
       " '/store/apps/details?id=com.fiverr.fiverr',\n",
       " '/store/apps/developer?id=ADP,+LLC',\n",
       " '/store/apps/dev?id=6720847872553662727',\n",
       " '/store/apps/details?id=com.metropcs.service.vvm',\n",
       " 'https://play.google.com/intl/en-US_us/about/play-terms.html',\n",
       " '/store/apps/developer?id=Glassdoor+Inc.',\n",
       " '/store/apps/details?id=com.amway.americas.NA.businesscenter',\n",
       " '/store/apps/developer?id=FedEx',\n",
       " 'http://developer.android.com/index.html',\n",
       " '/store/apps/developer?id=Facebook',\n",
       " '/store/apps/details?id=com.microsoft.windowsintune.companyportal',\n",
       " '/store/apps/developer?id=PayPal+Mobile',\n",
       " '/store/apps/details?id=com.merlinjobs.android',\n",
       " '/store/apps/developer?id=Speramus,+Inc.',\n",
       " '/store/apps/developer?id=Appxy',\n",
       " '/store/apps/details?id=com.bg.flyermaker',\n",
       " '/store/apps/developer?id=When+I+Work,+Inc.',\n",
       " '/store/apps/developer?id=Easy+Inc.',\n",
       " '/store/apps/details?id=net.itx.paychex',\n",
       " '/store/apps/developer?id=Steady+Platform,+Inc.',\n",
       " 'http://www.google.com/intl/en-US_us/policies/privacy/',\n",
       " '/store/apps/details?id=com.ultimatesoftware.ultipromobile',\n",
       " '/store/apps/dev?id=7908612043055486674',\n",
       " '/store/apps/dev?id=7758635825238926683',\n",
       " '/store/apps/details?id=com.gotomeeting',\n",
       " '/store/apps/developer?id=United+States+Postal+Service%C2%AE',\n",
       " '/store/apps/details?id=com.walmartone.android',\n",
       " '/store/apps/details?id=com.titlemax.customerapp',\n",
       " 'https://payments.google.com/legaldocument?family=0.privacynotice&hl=en_US',\n",
       " '/store/apps/details?id=com.duosecurity.duomobile',\n",
       " '/store/apps/developer?id=Fast+Atom',\n",
       " '/store/apps/details?id=com.squareup',\n",
       " '/store/apps/details?id=com.dayforce.mobile',\n",
       " '/store/apps/details?id=unclaimed.money',\n",
       " '/store/apps/details?id=com.paypal.merchant.client',\n",
       " '/store/apps/developer?id=Paylocity',\n",
       " '/store/apps/developer?id=The+Ultimate+Software+Group,+Inc.',\n",
       " '/store/apps/details?id=com.paycor.perform',\n",
       " '/store/apps/developer?id=Pinger,+Inc']"
      ]
     },
     "execution_count": 4,
     "metadata": {},
     "output_type": "execute_result"
    }
   ],
   "source": [
    "sports = requests.get('https://play.google.com/store/apps/category/BUSINESS/collection/topselling_free')\n",
    "sports_html = sports.text #data\n",
    "sports_data = BeautifulSoup(sports_html)\n",
    "def get_links(data):\n",
    "    link_list = []\n",
    "    for link in data.findAll('a'):\n",
    "        get_link = link.get('href')\n",
    "        link_list.append(get_link)\n",
    "    return link_list\n",
    "links = get_links(sports_data)\n",
    "del links[0:107]\n",
    "sports_links = list(set(links))\n",
    "sports_links"
   ]
  },
  {
   "cell_type": "code",
   "execution_count": 10,
   "metadata": {},
   "outputs": [],
   "source": [
    "new_list = [app for app in sports_links if app.find('details') != -1] "
   ]
  },
  {
   "cell_type": "code",
   "execution_count": 12,
   "metadata": {},
   "outputs": [
    {
     "data": {
      "text/plain": [
       "60"
      ]
     },
     "execution_count": 12,
     "metadata": {},
     "output_type": "execute_result"
    }
   ],
   "source": [
    "len(new_list)"
   ]
  },
  {
   "cell_type": "code",
   "execution_count": null,
   "metadata": {},
   "outputs": [],
   "source": []
  },
  {
   "cell_type": "code",
   "execution_count": null,
   "metadata": {},
   "outputs": [],
   "source": []
  },
  {
   "cell_type": "code",
   "execution_count": null,
   "metadata": {},
   "outputs": [],
   "source": []
  },
  {
   "cell_type": "code",
   "execution_count": null,
   "metadata": {},
   "outputs": [],
   "source": []
  },
  {
   "cell_type": "code",
   "execution_count": null,
   "metadata": {},
   "outputs": [],
   "source": []
  },
  {
   "cell_type": "code",
   "execution_count": null,
   "metadata": {},
   "outputs": [],
   "source": []
  },
  {
   "cell_type": "code",
   "execution_count": 1,
   "metadata": {},
   "outputs": [],
   "source": [
    "from jeffs_webscraper import ListingBuilder, CraigsListScraper, ListingParser"
   ]
  },
  {
   "cell_type": "code",
   "execution_count": null,
   "metadata": {},
   "outputs": [],
   "source": []
  },
  {
   "cell_type": "code",
   "execution_count": 2,
   "metadata": {},
   "outputs": [],
   "source": [
    "lb = ListingBuilder()"
   ]
  },
  {
   "cell_type": "code",
   "execution_count": 3,
   "metadata": {},
   "outputs": [
    {
     "name": "stderr",
     "output_type": "stream",
     "text": [
      "/Users/bravo/ClassifierProject/ItemCategoryClassifier/jeffs_webscraper.py:33: UserWarning: No parser was explicitly specified, so I'm using the best available HTML parser for this system (\"lxml\"). This usually isn't a problem, but if you run this code on another system, or in a different virtual environment, it may use a different parser and behave differently.\n",
      "\n",
      "The code that caused this warning is on line 33 of the file /Users/bravo/ClassifierProject/ItemCategoryClassifier/jeffs_webscraper.py. To get rid of this warning, pass the additional argument 'features=\"lxml\"' to the BeautifulSoup constructor.\n",
      "\n",
      "  craigslist_soup = BeautifulSoup(craigslist_html)\n"
     ]
    },
    {
     "data": {
      "text/plain": [
       "[' NFL Enterprises LLC    1      ']"
      ]
     },
     "execution_count": 3,
     "metadata": {},
     "output_type": "execute_result"
    }
   ],
   "source": [
    "lb.run()"
   ]
  },
  {
   "cell_type": "code",
   "execution_count": null,
   "metadata": {},
   "outputs": [],
   "source": []
  }
 ],
 "metadata": {
  "kernelspec": {
   "display_name": "Python 3",
   "language": "python",
   "name": "python3"
  },
  "language_info": {
   "codemirror_mode": {
    "name": "ipython",
    "version": 3
   },
   "file_extension": ".py",
   "mimetype": "text/x-python",
   "name": "python",
   "nbconvert_exporter": "python",
   "pygments_lexer": "ipython3",
   "version": "3.6.8"
  }
 },
 "nbformat": 4,
 "nbformat_minor": 2
}
